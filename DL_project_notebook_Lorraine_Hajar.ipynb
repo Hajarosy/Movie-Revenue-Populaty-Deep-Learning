{
 "cells": [
  {
   "cell_type": "code",
   "execution_count": 1,
   "metadata": {
    "collapsed": true
   },
   "outputs": [],
   "source": [
    "import pandas as pd\n",
    "import numpy as np\n",
    "import datetime\n",
    "import copy\n",
    "import matplotlib.pyplot as plt\n",
    "from sklearn.model_selection import train_test_split\n",
    "import seaborn as sns\n",
    "%matplotlib inline"
   ]
  },
  {
   "cell_type": "code",
   "execution_count": 2,
   "metadata": {
    "collapsed": true,
    "scrolled": true
   },
   "outputs": [],
   "source": [
    "df = pd.read_csv(\"movies_metadata.csv\", sep=',', low_memory=False)"
   ]
  },
  {
   "cell_type": "code",
   "execution_count": null,
   "metadata": {
    "collapsed": true
   },
   "outputs": [],
   "source": [
    "df.info()"
   ]
  },
  {
   "cell_type": "code",
   "execution_count": null,
   "metadata": {
    "collapsed": true
   },
   "outputs": [],
   "source": [
    "df.head().T"
   ]
  },
  {
   "cell_type": "code",
   "execution_count": 3,
   "metadata": {
    "collapsed": true
   },
   "outputs": [],
   "source": [
    "df = df.drop(['imdb_id','original_title','adult', 'id', 'overview', 'tagline'],  axis=1)"
   ]
  },
  {
   "cell_type": "code",
   "execution_count": 4,
   "metadata": {
    "collapsed": true
   },
   "outputs": [],
   "source": [
    "df['revenue'] = df['revenue'].replace(0, np.nan)"
   ]
  },
  {
   "cell_type": "code",
   "execution_count": 5,
   "metadata": {},
   "outputs": [
    {
     "data": {
      "text/plain": [
       "(36576, 18)"
      ]
     },
     "execution_count": 5,
     "metadata": {},
     "output_type": "execute_result"
    }
   ],
   "source": [
    "df['budget'] = pd.to_numeric(df['budget'], errors='coerce')\n",
    "df['budget'] = df['budget'].replace(0, np.nan)\n",
    "df[df['budget'].isnull()].shape"
   ]
  },
  {
   "cell_type": "code",
   "execution_count": 6,
   "metadata": {},
   "outputs": [
    {
     "data": {
      "text/plain": [
       "(0, 19)"
      ]
     },
     "execution_count": 6,
     "metadata": {},
     "output_type": "execute_result"
    }
   ],
   "source": [
    "df['year'] = pd.to_datetime(df['release_date'], errors='coerce').apply(lambda x: str(x).split('-')[0] if x != np.nan else np.nan)\n",
    "df[df['year'].isnull()].shape"
   ]
  },
  {
   "cell_type": "code",
   "execution_count": 7,
   "metadata": {
    "collapsed": true
   },
   "outputs": [],
   "source": [
    "def convert_int(x):\n",
    "    if pd.notnull(x):\n",
    "        return 1\n",
    "    else:\n",
    "        return 0\n",
    "\n",
    "df['belongs_to_collection'] = df['belongs_to_collection'].apply(lambda x: convert_int(x))"
   ]
  },
  {
   "cell_type": "code",
   "execution_count": 8,
   "metadata": {
    "collapsed": true
   },
   "outputs": [],
   "source": [
    "import ast\n",
    "\n",
    "df['production_companies'] = df['production_companies'].fillna('[]').apply(ast.literal_eval)\n",
    "df['production_companies'] = df['production_companies'].apply(lambda x: [i['name'] for i in x] if isinstance(x, list) else [])\n",
    "\n",
    "df['production_countries'] = df['production_countries'].fillna('[]').apply(ast.literal_eval)\n",
    "df['production_countries'] = df['production_countries'].apply(lambda x: [i['name'] for i in x] if isinstance(x, list) else [])\n",
    "\n",
    "df['genres'] = df['genres'].fillna('[]').apply(ast.literal_eval)\n",
    "df['genres'] = df['genres'].apply(lambda x: [i['name'] for i in x] if isinstance(x, list) else [])\n",
    "\n",
    "df['spoken_languages'] = df['spoken_languages'].fillna('[]').apply(ast.literal_eval)\n",
    "df['spoken_languages'] = df['spoken_languages'].apply(lambda x: [i['name'] for i in x] if isinstance(x, list) else [])\n",
    "\n",
    "\n"
   ]
  },
  {
   "cell_type": "code",
   "execution_count": 9,
   "metadata": {
    "collapsed": true
   },
   "outputs": [],
   "source": [
    "def clean_numeric(x):\n",
    "    try:\n",
    "        return float(x)\n",
    "    except:\n",
    "        return np.nan\n",
    "\n",
    "df['popularity'] = df['popularity'].apply(clean_numeric).astype('float')\n",
    "df['vote_count'] = df['vote_count'].apply(clean_numeric).astype('float')\n",
    "df['vote_average'] = df['vote_average'].apply(clean_numeric).astype('float')"
   ]
  },
  {
   "cell_type": "code",
   "execution_count": 10,
   "metadata": {
    "collapsed": true
   },
   "outputs": [],
   "source": [
    "df['vote_average'] = df['vote_average'].replace(0, np.nan)"
   ]
  },
  {
   "cell_type": "code",
   "execution_count": 11,
   "metadata": {},
   "outputs": [
    {
     "data": {
      "text/plain": [
       "<matplotlib.axes._subplots.AxesSubplot at 0x1118bfcf8>"
      ]
     },
     "execution_count": 11,
     "metadata": {},
     "output_type": "execute_result"
    },
    {
     "data": {
      "image/png": "[encoded data removed]",
      "text/plain": [
       "<matplotlib.figure.Figure at 0x1118ba5f8>"
      ]
     },
     "metadata": {},
     "output_type": "display_data"
    }
   ],
   "source": [
    "sns.distplot(df['vote_average'].fillna(df['vote_average'].median()))\n"
   ]
  },
  {
   "cell_type": "code",
   "execution_count": 12,
   "metadata": {
    "collapsed": true
   },
   "outputs": [],
   "source": [
    "month_order = ['Jan', 'Feb', 'Mar', 'Apr', 'May', 'Jun', 'Jul', 'Aug', 'Sep', 'Oct', 'Nov', 'Dec']\n",
    "day_order = ['Mon', 'Tue', 'Wed', 'Thu', 'Fri', 'Sat', 'Sun']"
   ]
  },
  {
   "cell_type": "code",
   "execution_count": 13,
   "metadata": {
    "collapsed": true
   },
   "outputs": [],
   "source": [
    "def get_month(x):\n",
    "    try:\n",
    "        return month_order[int(str(x).split('-')[1]) - 1]\n",
    "    except:\n",
    "        return np.nan\n",
    "\n",
    "df['month'] = df['release_date'].apply(get_month)"
   ]
  },
  {
   "cell_type": "code",
   "execution_count": 14,
   "metadata": {
    "collapsed": true
   },
   "outputs": [],
   "source": [
    "def get_day(x):\n",
    "    try:\n",
    "        year, month, day = ( x.split('-'))    \n",
    "        answer = datetime.date(int(year), int(month), int(day)).weekday()\n",
    "        return day_order[answer]\n",
    "    except:\n",
    "        return np.nan\n",
    "\n",
    "df['day'] = df['release_date'].apply(get_day)"
   ]
  },
  {
   "cell_type": "code",
   "execution_count": 15,
   "metadata": {
    "collapsed": true
   },
   "outputs": [],
   "source": [
    "df['runtime'] = df['runtime'].astype('float')"
   ]
  },
  {
   "cell_type": "code",
   "execution_count": 16,
   "metadata": {},
   "outputs": [
    {
     "name": "stdout",
     "output_type": "stream",
     "text": [
      "<class 'pandas.core.frame.DataFrame'>\n",
      "RangeIndex: 45466 entries, 0 to 45465\n",
      "Data columns (total 21 columns):\n",
      "belongs_to_collection    45466 non-null int64\n",
      "budget                   8890 non-null float64\n",
      "genres                   45466 non-null object\n",
      "homepage                 7782 non-null object\n",
      "original_language        45455 non-null object\n",
      "popularity               45460 non-null float64\n",
      "poster_path              45080 non-null object\n",
      "production_companies     45466 non-null object\n",
      "production_countries     45466 non-null object\n",
      "release_date             45379 non-null object\n",
      "revenue                  7408 non-null float64\n",
      "runtime                  45203 non-null float64\n",
      "spoken_languages         45466 non-null object\n",
      "status                   45379 non-null object\n",
      "title                    45460 non-null object\n",
      "video                    45460 non-null object\n",
      "vote_average             42462 non-null float64\n",
      "vote_count               45460 non-null float64\n",
      "year                     45466 non-null object\n",
      "month                    45376 non-null object\n",
      "day                      45376 non-null object\n",
      "dtypes: float64(6), int64(1), object(14)\n",
      "memory usage: 7.3+ MB\n"
     ]
    }
   ],
   "source": [
    "df.info()"
   ]
  },
  {
   "cell_type": "markdown",
   "metadata": {},
   "source": [
    "# Préparation du Dataframe utilisé pour l'étude de revenus"
   ]
  },
  {
   "cell_type": "code",
   "execution_count": 17,
   "metadata": {
    "collapsed": true
   },
   "outputs": [],
   "source": [
    "df_rev= copy.copy(df)"
   ]
  },
  {
   "cell_type": "code",
   "execution_count": 18,
   "metadata": {
    "scrolled": true
   },
   "outputs": [
    {
     "data": {
      "text/html": [
       "<div>\n",
       "<style>\n",
       "    .dataframe thead tr:only-child th {\n",
       "        text-align: right;\n",
       "    }\n",
       "\n",
       "    .dataframe thead th {\n",
       "        text-align: left;\n",
       "    }\n",
       "\n",
       "    .dataframe tbody tr th {\n",
       "        vertical-align: top;\n",
       "    }\n",
       "</style>\n",
       "<table border=\"1\" class=\"dataframe\">\n",
       "  <thead>\n",
       "    <tr style=\"text-align: right;\">\n",
       "      <th></th>\n",
       "      <th>0</th>\n",
       "      <th>1</th>\n",
       "      <th>2</th>\n",
       "      <th>3</th>\n",
       "      <th>4</th>\n",
       "    </tr>\n",
       "  </thead>\n",
       "  <tbody>\n",
       "    <tr>\n",
       "      <th>belongs_to_collection</th>\n",
       "      <td>1</td>\n",
       "      <td>0</td>\n",
       "      <td>1</td>\n",
       "      <td>0</td>\n",
       "      <td>1</td>\n",
       "    </tr>\n",
       "    <tr>\n",
       "      <th>budget</th>\n",
       "      <td>3e+07</td>\n",
       "      <td>6.5e+07</td>\n",
       "      <td>NaN</td>\n",
       "      <td>1.6e+07</td>\n",
       "      <td>NaN</td>\n",
       "    </tr>\n",
       "    <tr>\n",
       "      <th>genres</th>\n",
       "      <td>[Animation, Comedy, Family]</td>\n",
       "      <td>[Adventure, Fantasy, Family]</td>\n",
       "      <td>[Romance, Comedy]</td>\n",
       "      <td>[Comedy, Drama, Romance]</td>\n",
       "      <td>[Comedy]</td>\n",
       "    </tr>\n",
       "    <tr>\n",
       "      <th>homepage</th>\n",
       "      <td>http://toystory.disney.com/toy-story</td>\n",
       "      <td>NaN</td>\n",
       "      <td>NaN</td>\n",
       "      <td>NaN</td>\n",
       "      <td>NaN</td>\n",
       "    </tr>\n",
       "    <tr>\n",
       "      <th>original_language</th>\n",
       "      <td>en</td>\n",
       "      <td>en</td>\n",
       "      <td>en</td>\n",
       "      <td>en</td>\n",
       "      <td>en</td>\n",
       "    </tr>\n",
       "    <tr>\n",
       "      <th>popularity</th>\n",
       "      <td>21.9469</td>\n",
       "      <td>17.0155</td>\n",
       "      <td>11.7129</td>\n",
       "      <td>3.85949</td>\n",
       "      <td>8.38752</td>\n",
       "    </tr>\n",
       "    <tr>\n",
       "      <th>poster_path</th>\n",
       "      <td>/rhIRbceoE9lR4veEXuwCC2wARtG.jpg</td>\n",
       "      <td>/vzmL6fP7aPKNKPRTFnZmiUfciyV.jpg</td>\n",
       "      <td>/6ksm1sjKMFLbO7UY2i6G1ju9SML.jpg</td>\n",
       "      <td>/16XOMpEaLWkrcPqSQqhTmeJuqQl.jpg</td>\n",
       "      <td>/e64sOI48hQXyru7naBFyssKFxVd.jpg</td>\n",
       "    </tr>\n",
       "    <tr>\n",
       "      <th>production_companies</th>\n",
       "      <td>[Pixar Animation Studios]</td>\n",
       "      <td>[TriStar Pictures, Teitler Film, Interscope Co...</td>\n",
       "      <td>[Warner Bros., Lancaster Gate]</td>\n",
       "      <td>[Twentieth Century Fox Film Corporation]</td>\n",
       "      <td>[Sandollar Productions, Touchstone Pictures]</td>\n",
       "    </tr>\n",
       "    <tr>\n",
       "      <th>production_countries</th>\n",
       "      <td>[United States of America]</td>\n",
       "      <td>[United States of America]</td>\n",
       "      <td>[United States of America]</td>\n",
       "      <td>[United States of America]</td>\n",
       "      <td>[United States of America]</td>\n",
       "    </tr>\n",
       "    <tr>\n",
       "      <th>release_date</th>\n",
       "      <td>1995-10-30</td>\n",
       "      <td>1995-12-15</td>\n",
       "      <td>1995-12-22</td>\n",
       "      <td>1995-12-22</td>\n",
       "      <td>1995-02-10</td>\n",
       "    </tr>\n",
       "    <tr>\n",
       "      <th>revenue</th>\n",
       "      <td>3.73554e+08</td>\n",
       "      <td>2.62797e+08</td>\n",
       "      <td>NaN</td>\n",
       "      <td>8.14522e+07</td>\n",
       "      <td>7.65789e+07</td>\n",
       "    </tr>\n",
       "    <tr>\n",
       "      <th>runtime</th>\n",
       "      <td>81</td>\n",
       "      <td>104</td>\n",
       "      <td>101</td>\n",
       "      <td>127</td>\n",
       "      <td>106</td>\n",
       "    </tr>\n",
       "    <tr>\n",
       "      <th>spoken_languages</th>\n",
       "      <td>[English]</td>\n",
       "      <td>[English, Français]</td>\n",
       "      <td>[English]</td>\n",
       "      <td>[English]</td>\n",
       "      <td>[English]</td>\n",
       "    </tr>\n",
       "    <tr>\n",
       "      <th>status</th>\n",
       "      <td>Released</td>\n",
       "      <td>Released</td>\n",
       "      <td>Released</td>\n",
       "      <td>Released</td>\n",
       "      <td>Released</td>\n",
       "    </tr>\n",
       "    <tr>\n",
       "      <th>title</th>\n",
       "      <td>Toy Story</td>\n",
       "      <td>Jumanji</td>\n",
       "      <td>Grumpier Old Men</td>\n",
       "      <td>Waiting to Exhale</td>\n",
       "      <td>Father of the Bride Part II</td>\n",
       "    </tr>\n",
       "    <tr>\n",
       "      <th>video</th>\n",
       "      <td>False</td>\n",
       "      <td>False</td>\n",
       "      <td>False</td>\n",
       "      <td>False</td>\n",
       "      <td>False</td>\n",
       "    </tr>\n",
       "    <tr>\n",
       "      <th>vote_average</th>\n",
       "      <td>7.7</td>\n",
       "      <td>6.9</td>\n",
       "      <td>6.5</td>\n",
       "      <td>6.1</td>\n",
       "      <td>5.7</td>\n",
       "    </tr>\n",
       "    <tr>\n",
       "      <th>vote_count</th>\n",
       "      <td>5415</td>\n",
       "      <td>2413</td>\n",
       "      <td>92</td>\n",
       "      <td>34</td>\n",
       "      <td>173</td>\n",
       "    </tr>\n",
       "    <tr>\n",
       "      <th>year</th>\n",
       "      <td>1995</td>\n",
       "      <td>1995</td>\n",
       "      <td>1995</td>\n",
       "      <td>1995</td>\n",
       "      <td>1995</td>\n",
       "    </tr>\n",
       "    <tr>\n",
       "      <th>month</th>\n",
       "      <td>Oct</td>\n",
       "      <td>Dec</td>\n",
       "      <td>Dec</td>\n",
       "      <td>Dec</td>\n",
       "      <td>Feb</td>\n",
       "    </tr>\n",
       "    <tr>\n",
       "      <th>day</th>\n",
       "      <td>Mon</td>\n",
       "      <td>Fri</td>\n",
       "      <td>Fri</td>\n",
       "      <td>Fri</td>\n",
       "      <td>Fri</td>\n",
       "    </tr>\n",
       "  </tbody>\n",
       "</table>\n",
       "</div>"
      ],
      "text/plain": [
       "                                                          0  \\\n",
       "belongs_to_collection                                     1   \n",
       "budget                                                3e+07   \n",
       "genres                          [Animation, Comedy, Family]   \n",
       "homepage               http://toystory.disney.com/toy-story   \n",
       "original_language                                        en   \n",
       "popularity                                          21.9469   \n",
       "poster_path                /rhIRbceoE9lR4veEXuwCC2wARtG.jpg   \n",
       "production_companies              [Pixar Animation Studios]   \n",
       "production_countries             [United States of America]   \n",
       "release_date                                     1995-10-30   \n",
       "revenue                                         3.73554e+08   \n",
       "runtime                                                  81   \n",
       "spoken_languages                                  [English]   \n",
       "status                                             Released   \n",
       "title                                             Toy Story   \n",
       "video                                                 False   \n",
       "vote_average                                            7.7   \n",
       "vote_count                                             5415   \n",
       "year                                                   1995   \n",
       "month                                                   Oct   \n",
       "day                                                     Mon   \n",
       "\n",
       "                                                                       1  \\\n",
       "belongs_to_collection                                                  0   \n",
       "budget                                                           6.5e+07   \n",
       "genres                                      [Adventure, Fantasy, Family]   \n",
       "homepage                                                             NaN   \n",
       "original_language                                                     en   \n",
       "popularity                                                       17.0155   \n",
       "poster_path                             /vzmL6fP7aPKNKPRTFnZmiUfciyV.jpg   \n",
       "production_companies   [TriStar Pictures, Teitler Film, Interscope Co...   \n",
       "production_countries                          [United States of America]   \n",
       "release_date                                                  1995-12-15   \n",
       "revenue                                                      2.62797e+08   \n",
       "runtime                                                              104   \n",
       "spoken_languages                                     [English, Français]   \n",
       "status                                                          Released   \n",
       "title                                                            Jumanji   \n",
       "video                                                              False   \n",
       "vote_average                                                         6.9   \n",
       "vote_count                                                          2413   \n",
       "year                                                                1995   \n",
       "month                                                                Dec   \n",
       "day                                                                  Fri   \n",
       "\n",
       "                                                      2  \\\n",
       "belongs_to_collection                                 1   \n",
       "budget                                              NaN   \n",
       "genres                                [Romance, Comedy]   \n",
       "homepage                                            NaN   \n",
       "original_language                                    en   \n",
       "popularity                                      11.7129   \n",
       "poster_path            /6ksm1sjKMFLbO7UY2i6G1ju9SML.jpg   \n",
       "production_companies     [Warner Bros., Lancaster Gate]   \n",
       "production_countries         [United States of America]   \n",
       "release_date                                 1995-12-22   \n",
       "revenue                                             NaN   \n",
       "runtime                                             101   \n",
       "spoken_languages                              [English]   \n",
       "status                                         Released   \n",
       "title                                  Grumpier Old Men   \n",
       "video                                             False   \n",
       "vote_average                                        6.5   \n",
       "vote_count                                           92   \n",
       "year                                               1995   \n",
       "month                                               Dec   \n",
       "day                                                 Fri   \n",
       "\n",
       "                                                              3  \\\n",
       "belongs_to_collection                                         0   \n",
       "budget                                                  1.6e+07   \n",
       "genres                                 [Comedy, Drama, Romance]   \n",
       "homepage                                                    NaN   \n",
       "original_language                                            en   \n",
       "popularity                                              3.85949   \n",
       "poster_path                    /16XOMpEaLWkrcPqSQqhTmeJuqQl.jpg   \n",
       "production_companies   [Twentieth Century Fox Film Corporation]   \n",
       "production_countries                 [United States of America]   \n",
       "release_date                                         1995-12-22   \n",
       "revenue                                             8.14522e+07   \n",
       "runtime                                                     127   \n",
       "spoken_languages                                      [English]   \n",
       "status                                                 Released   \n",
       "title                                         Waiting to Exhale   \n",
       "video                                                     False   \n",
       "vote_average                                                6.1   \n",
       "vote_count                                                   34   \n",
       "year                                                       1995   \n",
       "month                                                       Dec   \n",
       "day                                                         Fri   \n",
       "\n",
       "                                                                  4  \n",
       "belongs_to_collection                                             1  \n",
       "budget                                                          NaN  \n",
       "genres                                                     [Comedy]  \n",
       "homepage                                                        NaN  \n",
       "original_language                                                en  \n",
       "popularity                                                  8.38752  \n",
       "poster_path                        /e64sOI48hQXyru7naBFyssKFxVd.jpg  \n",
       "production_companies   [Sandollar Productions, Touchstone Pictures]  \n",
       "production_countries                     [United States of America]  \n",
       "release_date                                             1995-02-10  \n",
       "revenue                                                 7.65789e+07  \n",
       "runtime                                                         106  \n",
       "spoken_languages                                          [English]  \n",
       "status                                                     Released  \n",
       "title                                   Father of the Bride Part II  \n",
       "video                                                         False  \n",
       "vote_average                                                    5.7  \n",
       "vote_count                                                      173  \n",
       "year                                                           1995  \n",
       "month                                                           Feb  \n",
       "day                                                             Fri  "
      ]
     },
     "execution_count": 18,
     "metadata": {},
     "output_type": "execute_result"
    }
   ],
   "source": [
    "df_rev.head().T"
   ]
  },
  {
   "cell_type": "code",
   "execution_count": 19,
   "metadata": {
    "collapsed": true
   },
   "outputs": [],
   "source": [
    "df_rev = df_rev.drop(['vote_count','vote_average','popularity','homepage', 'status','title','poster_path','video'], axis=1)"
   ]
  },
  {
   "cell_type": "code",
   "execution_count": 20,
   "metadata": {
    "collapsed": true
   },
   "outputs": [],
   "source": [
    "df_rev = df_rev[pd.notnull(df_rev['revenue'])]"
   ]
  },
  {
   "cell_type": "code",
   "execution_count": 21,
   "metadata": {
    "collapsed": true
   },
   "outputs": [],
   "source": [
    "def convert_list(x):\n",
    "    if x is not None:\n",
    "        if x==[]:\n",
    "            return 'Nan'\n",
    "        else :\n",
    "            return x[0]\n",
    "\n",
    "df_rev['genres'] = df_rev['genres'].apply(lambda x: convert_list(x))\n",
    "df_rev['production_companies'] = df_rev['production_companies'].apply(lambda x: convert_list(x))\n",
    "df_rev['production_countries'] = df_rev['production_countries'].apply(lambda x: convert_list(x))\n",
    "df_rev['spoken_languages'] = df_rev['spoken_languages'].apply(lambda x: convert_list(x))"
   ]
  },
  {
   "cell_type": "code",
   "execution_count": 22,
   "metadata": {
    "collapsed": true
   },
   "outputs": [],
   "source": [
    "for feature in df_rev.columns: \n",
    "    if df_rev[feature].dtype == 'object':\n",
    "        df_rev[feature] = pd.Categorical(df_rev[feature]).codes \n"
   ]
  },
  {
   "cell_type": "code",
   "execution_count": 23,
   "metadata": {
    "collapsed": true
   },
   "outputs": [],
   "source": [
    "df_rev['budget'].fillna(df['budget'].median(), inplace=True)"
   ]
  },
  {
   "cell_type": "code",
   "execution_count": 24,
   "metadata": {},
   "outputs": [
    {
     "data": {
      "text/html": [
       "<div>\n",
       "<style>\n",
       "    .dataframe thead tr:only-child th {\n",
       "        text-align: right;\n",
       "    }\n",
       "\n",
       "    .dataframe thead th {\n",
       "        text-align: left;\n",
       "    }\n",
       "\n",
       "    .dataframe tbody tr th {\n",
       "        vertical-align: top;\n",
       "    }\n",
       "</style>\n",
       "<table border=\"1\" class=\"dataframe\">\n",
       "  <thead>\n",
       "    <tr style=\"text-align: right;\">\n",
       "      <th></th>\n",
       "      <th>0</th>\n",
       "      <th>1</th>\n",
       "      <th>3</th>\n",
       "      <th>4</th>\n",
       "      <th>5</th>\n",
       "    </tr>\n",
       "  </thead>\n",
       "  <tbody>\n",
       "    <tr>\n",
       "      <th>belongs_to_collection</th>\n",
       "      <td>1.0</td>\n",
       "      <td>0.0</td>\n",
       "      <td>0.0</td>\n",
       "      <td>1.0</td>\n",
       "      <td>0.0</td>\n",
       "    </tr>\n",
       "    <tr>\n",
       "      <th>budget</th>\n",
       "      <td>30000000.0</td>\n",
       "      <td>65000000.0</td>\n",
       "      <td>16000000.0</td>\n",
       "      <td>8000000.0</td>\n",
       "      <td>60000000.0</td>\n",
       "    </tr>\n",
       "    <tr>\n",
       "      <th>genres</th>\n",
       "      <td>2.0</td>\n",
       "      <td>1.0</td>\n",
       "      <td>3.0</td>\n",
       "      <td>3.0</td>\n",
       "      <td>0.0</td>\n",
       "    </tr>\n",
       "    <tr>\n",
       "      <th>original_language</th>\n",
       "      <td>10.0</td>\n",
       "      <td>10.0</td>\n",
       "      <td>10.0</td>\n",
       "      <td>10.0</td>\n",
       "      <td>10.0</td>\n",
       "    </tr>\n",
       "    <tr>\n",
       "      <th>production_companies</th>\n",
       "      <td>1363.0</td>\n",
       "      <td>1809.0</td>\n",
       "      <td>1825.0</td>\n",
       "      <td>1536.0</td>\n",
       "      <td>1464.0</td>\n",
       "    </tr>\n",
       "    <tr>\n",
       "      <th>production_countries</th>\n",
       "      <td>74.0</td>\n",
       "      <td>74.0</td>\n",
       "      <td>74.0</td>\n",
       "      <td>74.0</td>\n",
       "      <td>74.0</td>\n",
       "    </tr>\n",
       "    <tr>\n",
       "      <th>release_date</th>\n",
       "      <td>1681.0</td>\n",
       "      <td>1693.0</td>\n",
       "      <td>1694.0</td>\n",
       "      <td>1625.0</td>\n",
       "      <td>1693.0</td>\n",
       "    </tr>\n",
       "    <tr>\n",
       "      <th>revenue</th>\n",
       "      <td>373554033.0</td>\n",
       "      <td>262797249.0</td>\n",
       "      <td>81452156.0</td>\n",
       "      <td>76578911.0</td>\n",
       "      <td>187436818.0</td>\n",
       "    </tr>\n",
       "    <tr>\n",
       "      <th>runtime</th>\n",
       "      <td>81.0</td>\n",
       "      <td>104.0</td>\n",
       "      <td>127.0</td>\n",
       "      <td>106.0</td>\n",
       "      <td>170.0</td>\n",
       "    </tr>\n",
       "    <tr>\n",
       "      <th>spoken_languages</th>\n",
       "      <td>10.0</td>\n",
       "      <td>10.0</td>\n",
       "      <td>10.0</td>\n",
       "      <td>10.0</td>\n",
       "      <td>10.0</td>\n",
       "    </tr>\n",
       "    <tr>\n",
       "      <th>year</th>\n",
       "      <td>77.0</td>\n",
       "      <td>77.0</td>\n",
       "      <td>77.0</td>\n",
       "      <td>77.0</td>\n",
       "      <td>77.0</td>\n",
       "    </tr>\n",
       "    <tr>\n",
       "      <th>month</th>\n",
       "      <td>10.0</td>\n",
       "      <td>2.0</td>\n",
       "      <td>2.0</td>\n",
       "      <td>3.0</td>\n",
       "      <td>2.0</td>\n",
       "    </tr>\n",
       "    <tr>\n",
       "      <th>day</th>\n",
       "      <td>1.0</td>\n",
       "      <td>0.0</td>\n",
       "      <td>0.0</td>\n",
       "      <td>0.0</td>\n",
       "      <td>0.0</td>\n",
       "    </tr>\n",
       "  </tbody>\n",
       "</table>\n",
       "</div>"
      ],
      "text/plain": [
       "                                 0            1           3           4  \\\n",
       "belongs_to_collection          1.0          0.0         0.0         1.0   \n",
       "budget                  30000000.0   65000000.0  16000000.0   8000000.0   \n",
       "genres                         2.0          1.0         3.0         3.0   \n",
       "original_language             10.0         10.0        10.0        10.0   \n",
       "production_companies        1363.0       1809.0      1825.0      1536.0   \n",
       "production_countries          74.0         74.0        74.0        74.0   \n",
       "release_date                1681.0       1693.0      1694.0      1625.0   \n",
       "revenue                373554033.0  262797249.0  81452156.0  76578911.0   \n",
       "runtime                       81.0        104.0       127.0       106.0   \n",
       "spoken_languages              10.0         10.0        10.0        10.0   \n",
       "year                          77.0         77.0        77.0        77.0   \n",
       "month                         10.0          2.0         2.0         3.0   \n",
       "day                            1.0          0.0         0.0         0.0   \n",
       "\n",
       "                                 5  \n",
       "belongs_to_collection          0.0  \n",
       "budget                  60000000.0  \n",
       "genres                         0.0  \n",
       "original_language             10.0  \n",
       "production_companies        1464.0  \n",
       "production_countries          74.0  \n",
       "release_date                1693.0  \n",
       "revenue                187436818.0  \n",
       "runtime                      170.0  \n",
       "spoken_languages              10.0  \n",
       "year                          77.0  \n",
       "month                          2.0  \n",
       "day                            0.0  "
      ]
     },
     "execution_count": 24,
     "metadata": {},
     "output_type": "execute_result"
    }
   ],
   "source": [
    "df_rev.head().T"
   ]
  },
  {
   "cell_type": "code",
   "execution_count": 25,
   "metadata": {
    "collapsed": true
   },
   "outputs": [],
   "source": [
    "df_rev = df_rev[pd.notnull(df_rev['runtime'])]"
   ]
  },
  {
   "cell_type": "code",
   "execution_count": 26,
   "metadata": {
    "collapsed": true
   },
   "outputs": [],
   "source": [
    "df_rev = df_rev[pd.notnull(df_rev['budget'])]"
   ]
  },
  {
   "cell_type": "code",
   "execution_count": 27,
   "metadata": {
    "collapsed": true
   },
   "outputs": [],
   "source": [
    "df_rev = (df_rev[df_rev['budget']>10000])\n",
    "df_rev = (df_rev[df_rev['revenue']>10000])"
   ]
  },
  {
   "cell_type": "code",
   "execution_count": 28,
   "metadata": {},
   "outputs": [
    {
     "name": "stdout",
     "output_type": "stream",
     "text": [
      "<class 'pandas.core.frame.DataFrame'>\n",
      "Int64Index: 7148 entries, 0 to 45422\n",
      "Data columns (total 13 columns):\n",
      "belongs_to_collection    7148 non-null int64\n",
      "budget                   7148 non-null float64\n",
      "genres                   7148 non-null int8\n",
      "original_language        7148 non-null int8\n",
      "production_companies     7148 non-null int16\n",
      "production_countries     7148 non-null int8\n",
      "release_date             7148 non-null int16\n",
      "revenue                  7148 non-null float64\n",
      "runtime                  7148 non-null float64\n",
      "spoken_languages         7148 non-null int8\n",
      "year                     7148 non-null int8\n",
      "month                    7148 non-null int8\n",
      "day                      7148 non-null int8\n",
      "dtypes: float64(3), int16(2), int64(1), int8(7)\n",
      "memory usage: 356.0 KB\n"
     ]
    }
   ],
   "source": [
    "df_rev.info()"
   ]
  },
  {
   "cell_type": "markdown",
   "metadata": {},
   "source": [
    "# Expérience 1 - Classification binaire"
   ]
  },
  {
   "cell_type": "code",
   "execution_count": 29,
   "metadata": {
    "collapsed": true
   },
   "outputs": [],
   "source": [
    "df_exp1 = copy.copy(df_rev)"
   ]
  },
  {
   "cell_type": "code",
   "execution_count": 30,
   "metadata": {
    "collapsed": true
   },
   "outputs": [],
   "source": [
    "def convert_class_binaire(x):\n",
    "    if x>=1:\n",
    "         return 1\n",
    "    else :\n",
    "         return 0\n",
    "\n",
    "df_exp1['return'] = df_exp1['revenue']/df_exp1['budget']\n",
    "df_exp1['return'] = df_exp1['return'].apply(lambda x: convert_class_binaire(x))"
   ]
  },
  {
   "cell_type": "code",
   "execution_count": 31,
   "metadata": {},
   "outputs": [
    {
     "data": {
      "text/plain": [
       "return\n",
       "0    2776\n",
       "1    4372\n",
       "Name: return, dtype: int64"
      ]
     },
     "execution_count": 31,
     "metadata": {},
     "output_type": "execute_result"
    }
   ],
   "source": [
    "df_exp1['return'].groupby(df_exp1['return']).count()"
   ]
  },
  {
   "cell_type": "code",
   "execution_count": 32,
   "metadata": {
    "collapsed": true
   },
   "outputs": [],
   "source": [
    "df_exp1 = df_exp1.drop(['budget'], axis=1)\n",
    "df_exp1 = df_exp1.drop(['revenue'], axis=1)"
   ]
  },
  {
   "cell_type": "code",
   "execution_count": 33,
   "metadata": {
    "collapsed": true
   },
   "outputs": [],
   "source": [
    "ret = df_exp1['return']\n",
    "data = df_exp1.drop('return', axis=1)"
   ]
  },
  {
   "cell_type": "code",
   "execution_count": 34,
   "metadata": {
    "collapsed": true
   },
   "outputs": [],
   "source": [
    "data_array = data.as_matrix()\n",
    "ret_array = ret.as_matrix()"
   ]
  },
  {
   "cell_type": "code",
   "execution_count": 35,
   "metadata": {},
   "outputs": [
    {
     "name": "stderr",
     "output_type": "stream",
     "text": [
      "/Users/khairallah/anaconda3/lib/python3.6/site-packages/sklearn/cross_validation.py:41: DeprecationWarning: This module was deprecated in version 0.18 in favor of the model_selection module into which all the refactored classes and functions are moved. Also note that the interface of the new CV iterators are different from that of this module. This module will be removed in 0.20.\n",
      "  \"This module will be removed in 0.20.\", DeprecationWarning)\n"
     ]
    },
    {
     "name": "stdout",
     "output_type": "stream",
     "text": [
      "L'accuracy est égal à 0.566899766899767\n"
     ]
    },
    {
     "name": "stderr",
     "output_type": "stream",
     "text": [
      "/Users/khairallah/anaconda3/lib/python3.6/site-packages/sklearn/neural_network/multilayer_perceptron.py:564: ConvergenceWarning: Stochastic Optimizer: Maximum iterations (10) reached and the optimization hasn't converged yet.\n",
      "  % self.max_iter, ConvergenceWarning)\n"
     ]
    }
   ],
   "source": [
    "from sklearn.neural_network import MLPClassifier\n",
    "from sklearn import cross_validation\n",
    "from sklearn.metrics import accuracy_score\n",
    "from sklearn.metrics import confusion_matrix\n",
    "\n",
    "clf=MLPClassifier(activation='relu', alpha=1e-5, hidden_layer_sizes=(18, 16),\n",
    "                  random_state=42, learning_rate_init=0.001, solver='adam',\n",
    "                  batch_size=10, max_iter=10)\n",
    "\n",
    "X_exp1_train, X_exp1_test, Y_exp1_train, Y_exp1_test = cross_validation.train_test_split(\n",
    "data_array, ret_array, test_size=0.3, random_state=42)\n",
    "\n",
    "clf.fit(X_exp1_train, Y_exp1_train)\n",
    "Y_exp1_pred = clf.predict(X_exp1_test)\n",
    "\n",
    "c_matrix = confusion_matrix(Y_exp1_test, Y_exp1_pred)\n",
    "print(\"L'accuracy est égal à {}\".format(accuracy_score(Y_exp1_test, Y_exp1_pred)))\n",
    "\n",
    "\n"
   ]
  },
  {
   "cell_type": "code",
   "execution_count": 36,
   "metadata": {
    "collapsed": true
   },
   "outputs": [],
   "source": [
    "import itertools\n",
    "def plot_confusion_matrix(cm, classes,\n",
    "                          normalize=False,\n",
    "                          title='Confusion matrix',\n",
    "                          cmap=plt.cm.Blues):\n",
    "    \"\"\"\n",
    "    This function prints and plots the confusion matrix.\n",
    "    Normalization can be applied by setting `normalize=True`.\n",
    "    \"\"\"\n",
    "    if normalize:\n",
    "        cm = cm.astype('float') / cm.sum(axis=1)[:, np.newaxis]\n",
    "        print(\"Normalized confusion matrix\")\n",
    "    else:\n",
    "        print('Confusion matrix, without normalization')\n",
    "\n",
    "    print(cm)\n",
    "\n",
    "    plt.imshow(cm, interpolation='nearest', cmap=cmap)\n",
    "    plt.title(title)\n",
    "    plt.colorbar()\n",
    "    tick_marks = np.arange(len(classes))\n",
    "    plt.xticks(tick_marks, classes, rotation=45)\n",
    "    plt.yticks(tick_marks, classes)\n",
    "\n",
    "    fmt = '.2f' if normalize else 'd'\n",
    "    thresh = cm.max() / 2.\n",
    "    for i, j in itertools.product(range(cm.shape[0]), range(cm.shape[1])):\n",
    "        plt.text(j, i, format(cm[i, j], fmt),\n",
    "                 horizontalalignment=\"center\",\n",
    "                 color=\"white\" if cm[i, j] > thresh else \"black\")\n",
    "\n",
    "    plt.tight_layout()\n",
    "    plt.ylabel('True label')\n",
    "    plt.xlabel('Predicted label')"
   ]
  },
  {
   "cell_type": "code",
   "execution_count": 37,
   "metadata": {},
   "outputs": [
    {
     "name": "stdout",
     "output_type": "stream",
     "text": [
      "Confusion matrix, without normalization\n",
      "[[ 205  624]\n",
      " [ 305 1011]]\n"
     ]
    },
    {
     "data": {
      "image/png": "[encoded data removed]",
      "text/plain": [
       "<matplotlib.figure.Figure at 0x1119c9cf8>"
      ]
     },
     "metadata": {},
     "output_type": "display_data"
    }
   ],
   "source": [
    "plt.figure()\n",
    "plot_confusion_matrix(c_matrix, classes=['Rentable','Pas Rentable'],\n",
    "                      title='Confusion matrix - Exp 1')"
   ]
  },
  {
   "cell_type": "markdown",
   "metadata": {},
   "source": [
    "Amélioration de l'expérience 1"
   ]
  },
  {
   "cell_type": "code",
   "execution_count": 38,
   "metadata": {
    "collapsed": true
   },
   "outputs": [],
   "source": [
    "df_exp1 = df_exp1[df_exp1['return']<3]"
   ]
  },
  {
   "cell_type": "code",
   "execution_count": 39,
   "metadata": {
    "collapsed": true
   },
   "outputs": [],
   "source": [
    "parameters={\n",
    "'batch_size': [10, 50],\n",
    "'hidden_layer_sizes': [(10,20),(100,200)],\n",
    "'activation': [\"logistic\", \"relu\"],\n",
    "'max_iter':[20, 10],\n",
    "'solver': ['adam', 'sgd']\n",
    "}"
   ]
  },
  {
   "cell_type": "code",
   "execution_count": 40,
   "metadata": {
    "scrolled": true
   },
   "outputs": [
    {
     "name": "stdout",
     "output_type": "stream",
     "text": [
      "# Tuning hyper-parameters for accuracy_score\n",
      "\n",
      "Fitting 2 folds for each of 32 candidates, totalling 64 fits\n"
     ]
    },
    {
     "name": "stderr",
     "output_type": "stream",
     "text": [
      "/Users/khairallah/anaconda3/lib/python3.6/site-packages/sklearn/grid_search.py:42: DeprecationWarning: This module was deprecated in version 0.18 in favor of the model_selection module into which all the refactored classes and functions are moved. This module will be removed in 0.20.\n",
      "  DeprecationWarning)\n"
     ]
    },
    {
     "name": "stdout",
     "output_type": "stream",
     "text": [
      "[CV] activation=logistic, batch_size=10, hidden_layer_sizes=(10, 20), max_iter=20, solver=adam \n",
      "[CV] activation=logistic, batch_size=10, hidden_layer_sizes=(10, 20), max_iter=20, solver=adam \n",
      "[CV] activation=logistic, batch_size=10, hidden_layer_sizes=(10, 20), max_iter=20, solver=sgd \n",
      "[CV] activation=logistic, batch_size=10, hidden_layer_sizes=(10, 20), max_iter=20, solver=sgd \n",
      "[CV]  activation=logistic, batch_size=10, hidden_layer_sizes=(10, 20), max_iter=20, solver=adam -   2.4s\n",
      "[CV] activation=logistic, batch_size=10, hidden_layer_sizes=(10, 20), max_iter=10, solver=adam \n",
      "[CV]  activation=logistic, batch_size=10, hidden_layer_sizes=(10, 20), max_iter=20, solver=adam -   2.8s\n",
      "[CV] activation=logistic, batch_size=10, hidden_layer_sizes=(10, 20), max_iter=10, solver=adam \n",
      "[CV]  activation=logistic, batch_size=10, hidden_layer_sizes=(10, 20), max_iter=20, solver=sgd -   4.4s\n",
      "[CV] activation=logistic, batch_size=10, hidden_layer_sizes=(10, 20), max_iter=10, solver=sgd \n",
      "[CV]  activation=logistic, batch_size=10, hidden_layer_sizes=(10, 20), max_iter=20, solver=sgd -   5.6s\n",
      "[CV] activation=logistic, batch_size=10, hidden_layer_sizes=(10, 20), max_iter=10, solver=sgd \n"
     ]
    },
    {
     "name": "stderr",
     "output_type": "stream",
     "text": [
      "/Users/khairallah/anaconda3/lib/python3.6/site-packages/sklearn/neural_network/multilayer_perceptron.py:564: ConvergenceWarning: Stochastic Optimizer: Maximum iterations (10) reached and the optimization hasn't converged yet.\n",
      "  % self.max_iter, ConvergenceWarning)\n"
     ]
    },
    {
     "name": "stdout",
     "output_type": "stream",
     "text": [
      "[CV]  activation=logistic, batch_size=10, hidden_layer_sizes=(10, 20), max_iter=10, solver=adam -   3.7s\n",
      "[CV] activation=logistic, batch_size=10, hidden_layer_sizes=(100, 200), max_iter=20, solver=adam \n"
     ]
    },
    {
     "name": "stderr",
     "output_type": "stream",
     "text": [
      "/Users/khairallah/anaconda3/lib/python3.6/site-packages/sklearn/neural_network/multilayer_perceptron.py:564: ConvergenceWarning: Stochastic Optimizer: Maximum iterations (10) reached and the optimization hasn't converged yet.\n",
      "  % self.max_iter, ConvergenceWarning)\n"
     ]
    },
    {
     "name": "stdout",
     "output_type": "stream",
     "text": [
      "[CV]  activation=logistic, batch_size=10, hidden_layer_sizes=(10, 20), max_iter=10, solver=adam -   3.6s\n",
      "[CV] activation=logistic, batch_size=10, hidden_layer_sizes=(100, 200), max_iter=20, solver=adam \n"
     ]
    },
    {
     "name": "stderr",
     "output_type": "stream",
     "text": [
      "/Users/khairallah/anaconda3/lib/python3.6/site-packages/sklearn/neural_network/multilayer_perceptron.py:564: ConvergenceWarning: Stochastic Optimizer: Maximum iterations (10) reached and the optimization hasn't converged yet.\n",
      "  % self.max_iter, ConvergenceWarning)\n"
     ]
    },
    {
     "name": "stdout",
     "output_type": "stream",
     "text": [
      "[CV]  activation=logistic, batch_size=10, hidden_layer_sizes=(10, 20), max_iter=10, solver=sgd -   2.7s\n",
      "[CV] activation=logistic, batch_size=10, hidden_layer_sizes=(100, 200), max_iter=20, solver=sgd \n"
     ]
    },
    {
     "name": "stderr",
     "output_type": "stream",
     "text": [
      "/Users/khairallah/anaconda3/lib/python3.6/site-packages/sklearn/neural_network/multilayer_perceptron.py:564: ConvergenceWarning: Stochastic Optimizer: Maximum iterations (10) reached and the optimization hasn't converged yet.\n",
      "  % self.max_iter, ConvergenceWarning)\n"
     ]
    },
    {
     "name": "stdout",
     "output_type": "stream",
     "text": [
      "[CV]  activation=logistic, batch_size=10, hidden_layer_sizes=(10, 20), max_iter=10, solver=sgd -   2.5s\n",
      "[CV] activation=logistic, batch_size=10, hidden_layer_sizes=(100, 200), max_iter=20, solver=sgd \n",
      "[CV]  activation=logistic, batch_size=10, hidden_layer_sizes=(100, 200), max_iter=20, solver=adam -   6.6s\n",
      "[CV] activation=logistic, batch_size=10, hidden_layer_sizes=(100, 200), max_iter=10, solver=adam \n",
      "[CV]  activation=logistic, batch_size=10, hidden_layer_sizes=(100, 200), max_iter=20, solver=adam -   9.0s\n",
      "[CV] activation=logistic, batch_size=10, hidden_layer_sizes=(100, 200), max_iter=10, solver=adam \n",
      "[CV]  activation=logistic, batch_size=10, hidden_layer_sizes=(100, 200), max_iter=20, solver=sgd -   8.4s\n",
      "[CV] activation=logistic, batch_size=10, hidden_layer_sizes=(100, 200), max_iter=10, solver=sgd \n",
      "[CV]  activation=logistic, batch_size=10, hidden_layer_sizes=(100, 200), max_iter=10, solver=adam -   4.1s\n",
      "[CV] activation=logistic, batch_size=10, hidden_layer_sizes=(100, 200), max_iter=10, solver=sgd \n",
      "[CV]  activation=logistic, batch_size=10, hidden_layer_sizes=(100, 200), max_iter=20, solver=sgd -  13.6s\n",
      "[CV] activation=logistic, batch_size=50, hidden_layer_sizes=(10, 20), max_iter=20, solver=adam \n",
      "[CV]  activation=logistic, batch_size=50, hidden_layer_sizes=(10, 20), max_iter=20, solver=adam -   1.3s\n",
      "[CV] activation=logistic, batch_size=50, hidden_layer_sizes=(10, 20), max_iter=20, solver=adam \n",
      "[CV]  activation=logistic, batch_size=50, hidden_layer_sizes=(10, 20), max_iter=20, solver=adam -   2.7s\n",
      "[CV] activation=logistic, batch_size=50, hidden_layer_sizes=(10, 20), max_iter=20, solver=sgd \n",
      "[CV]  activation=logistic, batch_size=10, hidden_layer_sizes=(100, 200), max_iter=10, solver=sgd -   9.1s\n",
      "[CV] activation=logistic, batch_size=50, hidden_layer_sizes=(10, 20), max_iter=20, solver=sgd \n"
     ]
    },
    {
     "name": "stderr",
     "output_type": "stream",
     "text": [
      "/Users/khairallah/anaconda3/lib/python3.6/site-packages/sklearn/neural_network/multilayer_perceptron.py:564: ConvergenceWarning: Stochastic Optimizer: Maximum iterations (10) reached and the optimization hasn't converged yet.\n",
      "  % self.max_iter, ConvergenceWarning)\n"
     ]
    },
    {
     "name": "stdout",
     "output_type": "stream",
     "text": [
      "[CV]  activation=logistic, batch_size=50, hidden_layer_sizes=(10, 20), max_iter=20, solver=sgd -   1.0s\n",
      "[CV] activation=logistic, batch_size=50, hidden_layer_sizes=(10, 20), max_iter=10, solver=adam \n",
      "[CV]  activation=logistic, batch_size=10, hidden_layer_sizes=(100, 200), max_iter=10, solver=sgd -  11.1s\n",
      "[CV] activation=logistic, batch_size=50, hidden_layer_sizes=(10, 20), max_iter=10, solver=adam \n",
      "[CV]  activation=logistic, batch_size=50, hidden_layer_sizes=(10, 20), max_iter=20, solver=sgd -   0.6s\n",
      "[CV] activation=logistic, batch_size=50, hidden_layer_sizes=(10, 20), max_iter=10, solver=sgd \n",
      "[CV]  activation=logistic, batch_size=50, hidden_layer_sizes=(10, 20), max_iter=10, solver=sgd -   0.6s\n",
      "[CV] activation=logistic, batch_size=50, hidden_layer_sizes=(10, 20), max_iter=10, solver=sgd \n"
     ]
    },
    {
     "name": "stderr",
     "output_type": "stream",
     "text": [
      "/Users/khairallah/anaconda3/lib/python3.6/site-packages/sklearn/neural_network/multilayer_perceptron.py:564: ConvergenceWarning: Stochastic Optimizer: Maximum iterations (10) reached and the optimization hasn't converged yet.\n",
      "  % self.max_iter, ConvergenceWarning)\n"
     ]
    },
    {
     "name": "stdout",
     "output_type": "stream",
     "text": [
      "[CV]  activation=logistic, batch_size=10, hidden_layer_sizes=(100, 200), max_iter=10, solver=adam -  12.4s\n",
      "[CV] activation=logistic, batch_size=50, hidden_layer_sizes=(100, 200), max_iter=20, solver=adam \n"
     ]
    },
    {
     "name": "stderr",
     "output_type": "stream",
     "text": [
      "/Users/khairallah/anaconda3/lib/python3.6/site-packages/sklearn/neural_network/multilayer_perceptron.py:564: ConvergenceWarning: Stochastic Optimizer: Maximum iterations (10) reached and the optimization hasn't converged yet.\n",
      "  % self.max_iter, ConvergenceWarning)\n"
     ]
    },
    {
     "name": "stdout",
     "output_type": "stream",
     "text": [
      "[CV]  activation=logistic, batch_size=50, hidden_layer_sizes=(10, 20), max_iter=10, solver=adam -   0.9s\n",
      "[CV] activation=logistic, batch_size=50, hidden_layer_sizes=(100, 200), max_iter=20, solver=adam \n"
     ]
    },
    {
     "name": "stderr",
     "output_type": "stream",
     "text": [
      "/Users/khairallah/anaconda3/lib/python3.6/site-packages/sklearn/neural_network/multilayer_perceptron.py:564: ConvergenceWarning: Stochastic Optimizer: Maximum iterations (10) reached and the optimization hasn't converged yet.\n",
      "  % self.max_iter, ConvergenceWarning)\n"
     ]
    },
    {
     "name": "stdout",
     "output_type": "stream",
     "text": [
      "[CV]  activation=logistic, batch_size=50, hidden_layer_sizes=(10, 20), max_iter=10, solver=adam -   1.0s\n",
      "[CV] activation=logistic, batch_size=50, hidden_layer_sizes=(100, 200), max_iter=20, solver=sgd \n",
      "[CV]  activation=logistic, batch_size=50, hidden_layer_sizes=(10, 20), max_iter=10, solver=sgd -   0.7s\n",
      "[CV] activation=logistic, batch_size=50, hidden_layer_sizes=(100, 200), max_iter=20, solver=sgd \n",
      "[CV]  activation=logistic, batch_size=50, hidden_layer_sizes=(100, 200), max_iter=20, solver=adam -   2.9s\n",
      "[CV] activation=logistic, batch_size=50, hidden_layer_sizes=(100, 200), max_iter=10, solver=adam \n",
      "[CV]  activation=logistic, batch_size=50, hidden_layer_sizes=(100, 200), max_iter=20, solver=adam -   3.3s\n",
      "[CV] activation=logistic, batch_size=50, hidden_layer_sizes=(100, 200), max_iter=10, solver=adam \n",
      "[CV]  activation=logistic, batch_size=50, hidden_layer_sizes=(100, 200), max_iter=20, solver=sgd -   3.6s\n",
      "[CV] activation=logistic, batch_size=50, hidden_layer_sizes=(100, 200), max_iter=10, solver=sgd \n",
      "[CV]  activation=logistic, batch_size=50, hidden_layer_sizes=(100, 200), max_iter=20, solver=sgd -   4.6s\n",
      "[CV] activation=logistic, batch_size=50, hidden_layer_sizes=(100, 200), max_iter=10, solver=sgd \n",
      "[CV]  activation=logistic, batch_size=50, hidden_layer_sizes=(100, 200), max_iter=10, solver=adam -   2.1s\n",
      "[CV] activation=relu, batch_size=10, hidden_layer_sizes=(10, 20), max_iter=20, solver=adam \n"
     ]
    },
    {
     "name": "stderr",
     "output_type": "stream",
     "text": [
      "/Users/khairallah/anaconda3/lib/python3.6/site-packages/sklearn/neural_network/multilayer_perceptron.py:564: ConvergenceWarning: Stochastic Optimizer: Maximum iterations (10) reached and the optimization hasn't converged yet.\n",
      "  % self.max_iter, ConvergenceWarning)\n"
     ]
    },
    {
     "name": "stdout",
     "output_type": "stream",
     "text": [
      "[CV]  activation=logistic, batch_size=50, hidden_layer_sizes=(100, 200), max_iter=10, solver=adam -   4.2s\n",
      "[CV] activation=relu, batch_size=10, hidden_layer_sizes=(10, 20), max_iter=20, solver=adam \n"
     ]
    },
    {
     "name": "stderr",
     "output_type": "stream",
     "text": [
      "/Users/khairallah/anaconda3/lib/python3.6/site-packages/sklearn/neural_network/multilayer_perceptron.py:564: ConvergenceWarning: Stochastic Optimizer: Maximum iterations (10) reached and the optimization hasn't converged yet.\n",
      "  % self.max_iter, ConvergenceWarning)\n"
     ]
    },
    {
     "name": "stdout",
     "output_type": "stream",
     "text": [
      "[CV]  activation=logistic, batch_size=50, hidden_layer_sizes=(100, 200), max_iter=10, solver=sgd -   4.6s\n",
      "[CV] activation=relu, batch_size=10, hidden_layer_sizes=(10, 20), max_iter=20, solver=sgd \n"
     ]
    },
    {
     "name": "stderr",
     "output_type": "stream",
     "text": [
      "/Users/khairallah/anaconda3/lib/python3.6/site-packages/sklearn/neural_network/multilayer_perceptron.py:564: ConvergenceWarning: Stochastic Optimizer: Maximum iterations (10) reached and the optimization hasn't converged yet.\n",
      "  % self.max_iter, ConvergenceWarning)\n"
     ]
    },
    {
     "name": "stdout",
     "output_type": "stream",
     "text": [
      "[CV]  activation=logistic, batch_size=50, hidden_layer_sizes=(100, 200), max_iter=10, solver=sgd -   4.7s\n",
      "[CV] activation=relu, batch_size=10, hidden_layer_sizes=(10, 20), max_iter=20, solver=sgd \n",
      "[CV]  activation=relu, batch_size=10, hidden_layer_sizes=(10, 20), max_iter=20, solver=sgd -   2.0s\n",
      "[CV] activation=relu, batch_size=10, hidden_layer_sizes=(10, 20), max_iter=10, solver=adam \n"
     ]
    },
    {
     "name": "stderr",
     "output_type": "stream",
     "text": [
      "[Parallel(n_jobs=-1)]: Done  33 tasks      | elapsed:   38.5s\n"
     ]
    },
    {
     "name": "stdout",
     "output_type": "stream",
     "text": [
      "[CV]  activation=relu, batch_size=10, hidden_layer_sizes=(10, 20), max_iter=20, solver=sgd -   1.7s\n",
      "[CV] activation=relu, batch_size=10, hidden_layer_sizes=(10, 20), max_iter=10, solver=adam \n",
      "[CV]  activation=relu, batch_size=10, hidden_layer_sizes=(10, 20), max_iter=20, solver=adam -   6.0s\n",
      "[CV] activation=relu, batch_size=10, hidden_layer_sizes=(10, 20), max_iter=10, solver=sgd \n",
      "[CV]  activation=relu, batch_size=10, hidden_layer_sizes=(10, 20), max_iter=20, solver=adam -   5.5s\n",
      "[CV] activation=relu, batch_size=10, hidden_layer_sizes=(10, 20), max_iter=10, solver=sgd \n"
     ]
    },
    {
     "name": "stderr",
     "output_type": "stream",
     "text": [
      "/Users/khairallah/anaconda3/lib/python3.6/site-packages/sklearn/neural_network/multilayer_perceptron.py:564: ConvergenceWarning: Stochastic Optimizer: Maximum iterations (10) reached and the optimization hasn't converged yet.\n",
      "  % self.max_iter, ConvergenceWarning)\n"
     ]
    },
    {
     "name": "stdout",
     "output_type": "stream",
     "text": [
      "[CV]  activation=relu, batch_size=10, hidden_layer_sizes=(10, 20), max_iter=10, solver=adam -   2.9s\n",
      "[CV] activation=relu, batch_size=10, hidden_layer_sizes=(100, 200), max_iter=20, solver=adam \n"
     ]
    },
    {
     "name": "stderr",
     "output_type": "stream",
     "text": [
      "/Users/khairallah/anaconda3/lib/python3.6/site-packages/sklearn/neural_network/multilayer_perceptron.py:564: ConvergenceWarning: Stochastic Optimizer: Maximum iterations (10) reached and the optimization hasn't converged yet.\n",
      "  % self.max_iter, ConvergenceWarning)\n"
     ]
    },
    {
     "name": "stdout",
     "output_type": "stream",
     "text": [
      "[CV]  activation=relu, batch_size=10, hidden_layer_sizes=(10, 20), max_iter=10, solver=sgd -   2.3s\n",
      "[CV] activation=relu, batch_size=10, hidden_layer_sizes=(100, 200), max_iter=20, solver=adam \n",
      "[CV]  activation=relu, batch_size=10, hidden_layer_sizes=(10, 20), max_iter=10, solver=sgd -   1.5s\n",
      "[CV] activation=relu, batch_size=10, hidden_layer_sizes=(100, 200), max_iter=20, solver=sgd \n",
      "[CV]  activation=relu, batch_size=10, hidden_layer_sizes=(10, 20), max_iter=10, solver=adam -   2.8s\n",
      "[CV] activation=relu, batch_size=10, hidden_layer_sizes=(100, 200), max_iter=20, solver=sgd \n",
      "[CV]  activation=relu, batch_size=10, hidden_layer_sizes=(100, 200), max_iter=20, solver=sgd -   6.1s\n",
      "[CV] activation=relu, batch_size=10, hidden_layer_sizes=(100, 200), max_iter=10, solver=adam \n",
      "[CV]  activation=relu, batch_size=10, hidden_layer_sizes=(100, 200), max_iter=20, solver=sgd -   7.0s\n",
      "[CV] activation=relu, batch_size=10, hidden_layer_sizes=(100, 200), max_iter=10, solver=adam \n",
      "[CV]  activation=relu, batch_size=10, hidden_layer_sizes=(100, 200), max_iter=20, solver=adam -  22.7s\n",
      "[CV] activation=relu, batch_size=10, hidden_layer_sizes=(100, 200), max_iter=10, solver=sgd \n"
     ]
    },
    {
     "name": "stderr",
     "output_type": "stream",
     "text": [
      "/Users/khairallah/anaconda3/lib/python3.6/site-packages/sklearn/neural_network/multilayer_perceptron.py:564: ConvergenceWarning: Stochastic Optimizer: Maximum iterations (10) reached and the optimization hasn't converged yet.\n",
      "  % self.max_iter, ConvergenceWarning)\n"
     ]
    },
    {
     "name": "stdout",
     "output_type": "stream",
     "text": [
      "[CV]  activation=relu, batch_size=10, hidden_layer_sizes=(100, 200), max_iter=10, solver=adam -  17.8s\n",
      "[CV] activation=relu, batch_size=10, hidden_layer_sizes=(100, 200), max_iter=10, solver=sgd \n"
     ]
    },
    {
     "name": "stderr",
     "output_type": "stream",
     "text": [
      "/Users/khairallah/anaconda3/lib/python3.6/site-packages/sklearn/neural_network/multilayer_perceptron.py:564: ConvergenceWarning: Stochastic Optimizer: Maximum iterations (10) reached and the optimization hasn't converged yet.\n",
      "  % self.max_iter, ConvergenceWarning)\n"
     ]
    },
    {
     "name": "stdout",
     "output_type": "stream",
     "text": [
      "[CV]  activation=relu, batch_size=10, hidden_layer_sizes=(100, 200), max_iter=10, solver=adam -  17.8s\n",
      "[CV] activation=relu, batch_size=50, hidden_layer_sizes=(10, 20), max_iter=20, solver=adam \n",
      "[CV]  activation=relu, batch_size=10, hidden_layer_sizes=(100, 200), max_iter=20, solver=adam -  26.1s\n",
      "[CV] activation=relu, batch_size=50, hidden_layer_sizes=(10, 20), max_iter=20, solver=adam \n"
     ]
    },
    {
     "name": "stderr",
     "output_type": "stream",
     "text": [
      "/Users/khairallah/anaconda3/lib/python3.6/site-packages/sklearn/neural_network/multilayer_perceptron.py:564: ConvergenceWarning: Stochastic Optimizer: Maximum iterations (20) reached and the optimization hasn't converged yet.\n",
      "  % self.max_iter, ConvergenceWarning)\n"
     ]
    },
    {
     "name": "stdout",
     "output_type": "stream",
     "text": [
      "[CV]  activation=relu, batch_size=50, hidden_layer_sizes=(10, 20), max_iter=20, solver=adam -   1.7s\n",
      "[CV] activation=relu, batch_size=50, hidden_layer_sizes=(10, 20), max_iter=20, solver=sgd \n",
      "[CV]  activation=relu, batch_size=50, hidden_layer_sizes=(10, 20), max_iter=20, solver=sgd -   0.7s\n",
      "[CV] activation=relu, batch_size=50, hidden_layer_sizes=(10, 20), max_iter=20, solver=sgd \n"
     ]
    },
    {
     "name": "stderr",
     "output_type": "stream",
     "text": [
      "/Users/khairallah/anaconda3/lib/python3.6/site-packages/sklearn/neural_network/multilayer_perceptron.py:564: ConvergenceWarning: Stochastic Optimizer: Maximum iterations (20) reached and the optimization hasn't converged yet.\n",
      "  % self.max_iter, ConvergenceWarning)\n"
     ]
    },
    {
     "name": "stdout",
     "output_type": "stream",
     "text": [
      "[CV]  activation=relu, batch_size=50, hidden_layer_sizes=(10, 20), max_iter=20, solver=adam -   1.7s\n",
      "[CV] activation=relu, batch_size=50, hidden_layer_sizes=(10, 20), max_iter=10, solver=adam \n",
      "[CV]  activation=relu, batch_size=50, hidden_layer_sizes=(10, 20), max_iter=20, solver=sgd -   0.3s\n",
      "[CV] activation=relu, batch_size=50, hidden_layer_sizes=(10, 20), max_iter=10, solver=adam \n",
      "[CV]  activation=relu, batch_size=50, hidden_layer_sizes=(10, 20), max_iter=10, solver=adam -   0.5s\n",
      "[CV] activation=relu, batch_size=50, hidden_layer_sizes=(10, 20), max_iter=10, solver=sgd \n"
     ]
    },
    {
     "name": "stderr",
     "output_type": "stream",
     "text": [
      "/Users/khairallah/anaconda3/lib/python3.6/site-packages/sklearn/neural_network/multilayer_perceptron.py:564: ConvergenceWarning: Stochastic Optimizer: Maximum iterations (10) reached and the optimization hasn't converged yet.\n",
      "  % self.max_iter, ConvergenceWarning)\n"
     ]
    },
    {
     "name": "stdout",
     "output_type": "stream",
     "text": [
      "[CV]  activation=relu, batch_size=50, hidden_layer_sizes=(10, 20), max_iter=10, solver=adam -   0.5s\n",
      "[CV] activation=relu, batch_size=50, hidden_layer_sizes=(10, 20), max_iter=10, solver=sgd \n",
      "[CV]  activation=relu, batch_size=50, hidden_layer_sizes=(10, 20), max_iter=10, solver=sgd -   0.3s\n",
      "[CV] activation=relu, batch_size=50, hidden_layer_sizes=(100, 200), max_iter=20, solver=adam \n",
      "[CV]  activation=relu, batch_size=50, hidden_layer_sizes=(10, 20), max_iter=10, solver=sgd -   0.3s\n",
      "[CV] activation=relu, batch_size=50, hidden_layer_sizes=(100, 200), max_iter=20, solver=adam \n",
      "[CV]  activation=relu, batch_size=10, hidden_layer_sizes=(100, 200), max_iter=10, solver=sgd -   4.7s\n",
      "[CV] activation=relu, batch_size=50, hidden_layer_sizes=(100, 200), max_iter=20, solver=sgd \n",
      "[CV]  activation=relu, batch_size=50, hidden_layer_sizes=(100, 200), max_iter=20, solver=adam -   1.1s\n",
      "[CV] activation=relu, batch_size=50, hidden_layer_sizes=(100, 200), max_iter=20, solver=sgd \n",
      "[CV]  activation=relu, batch_size=50, hidden_layer_sizes=(100, 200), max_iter=20, solver=sgd -   1.4s\n",
      "[CV] activation=relu, batch_size=50, hidden_layer_sizes=(100, 200), max_iter=10, solver=adam \n",
      "[CV]  activation=relu, batch_size=50, hidden_layer_sizes=(100, 200), max_iter=20, solver=adam -   2.1s\n",
      "[CV] activation=relu, batch_size=50, hidden_layer_sizes=(100, 200), max_iter=10, solver=adam \n"
     ]
    },
    {
     "name": "stderr",
     "output_type": "stream",
     "text": [
      "/Users/khairallah/anaconda3/lib/python3.6/site-packages/sklearn/neural_network/multilayer_perceptron.py:564: ConvergenceWarning: Stochastic Optimizer: Maximum iterations (10) reached and the optimization hasn't converged yet.\n",
      "  % self.max_iter, ConvergenceWarning)\n"
     ]
    },
    {
     "name": "stdout",
     "output_type": "stream",
     "text": [
      "[CV]  activation=relu, batch_size=10, hidden_layer_sizes=(100, 200), max_iter=10, solver=sgd -   8.0s\n",
      "[CV] activation=relu, batch_size=50, hidden_layer_sizes=(100, 200), max_iter=10, solver=sgd \n",
      "[CV]  activation=relu, batch_size=50, hidden_layer_sizes=(100, 200), max_iter=20, solver=sgd -   1.4s\n",
      "[CV] activation=relu, batch_size=50, hidden_layer_sizes=(100, 200), max_iter=10, solver=sgd \n",
      "[CV]  activation=relu, batch_size=50, hidden_layer_sizes=(100, 200), max_iter=10, solver=sgd -   1.8s\n",
      "[CV]  activation=relu, batch_size=50, hidden_layer_sizes=(100, 200), max_iter=10, solver=adam -   1.9s\n",
      "[CV]  activation=relu, batch_size=50, hidden_layer_sizes=(100, 200), max_iter=10, solver=adam -   2.2s\n",
      "[CV]  activation=relu, batch_size=50, hidden_layer_sizes=(100, 200), max_iter=10, solver=sgd -   1.5s\n"
     ]
    },
    {
     "name": "stderr",
     "output_type": "stream",
     "text": [
      "[Parallel(n_jobs=-1)]: Done  64 out of  64 | elapsed:  1.2min finished\n"
     ]
    },
    {
     "name": "stdout",
     "output_type": "stream",
     "text": [
      "Best parameters set found on development set:\n",
      "\n",
      "{'activation': 'relu', 'batch_size': 10, 'hidden_layer_sizes': (100, 200), 'max_iter': 20, 'solver': 'adam'}\n",
      "\n",
      "Grid scores on development set:\n",
      "\n",
      "0.611 (+/-0.000) for {'activation': 'logistic', 'batch_size': 10, 'hidden_layer_sizes': (10, 20), 'max_iter': 20, 'solver': 'adam'}\n",
      "0.611 (+/-0.000) for {'activation': 'logistic', 'batch_size': 10, 'hidden_layer_sizes': (10, 20), 'max_iter': 20, 'solver': 'sgd'}\n",
      "0.611 (+/-0.000) for {'activation': 'logistic', 'batch_size': 10, 'hidden_layer_sizes': (10, 20), 'max_iter': 10, 'solver': 'adam'}\n",
      "0.611 (+/-0.000) for {'activation': 'logistic', 'batch_size': 10, 'hidden_layer_sizes': (10, 20), 'max_iter': 10, 'solver': 'sgd'}\n",
      "0.611 (+/-0.000) for {'activation': 'logistic', 'batch_size': 10, 'hidden_layer_sizes': (100, 200), 'max_iter': 20, 'solver': 'adam'}\n",
      "0.611 (+/-0.000) for {'activation': 'logistic', 'batch_size': 10, 'hidden_layer_sizes': (100, 200), 'max_iter': 20, 'solver': 'sgd'}\n",
      "0.611 (+/-0.000) for {'activation': 'logistic', 'batch_size': 10, 'hidden_layer_sizes': (100, 200), 'max_iter': 10, 'solver': 'adam'}\n",
      "0.611 (+/-0.000) for {'activation': 'logistic', 'batch_size': 10, 'hidden_layer_sizes': (100, 200), 'max_iter': 10, 'solver': 'sgd'}\n",
      "0.611 (+/-0.000) for {'activation': 'logistic', 'batch_size': 50, 'hidden_layer_sizes': (10, 20), 'max_iter': 20, 'solver': 'adam'}\n",
      "0.611 (+/-0.000) for {'activation': 'logistic', 'batch_size': 50, 'hidden_layer_sizes': (10, 20), 'max_iter': 20, 'solver': 'sgd'}\n",
      "0.611 (+/-0.000) for {'activation': 'logistic', 'batch_size': 50, 'hidden_layer_sizes': (10, 20), 'max_iter': 10, 'solver': 'adam'}\n",
      "0.611 (+/-0.000) for {'activation': 'logistic', 'batch_size': 50, 'hidden_layer_sizes': (10, 20), 'max_iter': 10, 'solver': 'sgd'}\n",
      "0.610 (+/-0.001) for {'activation': 'logistic', 'batch_size': 50, 'hidden_layer_sizes': (100, 200), 'max_iter': 20, 'solver': 'adam'}\n",
      "0.611 (+/-0.000) for {'activation': 'logistic', 'batch_size': 50, 'hidden_layer_sizes': (100, 200), 'max_iter': 20, 'solver': 'sgd'}\n",
      "0.611 (+/-0.000) for {'activation': 'logistic', 'batch_size': 50, 'hidden_layer_sizes': (100, 200), 'max_iter': 10, 'solver': 'adam'}\n",
      "0.611 (+/-0.000) for {'activation': 'logistic', 'batch_size': 50, 'hidden_layer_sizes': (100, 200), 'max_iter': 10, 'solver': 'sgd'}\n",
      "0.560 (+/-0.008) for {'activation': 'relu', 'batch_size': 10, 'hidden_layer_sizes': (10, 20), 'max_iter': 20, 'solver': 'adam'}\n",
      "0.611 (+/-0.000) for {'activation': 'relu', 'batch_size': 10, 'hidden_layer_sizes': (10, 20), 'max_iter': 20, 'solver': 'sgd'}\n",
      "0.557 (+/-0.042) for {'activation': 'relu', 'batch_size': 10, 'hidden_layer_sizes': (10, 20), 'max_iter': 10, 'solver': 'adam'}\n",
      "0.611 (+/-0.000) for {'activation': 'relu', 'batch_size': 10, 'hidden_layer_sizes': (10, 20), 'max_iter': 10, 'solver': 'sgd'}\n",
      "0.611 (+/-0.004) for {'activation': 'relu', 'batch_size': 10, 'hidden_layer_sizes': (100, 200), 'max_iter': 20, 'solver': 'adam'}\n",
      "0.611 (+/-0.000) for {'activation': 'relu', 'batch_size': 10, 'hidden_layer_sizes': (100, 200), 'max_iter': 20, 'solver': 'sgd'}\n",
      "0.484 (+/-0.011) for {'activation': 'relu', 'batch_size': 10, 'hidden_layer_sizes': (100, 200), 'max_iter': 10, 'solver': 'adam'}\n",
      "0.611 (+/-0.000) for {'activation': 'relu', 'batch_size': 10, 'hidden_layer_sizes': (100, 200), 'max_iter': 10, 'solver': 'sgd'}\n",
      "0.553 (+/-0.082) for {'activation': 'relu', 'batch_size': 50, 'hidden_layer_sizes': (10, 20), 'max_iter': 20, 'solver': 'adam'}\n",
      "0.611 (+/-0.000) for {'activation': 'relu', 'batch_size': 50, 'hidden_layer_sizes': (10, 20), 'max_iter': 20, 'solver': 'sgd'}\n",
      "0.545 (+/-0.131) for {'activation': 'relu', 'batch_size': 50, 'hidden_layer_sizes': (10, 20), 'max_iter': 10, 'solver': 'adam'}\n",
      "0.611 (+/-0.000) for {'activation': 'relu', 'batch_size': 50, 'hidden_layer_sizes': (10, 20), 'max_iter': 10, 'solver': 'sgd'}\n",
      "0.509 (+/-0.204) for {'activation': 'relu', 'batch_size': 50, 'hidden_layer_sizes': (100, 200), 'max_iter': 20, 'solver': 'adam'}\n",
      "0.611 (+/-0.000) for {'activation': 'relu', 'batch_size': 50, 'hidden_layer_sizes': (100, 200), 'max_iter': 20, 'solver': 'sgd'}\n",
      "0.508 (+/-0.135) for {'activation': 'relu', 'batch_size': 50, 'hidden_layer_sizes': (100, 200), 'max_iter': 10, 'solver': 'adam'}\n",
      "0.611 (+/-0.000) for {'activation': 'relu', 'batch_size': 50, 'hidden_layer_sizes': (100, 200), 'max_iter': 10, 'solver': 'sgd'}\n",
      "\n",
      "Detailed classification report:\n",
      "\n",
      "The model is trained on the full development set.\n",
      "The scores are computed on the full evaluation set.\n",
      "\n",
      "             precision    recall  f1-score   support\n",
      "\n",
      "          0       0.60      0.17      0.27       829\n",
      "          1       0.64      0.93      0.76      1316\n",
      "\n",
      "avg / total       0.62      0.64      0.57      2145\n",
      "\n",
      "\n"
     ]
    },
    {
     "name": "stderr",
     "output_type": "stream",
     "text": [
      "/Users/khairallah/anaconda3/lib/python3.6/site-packages/sklearn/neural_network/multilayer_perceptron.py:564: ConvergenceWarning: Stochastic Optimizer: Maximum iterations (20) reached and the optimization hasn't converged yet.\n",
      "  % self.max_iter, ConvergenceWarning)\n"
     ]
    }
   ],
   "source": [
    "from sklearn.grid_search import GridSearchCV\n",
    "from sklearn.metrics import classification_report\n",
    "from __future__ import print_function\n",
    "\n",
    "\n",
    "scores = ['accuracy_score']\n",
    "\n",
    "X_exp1_train, X_exp1_test, Y_exp1_train, Y_exp1_test = cross_validation.train_test_split(\n",
    "data_array, ret_array, test_size=0.3, random_state=42)\n",
    "\n",
    "for score in scores:\n",
    "    print(\"# Tuning hyper-parameters for %s\" % score)\n",
    "    print()\n",
    "\n",
    "    clf = GridSearchCV(cv=2, estimator=MLPClassifier() ,param_grid=parameters,n_jobs=-1,verbose=2)\n",
    "    clf.fit(X_exp1_train, Y_exp1_train)\n",
    "\n",
    "    print(\"Best parameters set found on development set:\")\n",
    "    print()\n",
    "    print(clf.best_params_)\n",
    "    print()\n",
    "    print(\"Grid scores on development set:\")\n",
    "    print()\n",
    "    for params, mean_score, scores in clf.grid_scores_:\n",
    "        print(\"%0.3f (+/-%0.03f) for %r\"\n",
    "              % (mean_score, scores.std() * 2, params))\n",
    "    print()\n",
    "\n",
    "    print(\"Detailed classification report:\")\n",
    "    print()\n",
    "    print(\"The model is trained on the full development set.\")\n",
    "    print(\"The scores are computed on the full evaluation set.\")\n",
    "    print()\n",
    "    y_true, y_pred = Y_exp1_test, clf.predict(X_exp1_test)\n",
    "    print(classification_report(y_true, y_pred))\n",
    "    print()"
   ]
  },
  {
   "cell_type": "code",
   "execution_count": 41,
   "metadata": {},
   "outputs": [
    {
     "name": "stderr",
     "output_type": "stream",
     "text": [
      "/Users/khairallah/anaconda3/lib/python3.6/site-packages/sklearn/neural_network/multilayer_perceptron.py:564: ConvergenceWarning: Stochastic Optimizer: Maximum iterations (10) reached and the optimization hasn't converged yet.\n",
      "  % self.max_iter, ConvergenceWarning)\n"
     ]
    },
    {
     "name": "stdout",
     "output_type": "stream",
     "text": [
      "L'accuracy est égal à 0.6144522144522144\n",
      "Confusion matrix, without normalization\n",
      "[[  30  799]\n",
      " [  28 1288]]\n"
     ]
    },
    {
     "data": {
      "image/png": "[encoded data removed]",
      "text/plain": [
       "<matplotlib.figure.Figure at 0x111aded30>"
      ]
     },
     "metadata": {},
     "output_type": "display_data"
    }
   ],
   "source": [
    "clf_grid =MLPClassifier(activation='relu', alpha=1e-05, batch_size=10, beta_1=0.9,\n",
    "       beta_2=0.999, early_stopping=False, epsilon=1e-08,\n",
    "       hidden_layer_sizes=(10, 20), learning_rate='constant',\n",
    "       learning_rate_init=0.001, max_iter=10, momentum=0.9,\n",
    "       nesterovs_momentum=True, power_t=0.5, random_state=42, shuffle=True,\n",
    "       solver='adam', tol=0.0001, validation_fraction=0.1, verbose=False,\n",
    "       warm_start=False)\n",
    "\n",
    "clf_grid.fit(X_exp1_train, Y_exp1_train)\n",
    "Y_exp1_pred = clf_grid.predict(X_exp1_test)\n",
    "accuracy = accuracy_score(Y_exp1_test,Y_exp1_pred)\n",
    "\n",
    "print(\"L'accuracy est égal à {}\".format(accuracy))\n",
    "c_matrix_grid = confusion_matrix(Y_exp1_test,Y_exp1_pred)\n",
    "plt.figure()\n",
    "plot_confusion_matrix(c_matrix_grid, classes=['Rentable','Pas Rentable'],\n",
    "                      title='Confusion matrix - Exp 1')"
   ]
  },
  {
   "cell_type": "markdown",
   "metadata": {},
   "source": [
    "# Expérience 2 - Classification des revenus en classes multiples avec MLP"
   ]
  },
  {
   "cell_type": "code",
   "execution_count": 42,
   "metadata": {
    "collapsed": true
   },
   "outputs": [],
   "source": [
    "df_exp2 = copy.copy(df_rev)"
   ]
  },
  {
   "cell_type": "code",
   "execution_count": 43,
   "metadata": {},
   "outputs": [
    {
     "data": {
      "text/html": [
       "<div>\n",
       "<style>\n",
       "    .dataframe thead tr:only-child th {\n",
       "        text-align: right;\n",
       "    }\n",
       "\n",
       "    .dataframe thead th {\n",
       "        text-align: left;\n",
       "    }\n",
       "\n",
       "    .dataframe tbody tr th {\n",
       "        vertical-align: top;\n",
       "    }\n",
       "</style>\n",
       "<table border=\"1\" class=\"dataframe\">\n",
       "  <thead>\n",
       "    <tr style=\"text-align: right;\">\n",
       "      <th></th>\n",
       "      <th>0</th>\n",
       "      <th>1</th>\n",
       "      <th>3</th>\n",
       "      <th>4</th>\n",
       "      <th>5</th>\n",
       "    </tr>\n",
       "  </thead>\n",
       "  <tbody>\n",
       "    <tr>\n",
       "      <th>belongs_to_collection</th>\n",
       "      <td>1.0</td>\n",
       "      <td>0.0</td>\n",
       "      <td>0.0</td>\n",
       "      <td>1.0</td>\n",
       "      <td>0.0</td>\n",
       "    </tr>\n",
       "    <tr>\n",
       "      <th>budget</th>\n",
       "      <td>30000000.0</td>\n",
       "      <td>65000000.0</td>\n",
       "      <td>16000000.0</td>\n",
       "      <td>8000000.0</td>\n",
       "      <td>60000000.0</td>\n",
       "    </tr>\n",
       "    <tr>\n",
       "      <th>genres</th>\n",
       "      <td>2.0</td>\n",
       "      <td>1.0</td>\n",
       "      <td>3.0</td>\n",
       "      <td>3.0</td>\n",
       "      <td>0.0</td>\n",
       "    </tr>\n",
       "    <tr>\n",
       "      <th>original_language</th>\n",
       "      <td>10.0</td>\n",
       "      <td>10.0</td>\n",
       "      <td>10.0</td>\n",
       "      <td>10.0</td>\n",
       "      <td>10.0</td>\n",
       "    </tr>\n",
       "    <tr>\n",
       "      <th>production_companies</th>\n",
       "      <td>1363.0</td>\n",
       "      <td>1809.0</td>\n",
       "      <td>1825.0</td>\n",
       "      <td>1536.0</td>\n",
       "      <td>1464.0</td>\n",
       "    </tr>\n",
       "    <tr>\n",
       "      <th>production_countries</th>\n",
       "      <td>74.0</td>\n",
       "      <td>74.0</td>\n",
       "      <td>74.0</td>\n",
       "      <td>74.0</td>\n",
       "      <td>74.0</td>\n",
       "    </tr>\n",
       "    <tr>\n",
       "      <th>release_date</th>\n",
       "      <td>1681.0</td>\n",
       "      <td>1693.0</td>\n",
       "      <td>1694.0</td>\n",
       "      <td>1625.0</td>\n",
       "      <td>1693.0</td>\n",
       "    </tr>\n",
       "    <tr>\n",
       "      <th>revenue</th>\n",
       "      <td>373554033.0</td>\n",
       "      <td>262797249.0</td>\n",
       "      <td>81452156.0</td>\n",
       "      <td>76578911.0</td>\n",
       "      <td>187436818.0</td>\n",
       "    </tr>\n",
       "    <tr>\n",
       "      <th>runtime</th>\n",
       "      <td>81.0</td>\n",
       "      <td>104.0</td>\n",
       "      <td>127.0</td>\n",
       "      <td>106.0</td>\n",
       "      <td>170.0</td>\n",
       "    </tr>\n",
       "    <tr>\n",
       "      <th>spoken_languages</th>\n",
       "      <td>10.0</td>\n",
       "      <td>10.0</td>\n",
       "      <td>10.0</td>\n",
       "      <td>10.0</td>\n",
       "      <td>10.0</td>\n",
       "    </tr>\n",
       "    <tr>\n",
       "      <th>year</th>\n",
       "      <td>77.0</td>\n",
       "      <td>77.0</td>\n",
       "      <td>77.0</td>\n",
       "      <td>77.0</td>\n",
       "      <td>77.0</td>\n",
       "    </tr>\n",
       "    <tr>\n",
       "      <th>month</th>\n",
       "      <td>10.0</td>\n",
       "      <td>2.0</td>\n",
       "      <td>2.0</td>\n",
       "      <td>3.0</td>\n",
       "      <td>2.0</td>\n",
       "    </tr>\n",
       "    <tr>\n",
       "      <th>day</th>\n",
       "      <td>1.0</td>\n",
       "      <td>0.0</td>\n",
       "      <td>0.0</td>\n",
       "      <td>0.0</td>\n",
       "      <td>0.0</td>\n",
       "    </tr>\n",
       "  </tbody>\n",
       "</table>\n",
       "</div>"
      ],
      "text/plain": [
       "                                 0            1           3           4  \\\n",
       "belongs_to_collection          1.0          0.0         0.0         1.0   \n",
       "budget                  30000000.0   65000000.0  16000000.0   8000000.0   \n",
       "genres                         2.0          1.0         3.0         3.0   \n",
       "original_language             10.0         10.0        10.0        10.0   \n",
       "production_companies        1363.0       1809.0      1825.0      1536.0   \n",
       "production_countries          74.0         74.0        74.0        74.0   \n",
       "release_date                1681.0       1693.0      1694.0      1625.0   \n",
       "revenue                373554033.0  262797249.0  81452156.0  76578911.0   \n",
       "runtime                       81.0        104.0       127.0       106.0   \n",
       "spoken_languages              10.0         10.0        10.0        10.0   \n",
       "year                          77.0         77.0        77.0        77.0   \n",
       "month                         10.0          2.0         2.0         3.0   \n",
       "day                            1.0          0.0         0.0         0.0   \n",
       "\n",
       "                                 5  \n",
       "belongs_to_collection          0.0  \n",
       "budget                  60000000.0  \n",
       "genres                         0.0  \n",
       "original_language             10.0  \n",
       "production_companies        1464.0  \n",
       "production_countries          74.0  \n",
       "release_date                1693.0  \n",
       "revenue                187436818.0  \n",
       "runtime                      170.0  \n",
       "spoken_languages              10.0  \n",
       "year                          77.0  \n",
       "month                          2.0  \n",
       "day                            0.0  "
      ]
     },
     "execution_count": 43,
     "metadata": {},
     "output_type": "execute_result"
    }
   ],
   "source": [
    "df_exp2.head().T"
   ]
  },
  {
   "cell_type": "code",
   "execution_count": 44,
   "metadata": {},
   "outputs": [
    {
     "data": {
      "text/plain": [
       "count     7148.000000\n",
       "mean         6.717908\n",
       "std        161.062854\n",
       "min          0.000514\n",
       "25%          0.437678\n",
       "50%          1.592235\n",
       "75%          3.664051\n",
       "max      12890.386667\n",
       "Name: return, dtype: float64"
      ]
     },
     "execution_count": 44,
     "metadata": {},
     "output_type": "execute_result"
    }
   ],
   "source": [
    "df_exp2['return'] = df_exp2['revenue']/df_exp2['budget']\n",
    "df_exp2['return'].describe()\n"
   ]
  },
  {
   "cell_type": "code",
   "execution_count": 45,
   "metadata": {
    "collapsed": true
   },
   "outputs": [],
   "source": [
    "from numpy import floor\n",
    "\n",
    "def convert_class_multiple(x):\n",
    "    if x<0.38:\n",
    "         return 0\n",
    "    elif x<1.6 :\n",
    "         return 1\n",
    "    elif x<3.6 :\n",
    "         return 2  \n",
    "    else:\n",
    "         return 3\n",
    "\n",
    "df_exp2['return'] = df_exp2['return'].apply(lambda x: convert_class_multiple(x))"
   ]
  },
  {
   "cell_type": "code",
   "execution_count": 46,
   "metadata": {},
   "outputs": [
    {
     "data": {
      "text/plain": [
       "return\n",
       "0    1647\n",
       "1    1932\n",
       "2    1745\n",
       "3    1824\n",
       "Name: return, dtype: int64"
      ]
     },
     "execution_count": 46,
     "metadata": {},
     "output_type": "execute_result"
    }
   ],
   "source": [
    "df_exp2['return'].groupby(df_exp2['return']).count()"
   ]
  },
  {
   "cell_type": "code",
   "execution_count": 47,
   "metadata": {
    "collapsed": true
   },
   "outputs": [],
   "source": [
    "df_exp2 = df_exp2.drop(['budget'], axis=1)\n",
    "df_exp2 = df_exp2.drop(['revenue'], axis=1)"
   ]
  },
  {
   "cell_type": "code",
   "execution_count": 48,
   "metadata": {
    "collapsed": true
   },
   "outputs": [],
   "source": [
    "return_ = df_exp2['return']\n",
    "data = df_exp2.drop('return', axis=1)"
   ]
  },
  {
   "cell_type": "code",
   "execution_count": 49,
   "metadata": {
    "collapsed": true
   },
   "outputs": [],
   "source": [
    "from sklearn.preprocessing import StandardScaler\n",
    "\n",
    "scaler_0 = StandardScaler().fit(data)\n",
    "data_0 = scaler_0.transform(data)"
   ]
  },
  {
   "cell_type": "code",
   "execution_count": 50,
   "metadata": {
    "collapsed": true
   },
   "outputs": [],
   "source": [
    "#data_ = data_0.as_matrix()\n",
    "return__ = return_.as_matrix()"
   ]
  },
  {
   "cell_type": "code",
   "execution_count": 51,
   "metadata": {},
   "outputs": [
    {
     "name": "stdout",
     "output_type": "stream",
     "text": [
      "L'accuracy est égal à 0.29557109557109557\n"
     ]
    },
    {
     "name": "stderr",
     "output_type": "stream",
     "text": [
      "/Users/khairallah/anaconda3/lib/python3.6/site-packages/sklearn/neural_network/multilayer_perceptron.py:564: ConvergenceWarning: Stochastic Optimizer: Maximum iterations (10) reached and the optimization hasn't converged yet.\n",
      "  % self.max_iter, ConvergenceWarning)\n"
     ]
    }
   ],
   "source": [
    "X_train, X_test, Y_train, Y_test = cross_validation.train_test_split(\n",
    "data_0, return__, test_size=0.3, random_state=42)\n",
    "\n",
    "clf_grid.fit(X_train, Y_train) \n",
    "Y_pred = clf_grid.predict(scaler_0.transform(X_test))\n",
    "\n",
    "print(\"L'accuracy est égal à {}\".format(accuracy_score(Y_test, Y_pred)))\n",
    "\n"
   ]
  },
  {
   "cell_type": "code",
   "execution_count": 53,
   "metadata": {
    "scrolled": true
   },
   "outputs": [
    {
     "name": "stdout",
     "output_type": "stream",
     "text": [
      "# Tuning hyper-parameters for accuracy_score\n",
      "\n",
      "Fitting 2 folds for each of 32 candidates, totalling 64 fits\n",
      "[CV] activation=logistic, batch_size=10, hidden_layer_sizes=(10, 20), max_iter=20, solver=adam \n",
      "[CV] activation=logistic, batch_size=10, hidden_layer_sizes=(10, 20), max_iter=20, solver=adam \n",
      "[CV] activation=logistic, batch_size=10, hidden_layer_sizes=(10, 20), max_iter=20, solver=sgd \n",
      "[CV] activation=logistic, batch_size=10, hidden_layer_sizes=(10, 20), max_iter=20, solver=sgd \n",
      "[CV]  activation=logistic, batch_size=10, hidden_layer_sizes=(10, 20), max_iter=20, solver=sgd -   2.0s\n",
      "[CV] activation=logistic, batch_size=10, hidden_layer_sizes=(10, 20), max_iter=10, solver=adam \n"
     ]
    },
    {
     "name": "stderr",
     "output_type": "stream",
     "text": [
      "/Users/khairallah/anaconda3/lib/python3.6/site-packages/sklearn/neural_network/multilayer_perceptron.py:564: ConvergenceWarning: Stochastic Optimizer: Maximum iterations (20) reached and the optimization hasn't converged yet.\n",
      "  % self.max_iter, ConvergenceWarning)\n"
     ]
    },
    {
     "name": "stdout",
     "output_type": "stream",
     "text": [
      "[CV]  activation=logistic, batch_size=10, hidden_layer_sizes=(10, 20), max_iter=20, solver=sgd -   3.4s\n",
      "[CV] activation=logistic, batch_size=10, hidden_layer_sizes=(10, 20), max_iter=10, solver=adam \n"
     ]
    },
    {
     "name": "stderr",
     "output_type": "stream",
     "text": [
      "/Users/khairallah/anaconda3/lib/python3.6/site-packages/sklearn/neural_network/multilayer_perceptron.py:564: ConvergenceWarning: Stochastic Optimizer: Maximum iterations (10) reached and the optimization hasn't converged yet.\n",
      "  % self.max_iter, ConvergenceWarning)\n"
     ]
    },
    {
     "name": "stdout",
     "output_type": "stream",
     "text": [
      "[CV]  activation=logistic, batch_size=10, hidden_layer_sizes=(10, 20), max_iter=10, solver=adam -   1.9s\n",
      "[CV] activation=logistic, batch_size=10, hidden_layer_sizes=(10, 20), max_iter=10, solver=sgd \n"
     ]
    },
    {
     "name": "stderr",
     "output_type": "stream",
     "text": [
      "/Users/khairallah/anaconda3/lib/python3.6/site-packages/sklearn/neural_network/multilayer_perceptron.py:564: ConvergenceWarning: Stochastic Optimizer: Maximum iterations (20) reached and the optimization hasn't converged yet.\n",
      "  % self.max_iter, ConvergenceWarning)\n",
      "/Users/khairallah/anaconda3/lib/python3.6/site-packages/sklearn/neural_network/multilayer_perceptron.py:564: ConvergenceWarning: Stochastic Optimizer: Maximum iterations (20) reached and the optimization hasn't converged yet.\n",
      "  % self.max_iter, ConvergenceWarning)\n"
     ]
    },
    {
     "name": "stdout",
     "output_type": "stream",
     "text": [
      "[CV]  activation=logistic, batch_size=10, hidden_layer_sizes=(10, 20), max_iter=20, solver=adam -   4.1s\n",
      "[CV] activation=logistic, batch_size=10, hidden_layer_sizes=(10, 20), max_iter=10, solver=sgd \n",
      "[CV]  activation=logistic, batch_size=10, hidden_layer_sizes=(10, 20), max_iter=20, solver=adam -   4.1s\n",
      "[CV] activation=logistic, batch_size=10, hidden_layer_sizes=(100, 200), max_iter=20, solver=adam \n",
      "[CV]  activation=logistic, batch_size=10, hidden_layer_sizes=(10, 20), max_iter=10, solver=sgd -   1.2s\n",
      "[CV] activation=logistic, batch_size=10, hidden_layer_sizes=(100, 200), max_iter=20, solver=adam \n",
      "[CV]  activation=logistic, batch_size=10, hidden_layer_sizes=(10, 20), max_iter=10, solver=sgd -   1.7s\n",
      "[CV] activation=logistic, batch_size=10, hidden_layer_sizes=(100, 200), max_iter=20, solver=sgd \n"
     ]
    },
    {
     "name": "stderr",
     "output_type": "stream",
     "text": [
      "/Users/khairallah/anaconda3/lib/python3.6/site-packages/sklearn/neural_network/multilayer_perceptron.py:564: ConvergenceWarning: Stochastic Optimizer: Maximum iterations (10) reached and the optimization hasn't converged yet.\n",
      "  % self.max_iter, ConvergenceWarning)\n"
     ]
    },
    {
     "name": "stdout",
     "output_type": "stream",
     "text": [
      "[CV]  activation=logistic, batch_size=10, hidden_layer_sizes=(10, 20), max_iter=10, solver=adam -   2.6s\n",
      "[CV] activation=logistic, batch_size=10, hidden_layer_sizes=(100, 200), max_iter=20, solver=sgd \n",
      "[CV]  activation=logistic, batch_size=10, hidden_layer_sizes=(100, 200), max_iter=20, solver=sgd -   2.6s\n",
      "[CV] activation=logistic, batch_size=10, hidden_layer_sizes=(100, 200), max_iter=10, solver=adam \n"
     ]
    },
    {
     "name": "stderr",
     "output_type": "stream",
     "text": [
      "/Users/khairallah/anaconda3/lib/python3.6/site-packages/sklearn/neural_network/multilayer_perceptron.py:564: ConvergenceWarning: Stochastic Optimizer: Maximum iterations (10) reached and the optimization hasn't converged yet.\n",
      "  % self.max_iter, ConvergenceWarning)\n"
     ]
    },
    {
     "name": "stdout",
     "output_type": "stream",
     "text": [
      "[CV]  activation=logistic, batch_size=10, hidden_layer_sizes=(100, 200), max_iter=10, solver=adam -   8.5s\n",
      "[CV] activation=logistic, batch_size=10, hidden_layer_sizes=(100, 200), max_iter=10, solver=adam \n"
     ]
    },
    {
     "name": "stderr",
     "output_type": "stream",
     "text": [
      "/Users/khairallah/anaconda3/lib/python3.6/site-packages/sklearn/neural_network/multilayer_perceptron.py:564: ConvergenceWarning: Stochastic Optimizer: Maximum iterations (20) reached and the optimization hasn't converged yet.\n",
      "  % self.max_iter, ConvergenceWarning)\n"
     ]
    },
    {
     "name": "stdout",
     "output_type": "stream",
     "text": [
      "[CV]  activation=logistic, batch_size=10, hidden_layer_sizes=(100, 200), max_iter=20, solver=sgd -  14.0s\n",
      "[CV] activation=logistic, batch_size=10, hidden_layer_sizes=(100, 200), max_iter=10, solver=sgd \n"
     ]
    },
    {
     "name": "stderr",
     "output_type": "stream",
     "text": [
      "/Users/khairallah/anaconda3/lib/python3.6/site-packages/sklearn/neural_network/multilayer_perceptron.py:564: ConvergenceWarning: Stochastic Optimizer: Maximum iterations (20) reached and the optimization hasn't converged yet.\n",
      "  % self.max_iter, ConvergenceWarning)\n"
     ]
    },
    {
     "name": "stdout",
     "output_type": "stream",
     "text": [
      "[CV]  activation=logistic, batch_size=10, hidden_layer_sizes=(100, 200), max_iter=20, solver=adam -  17.6s\n",
      "[CV] activation=logistic, batch_size=10, hidden_layer_sizes=(100, 200), max_iter=10, solver=sgd \n"
     ]
    },
    {
     "name": "stderr",
     "output_type": "stream",
     "text": [
      "/Users/khairallah/anaconda3/lib/python3.6/site-packages/sklearn/neural_network/multilayer_perceptron.py:564: ConvergenceWarning: Stochastic Optimizer: Maximum iterations (20) reached and the optimization hasn't converged yet.\n",
      "  % self.max_iter, ConvergenceWarning)\n"
     ]
    },
    {
     "name": "stdout",
     "output_type": "stream",
     "text": [
      "[CV]  activation=logistic, batch_size=10, hidden_layer_sizes=(100, 200), max_iter=20, solver=adam -  17.0s\n",
      "[CV] activation=logistic, batch_size=50, hidden_layer_sizes=(10, 20), max_iter=20, solver=adam \n",
      "[CV]  activation=logistic, batch_size=10, hidden_layer_sizes=(100, 200), max_iter=10, solver=sgd -   3.2s\n",
      "[CV] activation=logistic, batch_size=50, hidden_layer_sizes=(10, 20), max_iter=20, solver=adam \n"
     ]
    },
    {
     "name": "stderr",
     "output_type": "stream",
     "text": [
      "/Users/khairallah/anaconda3/lib/python3.6/site-packages/sklearn/neural_network/multilayer_perceptron.py:564: ConvergenceWarning: Stochastic Optimizer: Maximum iterations (20) reached and the optimization hasn't converged yet.\n",
      "  % self.max_iter, ConvergenceWarning)\n"
     ]
    },
    {
     "name": "stdout",
     "output_type": "stream",
     "text": [
      "[CV]  activation=logistic, batch_size=50, hidden_layer_sizes=(10, 20), max_iter=20, solver=adam -   1.3s\n",
      "[CV] activation=logistic, batch_size=50, hidden_layer_sizes=(10, 20), max_iter=20, solver=sgd \n",
      "[CV]  activation=logistic, batch_size=50, hidden_layer_sizes=(10, 20), max_iter=20, solver=sgd -   0.4s\n",
      "[CV] activation=logistic, batch_size=50, hidden_layer_sizes=(10, 20), max_iter=20, solver=sgd \n"
     ]
    },
    {
     "name": "stderr",
     "output_type": "stream",
     "text": [
      "/Users/khairallah/anaconda3/lib/python3.6/site-packages/sklearn/neural_network/multilayer_perceptron.py:564: ConvergenceWarning: Stochastic Optimizer: Maximum iterations (20) reached and the optimization hasn't converged yet.\n",
      "  % self.max_iter, ConvergenceWarning)\n"
     ]
    },
    {
     "name": "stdout",
     "output_type": "stream",
     "text": [
      "[CV]  activation=logistic, batch_size=50, hidden_layer_sizes=(10, 20), max_iter=20, solver=adam -   1.2s\n",
      "[CV] activation=logistic, batch_size=50, hidden_layer_sizes=(10, 20), max_iter=10, solver=adam \n",
      "[CV]  activation=logistic, batch_size=50, hidden_layer_sizes=(10, 20), max_iter=20, solver=sgd -   0.5s\n",
      "[CV] activation=logistic, batch_size=50, hidden_layer_sizes=(10, 20), max_iter=10, solver=adam \n"
     ]
    },
    {
     "name": "stderr",
     "output_type": "stream",
     "text": [
      "/Users/khairallah/anaconda3/lib/python3.6/site-packages/sklearn/neural_network/multilayer_perceptron.py:564: ConvergenceWarning: Stochastic Optimizer: Maximum iterations (10) reached and the optimization hasn't converged yet.\n",
      "  % self.max_iter, ConvergenceWarning)\n"
     ]
    },
    {
     "name": "stdout",
     "output_type": "stream",
     "text": [
      "[CV]  activation=logistic, batch_size=50, hidden_layer_sizes=(10, 20), max_iter=10, solver=adam -   0.7s\n",
      "[CV] activation=logistic, batch_size=50, hidden_layer_sizes=(10, 20), max_iter=10, solver=sgd \n"
     ]
    },
    {
     "name": "stderr",
     "output_type": "stream",
     "text": [
      "/Users/khairallah/anaconda3/lib/python3.6/site-packages/sklearn/neural_network/multilayer_perceptron.py:564: ConvergenceWarning: Stochastic Optimizer: Maximum iterations (10) reached and the optimization hasn't converged yet.\n",
      "  % self.max_iter, ConvergenceWarning)\n"
     ]
    },
    {
     "name": "stdout",
     "output_type": "stream",
     "text": [
      "[CV]  activation=logistic, batch_size=50, hidden_layer_sizes=(10, 20), max_iter=10, solver=adam -   0.7s\n",
      "[CV] activation=logistic, batch_size=50, hidden_layer_sizes=(10, 20), max_iter=10, solver=sgd \n"
     ]
    },
    {
     "name": "stderr",
     "output_type": "stream",
     "text": [
      "/Users/khairallah/anaconda3/lib/python3.6/site-packages/sklearn/neural_network/multilayer_perceptron.py:564: ConvergenceWarning: Stochastic Optimizer: Maximum iterations (10) reached and the optimization hasn't converged yet.\n",
      "  % self.max_iter, ConvergenceWarning)\n"
     ]
    },
    {
     "name": "stdout",
     "output_type": "stream",
     "text": [
      "[CV]  activation=logistic, batch_size=10, hidden_layer_sizes=(100, 200), max_iter=10, solver=adam -   8.6s\n",
      "[CV] activation=logistic, batch_size=50, hidden_layer_sizes=(100, 200), max_iter=20, solver=adam \n"
     ]
    },
    {
     "name": "stderr",
     "output_type": "stream",
     "text": [
      "/Users/khairallah/anaconda3/lib/python3.6/site-packages/sklearn/neural_network/multilayer_perceptron.py:564: ConvergenceWarning: Stochastic Optimizer: Maximum iterations (10) reached and the optimization hasn't converged yet.\n",
      "  % self.max_iter, ConvergenceWarning)\n"
     ]
    },
    {
     "name": "stdout",
     "output_type": "stream",
     "text": [
      "[CV]  activation=logistic, batch_size=50, hidden_layer_sizes=(10, 20), max_iter=10, solver=sgd -   0.5s\n",
      "[CV] activation=logistic, batch_size=50, hidden_layer_sizes=(100, 200), max_iter=20, solver=adam \n",
      "[CV]  activation=logistic, batch_size=50, hidden_layer_sizes=(10, 20), max_iter=10, solver=sgd -   0.5s\n",
      "[CV] activation=logistic, batch_size=50, hidden_layer_sizes=(100, 200), max_iter=20, solver=sgd \n",
      "[CV]  activation=logistic, batch_size=10, hidden_layer_sizes=(100, 200), max_iter=10, solver=sgd -   4.7s\n",
      "[CV] activation=logistic, batch_size=50, hidden_layer_sizes=(100, 200), max_iter=20, solver=sgd \n",
      "[CV]  activation=logistic, batch_size=50, hidden_layer_sizes=(100, 200), max_iter=20, solver=sgd -   1.8s\n",
      "[CV] activation=logistic, batch_size=50, hidden_layer_sizes=(100, 200), max_iter=10, solver=adam \n",
      "[CV]  activation=logistic, batch_size=50, hidden_layer_sizes=(100, 200), max_iter=20, solver=sgd -   1.9s\n",
      "[CV] activation=logistic, batch_size=50, hidden_layer_sizes=(100, 200), max_iter=10, solver=adam \n",
      "[CV]  activation=logistic, batch_size=50, hidden_layer_sizes=(100, 200), max_iter=20, solver=adam -   3.1s\n",
      "[CV] activation=logistic, batch_size=50, hidden_layer_sizes=(100, 200), max_iter=10, solver=sgd \n",
      "[CV]  activation=logistic, batch_size=50, hidden_layer_sizes=(100, 200), max_iter=20, solver=adam -   4.3s\n",
      "[CV] activation=logistic, batch_size=50, hidden_layer_sizes=(100, 200), max_iter=10, solver=sgd \n",
      "[CV]  activation=logistic, batch_size=50, hidden_layer_sizes=(100, 200), max_iter=10, solver=sgd -   1.5s\n",
      "[CV] activation=relu, batch_size=10, hidden_layer_sizes=(10, 20), max_iter=20, solver=adam \n"
     ]
    },
    {
     "name": "stderr",
     "output_type": "stream",
     "text": [
      "/Users/khairallah/anaconda3/lib/python3.6/site-packages/sklearn/neural_network/multilayer_perceptron.py:564: ConvergenceWarning: Stochastic Optimizer: Maximum iterations (10) reached and the optimization hasn't converged yet.\n",
      "  % self.max_iter, ConvergenceWarning)\n"
     ]
    },
    {
     "name": "stdout",
     "output_type": "stream",
     "text": [
      "[CV]  activation=logistic, batch_size=50, hidden_layer_sizes=(100, 200), max_iter=10, solver=adam -   2.7s\n",
      "[CV] activation=relu, batch_size=10, hidden_layer_sizes=(10, 20), max_iter=20, solver=adam \n"
     ]
    },
    {
     "name": "stderr",
     "output_type": "stream",
     "text": [
      "/Users/khairallah/anaconda3/lib/python3.6/site-packages/sklearn/neural_network/multilayer_perceptron.py:564: ConvergenceWarning: Stochastic Optimizer: Maximum iterations (10) reached and the optimization hasn't converged yet.\n",
      "  % self.max_iter, ConvergenceWarning)\n"
     ]
    },
    {
     "name": "stdout",
     "output_type": "stream",
     "text": [
      "[CV]  activation=logistic, batch_size=50, hidden_layer_sizes=(100, 200), max_iter=10, solver=adam -   2.5s\n",
      "[CV] activation=relu, batch_size=10, hidden_layer_sizes=(10, 20), max_iter=20, solver=sgd \n"
     ]
    },
    {
     "name": "stderr",
     "output_type": "stream",
     "text": [
      "/Users/khairallah/anaconda3/lib/python3.6/site-packages/sklearn/neural_network/multilayer_perceptron.py:564: ConvergenceWarning: Stochastic Optimizer: Maximum iterations (10) reached and the optimization hasn't converged yet.\n",
      "  % self.max_iter, ConvergenceWarning)\n"
     ]
    },
    {
     "name": "stdout",
     "output_type": "stream",
     "text": [
      "[CV]  activation=logistic, batch_size=50, hidden_layer_sizes=(100, 200), max_iter=10, solver=sgd -   2.3s\n",
      "[CV] activation=relu, batch_size=10, hidden_layer_sizes=(10, 20), max_iter=20, solver=sgd \n"
     ]
    },
    {
     "name": "stderr",
     "output_type": "stream",
     "text": [
      "/Users/khairallah/anaconda3/lib/python3.6/site-packages/sklearn/neural_network/multilayer_perceptron.py:564: ConvergenceWarning: Stochastic Optimizer: Maximum iterations (20) reached and the optimization hasn't converged yet.\n",
      "  % self.max_iter, ConvergenceWarning)\n"
     ]
    },
    {
     "name": "stdout",
     "output_type": "stream",
     "text": [
      "[CV]  activation=relu, batch_size=10, hidden_layer_sizes=(10, 20), max_iter=20, solver=sgd -   4.0s\n",
      "[CV] activation=relu, batch_size=10, hidden_layer_sizes=(10, 20), max_iter=10, solver=adam \n"
     ]
    },
    {
     "name": "stderr",
     "output_type": "stream",
     "text": [
      "/Users/khairallah/anaconda3/lib/python3.6/site-packages/sklearn/neural_network/multilayer_perceptron.py:564: ConvergenceWarning: Stochastic Optimizer: Maximum iterations (20) reached and the optimization hasn't converged yet.\n",
      "  % self.max_iter, ConvergenceWarning)\n"
     ]
    },
    {
     "name": "stdout",
     "output_type": "stream",
     "text": [
      "[CV]  activation=relu, batch_size=10, hidden_layer_sizes=(10, 20), max_iter=20, solver=adam -   4.9s\n",
      "[CV] activation=relu, batch_size=10, hidden_layer_sizes=(10, 20), max_iter=10, solver=adam \n"
     ]
    },
    {
     "name": "stderr",
     "output_type": "stream",
     "text": [
      "[Parallel(n_jobs=-1)]: Done  33 tasks      | elapsed:   35.0s\n",
      "/Users/khairallah/anaconda3/lib/python3.6/site-packages/sklearn/neural_network/multilayer_perceptron.py:564: ConvergenceWarning: Stochastic Optimizer: Maximum iterations (20) reached and the optimization hasn't converged yet.\n",
      "  % self.max_iter, ConvergenceWarning)\n"
     ]
    },
    {
     "name": "stdout",
     "output_type": "stream",
     "text": [
      "[CV]  activation=relu, batch_size=10, hidden_layer_sizes=(10, 20), max_iter=20, solver=adam -   4.9s\n",
      "[CV] activation=relu, batch_size=10, hidden_layer_sizes=(10, 20), max_iter=10, solver=sgd \n"
     ]
    },
    {
     "name": "stderr",
     "output_type": "stream",
     "text": [
      "/Users/khairallah/anaconda3/lib/python3.6/site-packages/sklearn/neural_network/multilayer_perceptron.py:564: ConvergenceWarning: Stochastic Optimizer: Maximum iterations (20) reached and the optimization hasn't converged yet.\n",
      "  % self.max_iter, ConvergenceWarning)\n"
     ]
    },
    {
     "name": "stdout",
     "output_type": "stream",
     "text": [
      "[CV]  activation=relu, batch_size=10, hidden_layer_sizes=(10, 20), max_iter=20, solver=sgd -   3.9s\n",
      "[CV] activation=relu, batch_size=10, hidden_layer_sizes=(10, 20), max_iter=10, solver=sgd \n"
     ]
    },
    {
     "name": "stderr",
     "output_type": "stream",
     "text": [
      "/Users/khairallah/anaconda3/lib/python3.6/site-packages/sklearn/neural_network/multilayer_perceptron.py:564: ConvergenceWarning: Stochastic Optimizer: Maximum iterations (10) reached and the optimization hasn't converged yet.\n",
      "  % self.max_iter, ConvergenceWarning)\n"
     ]
    },
    {
     "name": "stdout",
     "output_type": "stream",
     "text": [
      "[CV]  activation=relu, batch_size=10, hidden_layer_sizes=(10, 20), max_iter=10, solver=sgd -   2.1s\n",
      "[CV] activation=relu, batch_size=10, hidden_layer_sizes=(100, 200), max_iter=20, solver=adam \n"
     ]
    },
    {
     "name": "stderr",
     "output_type": "stream",
     "text": [
      "/Users/khairallah/anaconda3/lib/python3.6/site-packages/sklearn/neural_network/multilayer_perceptron.py:564: ConvergenceWarning: Stochastic Optimizer: Maximum iterations (10) reached and the optimization hasn't converged yet.\n",
      "  % self.max_iter, ConvergenceWarning)\n"
     ]
    },
    {
     "name": "stdout",
     "output_type": "stream",
     "text": [
      "[CV]  activation=relu, batch_size=10, hidden_layer_sizes=(10, 20), max_iter=10, solver=adam -   2.5s\n",
      "[CV] activation=relu, batch_size=10, hidden_layer_sizes=(100, 200), max_iter=20, solver=adam \n"
     ]
    },
    {
     "name": "stderr",
     "output_type": "stream",
     "text": [
      "/Users/khairallah/anaconda3/lib/python3.6/site-packages/sklearn/neural_network/multilayer_perceptron.py:564: ConvergenceWarning: Stochastic Optimizer: Maximum iterations (10) reached and the optimization hasn't converged yet.\n",
      "  % self.max_iter, ConvergenceWarning)\n"
     ]
    },
    {
     "name": "stdout",
     "output_type": "stream",
     "text": [
      "[CV]  activation=relu, batch_size=10, hidden_layer_sizes=(10, 20), max_iter=10, solver=adam -   2.5s\n",
      "[CV] activation=relu, batch_size=10, hidden_layer_sizes=(100, 200), max_iter=20, solver=sgd \n"
     ]
    },
    {
     "name": "stderr",
     "output_type": "stream",
     "text": [
      "/Users/khairallah/anaconda3/lib/python3.6/site-packages/sklearn/neural_network/multilayer_perceptron.py:564: ConvergenceWarning: Stochastic Optimizer: Maximum iterations (10) reached and the optimization hasn't converged yet.\n",
      "  % self.max_iter, ConvergenceWarning)\n"
     ]
    },
    {
     "name": "stdout",
     "output_type": "stream",
     "text": [
      "[CV]  activation=relu, batch_size=10, hidden_layer_sizes=(10, 20), max_iter=10, solver=sgd -   2.4s\n",
      "[CV] activation=relu, batch_size=10, hidden_layer_sizes=(100, 200), max_iter=20, solver=sgd \n"
     ]
    },
    {
     "name": "stderr",
     "output_type": "stream",
     "text": [
      "/Users/khairallah/anaconda3/lib/python3.6/site-packages/sklearn/neural_network/multilayer_perceptron.py:564: ConvergenceWarning: Stochastic Optimizer: Maximum iterations (20) reached and the optimization hasn't converged yet.\n",
      "  % self.max_iter, ConvergenceWarning)\n"
     ]
    },
    {
     "name": "stdout",
     "output_type": "stream",
     "text": [
      "[CV]  activation=relu, batch_size=10, hidden_layer_sizes=(100, 200), max_iter=20, solver=sgd -  12.8s\n",
      "[CV] activation=relu, batch_size=10, hidden_layer_sizes=(100, 200), max_iter=10, solver=adam \n"
     ]
    },
    {
     "name": "stderr",
     "output_type": "stream",
     "text": [
      "/Users/khairallah/anaconda3/lib/python3.6/site-packages/sklearn/neural_network/multilayer_perceptron.py:564: ConvergenceWarning: Stochastic Optimizer: Maximum iterations (20) reached and the optimization hasn't converged yet.\n",
      "  % self.max_iter, ConvergenceWarning)\n"
     ]
    },
    {
     "name": "stdout",
     "output_type": "stream",
     "text": [
      "[CV]  activation=relu, batch_size=10, hidden_layer_sizes=(100, 200), max_iter=20, solver=sgd -  12.5s\n",
      "[CV] activation=relu, batch_size=10, hidden_layer_sizes=(100, 200), max_iter=10, solver=adam \n"
     ]
    },
    {
     "name": "stderr",
     "output_type": "stream",
     "text": [
      "/Users/khairallah/anaconda3/lib/python3.6/site-packages/sklearn/neural_network/multilayer_perceptron.py:564: ConvergenceWarning: Stochastic Optimizer: Maximum iterations (20) reached and the optimization hasn't converged yet.\n",
      "  % self.max_iter, ConvergenceWarning)\n"
     ]
    },
    {
     "name": "stdout",
     "output_type": "stream",
     "text": [
      "[CV]  activation=relu, batch_size=10, hidden_layer_sizes=(100, 200), max_iter=20, solver=adam -  15.1s\n",
      "[CV] activation=relu, batch_size=10, hidden_layer_sizes=(100, 200), max_iter=10, solver=sgd \n"
     ]
    },
    {
     "name": "stderr",
     "output_type": "stream",
     "text": [
      "/Users/khairallah/anaconda3/lib/python3.6/site-packages/sklearn/neural_network/multilayer_perceptron.py:564: ConvergenceWarning: Stochastic Optimizer: Maximum iterations (20) reached and the optimization hasn't converged yet.\n",
      "  % self.max_iter, ConvergenceWarning)\n"
     ]
    },
    {
     "name": "stdout",
     "output_type": "stream",
     "text": [
      "[CV]  activation=relu, batch_size=10, hidden_layer_sizes=(100, 200), max_iter=20, solver=adam -  15.2s\n",
      "[CV] activation=relu, batch_size=10, hidden_layer_sizes=(100, 200), max_iter=10, solver=sgd \n"
     ]
    },
    {
     "name": "stderr",
     "output_type": "stream",
     "text": [
      "/Users/khairallah/anaconda3/lib/python3.6/site-packages/sklearn/neural_network/multilayer_perceptron.py:564: ConvergenceWarning: Stochastic Optimizer: Maximum iterations (10) reached and the optimization hasn't converged yet.\n",
      "  % self.max_iter, ConvergenceWarning)\n"
     ]
    },
    {
     "name": "stdout",
     "output_type": "stream",
     "text": [
      "[CV]  activation=relu, batch_size=10, hidden_layer_sizes=(100, 200), max_iter=10, solver=adam -   8.0s\n",
      "[CV] activation=relu, batch_size=50, hidden_layer_sizes=(10, 20), max_iter=20, solver=adam \n"
     ]
    },
    {
     "name": "stderr",
     "output_type": "stream",
     "text": [
      "/Users/khairallah/anaconda3/lib/python3.6/site-packages/sklearn/neural_network/multilayer_perceptron.py:564: ConvergenceWarning: Stochastic Optimizer: Maximum iterations (10) reached and the optimization hasn't converged yet.\n",
      "  % self.max_iter, ConvergenceWarning)\n",
      "/Users/khairallah/anaconda3/lib/python3.6/site-packages/sklearn/neural_network/multilayer_perceptron.py:564: ConvergenceWarning: Stochastic Optimizer: Maximum iterations (10) reached and the optimization hasn't converged yet.\n",
      "  % self.max_iter, ConvergenceWarning)\n"
     ]
    },
    {
     "name": "stdout",
     "output_type": "stream",
     "text": [
      "[CV]  activation=relu, batch_size=10, hidden_layer_sizes=(100, 200), max_iter=10, solver=adam -   8.1s\n",
      "[CV]  activation=relu, batch_size=10, hidden_layer_sizes=(100, 200), max_iter=10, solver=sgd -   6.5s\n",
      "[CV] activation=relu, batch_size=50, hidden_layer_sizes=(10, 20), max_iter=20, solver=adam \n",
      "[CV] activation=relu, batch_size=50, hidden_layer_sizes=(10, 20), max_iter=20, solver=sgd \n"
     ]
    },
    {
     "name": "stderr",
     "output_type": "stream",
     "text": [
      "/Users/khairallah/anaconda3/lib/python3.6/site-packages/sklearn/neural_network/multilayer_perceptron.py:564: ConvergenceWarning: Stochastic Optimizer: Maximum iterations (10) reached and the optimization hasn't converged yet.\n",
      "  % self.max_iter, ConvergenceWarning)\n"
     ]
    },
    {
     "name": "stdout",
     "output_type": "stream",
     "text": [
      "[CV]  activation=relu, batch_size=10, hidden_layer_sizes=(100, 200), max_iter=10, solver=sgd -   6.9s\n",
      "[CV] activation=relu, batch_size=50, hidden_layer_sizes=(10, 20), max_iter=20, solver=sgd \n"
     ]
    },
    {
     "name": "stderr",
     "output_type": "stream",
     "text": [
      "/Users/khairallah/anaconda3/lib/python3.6/site-packages/sklearn/neural_network/multilayer_perceptron.py:564: ConvergenceWarning: Stochastic Optimizer: Maximum iterations (20) reached and the optimization hasn't converged yet.\n",
      "  % self.max_iter, ConvergenceWarning)\n"
     ]
    },
    {
     "name": "stdout",
     "output_type": "stream",
     "text": [
      "[CV]  activation=relu, batch_size=50, hidden_layer_sizes=(10, 20), max_iter=20, solver=adam -   1.2s\n",
      "[CV] activation=relu, batch_size=50, hidden_layer_sizes=(10, 20), max_iter=10, solver=adam \n"
     ]
    },
    {
     "name": "stderr",
     "output_type": "stream",
     "text": [
      "/Users/khairallah/anaconda3/lib/python3.6/site-packages/sklearn/neural_network/multilayer_perceptron.py:564: ConvergenceWarning: Stochastic Optimizer: Maximum iterations (10) reached and the optimization hasn't converged yet.\n",
      "  % self.max_iter, ConvergenceWarning)\n"
     ]
    },
    {
     "name": "stdout",
     "output_type": "stream",
     "text": [
      "[CV]  activation=relu, batch_size=50, hidden_layer_sizes=(10, 20), max_iter=10, solver=adam -   0.6s\n",
      "[CV] activation=relu, batch_size=50, hidden_layer_sizes=(10, 20), max_iter=10, solver=adam \n"
     ]
    },
    {
     "name": "stderr",
     "output_type": "stream",
     "text": [
      "/Users/khairallah/anaconda3/lib/python3.6/site-packages/sklearn/neural_network/multilayer_perceptron.py:564: ConvergenceWarning: Stochastic Optimizer: Maximum iterations (20) reached and the optimization hasn't converged yet.\n",
      "  % self.max_iter, ConvergenceWarning)\n"
     ]
    },
    {
     "name": "stdout",
     "output_type": "stream",
     "text": [
      "[CV]  activation=relu, batch_size=50, hidden_layer_sizes=(10, 20), max_iter=20, solver=sgd -   1.1s\n",
      "[CV] activation=relu, batch_size=50, hidden_layer_sizes=(10, 20), max_iter=10, solver=sgd \n"
     ]
    },
    {
     "name": "stderr",
     "output_type": "stream",
     "text": [
      "/Users/khairallah/anaconda3/lib/python3.6/site-packages/sklearn/neural_network/multilayer_perceptron.py:564: ConvergenceWarning: Stochastic Optimizer: Maximum iterations (20) reached and the optimization hasn't converged yet.\n",
      "  % self.max_iter, ConvergenceWarning)\n"
     ]
    },
    {
     "name": "stdout",
     "output_type": "stream",
     "text": [
      "[CV]  activation=relu, batch_size=50, hidden_layer_sizes=(10, 20), max_iter=20, solver=sgd -   1.1s\n",
      "[CV] activation=relu, batch_size=50, hidden_layer_sizes=(10, 20), max_iter=10, solver=sgd \n"
     ]
    },
    {
     "name": "stderr",
     "output_type": "stream",
     "text": [
      "/Users/khairallah/anaconda3/lib/python3.6/site-packages/sklearn/neural_network/multilayer_perceptron.py:564: ConvergenceWarning: Stochastic Optimizer: Maximum iterations (20) reached and the optimization hasn't converged yet.\n",
      "  % self.max_iter, ConvergenceWarning)\n"
     ]
    },
    {
     "name": "stdout",
     "output_type": "stream",
     "text": [
      "[CV]  activation=relu, batch_size=50, hidden_layer_sizes=(10, 20), max_iter=20, solver=adam -   1.4s\n",
      "[CV] activation=relu, batch_size=50, hidden_layer_sizes=(100, 200), max_iter=20, solver=adam \n"
     ]
    },
    {
     "name": "stderr",
     "output_type": "stream",
     "text": [
      "/Users/khairallah/anaconda3/lib/python3.6/site-packages/sklearn/neural_network/multilayer_perceptron.py:564: ConvergenceWarning: Stochastic Optimizer: Maximum iterations (10) reached and the optimization hasn't converged yet.\n",
      "  % self.max_iter, ConvergenceWarning)\n"
     ]
    },
    {
     "name": "stdout",
     "output_type": "stream",
     "text": [
      "[CV]  activation=relu, batch_size=50, hidden_layer_sizes=(10, 20), max_iter=10, solver=adam -   0.7s\n",
      "[CV] activation=relu, batch_size=50, hidden_layer_sizes=(100, 200), max_iter=20, solver=adam \n"
     ]
    },
    {
     "name": "stderr",
     "output_type": "stream",
     "text": [
      "/Users/khairallah/anaconda3/lib/python3.6/site-packages/sklearn/neural_network/multilayer_perceptron.py:564: ConvergenceWarning: Stochastic Optimizer: Maximum iterations (10) reached and the optimization hasn't converged yet.\n",
      "  % self.max_iter, ConvergenceWarning)\n"
     ]
    },
    {
     "name": "stdout",
     "output_type": "stream",
     "text": [
      "[CV]  activation=relu, batch_size=50, hidden_layer_sizes=(10, 20), max_iter=10, solver=sgd -   0.6s\n",
      "[CV] activation=relu, batch_size=50, hidden_layer_sizes=(100, 200), max_iter=20, solver=sgd \n"
     ]
    },
    {
     "name": "stderr",
     "output_type": "stream",
     "text": [
      "/Users/khairallah/anaconda3/lib/python3.6/site-packages/sklearn/neural_network/multilayer_perceptron.py:564: ConvergenceWarning: Stochastic Optimizer: Maximum iterations (10) reached and the optimization hasn't converged yet.\n",
      "  % self.max_iter, ConvergenceWarning)\n"
     ]
    },
    {
     "name": "stdout",
     "output_type": "stream",
     "text": [
      "[CV]  activation=relu, batch_size=50, hidden_layer_sizes=(10, 20), max_iter=10, solver=sgd -   0.6s\n",
      "[CV] activation=relu, batch_size=50, hidden_layer_sizes=(100, 200), max_iter=20, solver=sgd \n"
     ]
    },
    {
     "name": "stderr",
     "output_type": "stream",
     "text": [
      "/Users/khairallah/anaconda3/lib/python3.6/site-packages/sklearn/neural_network/multilayer_perceptron.py:564: ConvergenceWarning: Stochastic Optimizer: Maximum iterations (20) reached and the optimization hasn't converged yet.\n",
      "  % self.max_iter, ConvergenceWarning)\n"
     ]
    },
    {
     "name": "stdout",
     "output_type": "stream",
     "text": [
      "[CV]  activation=relu, batch_size=50, hidden_layer_sizes=(100, 200), max_iter=20, solver=sgd -   4.5s\n",
      "[CV] activation=relu, batch_size=50, hidden_layer_sizes=(100, 200), max_iter=10, solver=adam \n"
     ]
    },
    {
     "name": "stderr",
     "output_type": "stream",
     "text": [
      "/Users/khairallah/anaconda3/lib/python3.6/site-packages/sklearn/neural_network/multilayer_perceptron.py:564: ConvergenceWarning: Stochastic Optimizer: Maximum iterations (20) reached and the optimization hasn't converged yet.\n",
      "  % self.max_iter, ConvergenceWarning)\n"
     ]
    },
    {
     "name": "stdout",
     "output_type": "stream",
     "text": [
      "[CV]  activation=relu, batch_size=50, hidden_layer_sizes=(100, 200), max_iter=20, solver=sgd -   4.6s\n",
      "[CV] activation=relu, batch_size=50, hidden_layer_sizes=(100, 200), max_iter=10, solver=adam \n"
     ]
    },
    {
     "name": "stderr",
     "output_type": "stream",
     "text": [
      "/Users/khairallah/anaconda3/lib/python3.6/site-packages/sklearn/neural_network/multilayer_perceptron.py:564: ConvergenceWarning: Stochastic Optimizer: Maximum iterations (20) reached and the optimization hasn't converged yet.\n",
      "  % self.max_iter, ConvergenceWarning)\n"
     ]
    },
    {
     "name": "stdout",
     "output_type": "stream",
     "text": [
      "[CV]  activation=relu, batch_size=50, hidden_layer_sizes=(100, 200), max_iter=20, solver=adam -   5.4s\n",
      "[CV] activation=relu, batch_size=50, hidden_layer_sizes=(100, 200), max_iter=10, solver=sgd \n"
     ]
    },
    {
     "name": "stderr",
     "output_type": "stream",
     "text": [
      "/Users/khairallah/anaconda3/lib/python3.6/site-packages/sklearn/neural_network/multilayer_perceptron.py:564: ConvergenceWarning: Stochastic Optimizer: Maximum iterations (20) reached and the optimization hasn't converged yet.\n",
      "  % self.max_iter, ConvergenceWarning)\n"
     ]
    },
    {
     "name": "stdout",
     "output_type": "stream",
     "text": [
      "[CV]  activation=relu, batch_size=50, hidden_layer_sizes=(100, 200), max_iter=20, solver=adam -   5.3s\n",
      "[CV] activation=relu, batch_size=50, hidden_layer_sizes=(100, 200), max_iter=10, solver=sgd \n"
     ]
    },
    {
     "name": "stderr",
     "output_type": "stream",
     "text": [
      "/Users/khairallah/anaconda3/lib/python3.6/site-packages/sklearn/neural_network/multilayer_perceptron.py:564: ConvergenceWarning: Stochastic Optimizer: Maximum iterations (10) reached and the optimization hasn't converged yet.\n",
      "  % self.max_iter, ConvergenceWarning)\n"
     ]
    },
    {
     "name": "stdout",
     "output_type": "stream",
     "text": [
      "[CV]  activation=relu, batch_size=50, hidden_layer_sizes=(100, 200), max_iter=10, solver=adam -   2.0s\n"
     ]
    },
    {
     "name": "stderr",
     "output_type": "stream",
     "text": [
      "/Users/khairallah/anaconda3/lib/python3.6/site-packages/sklearn/neural_network/multilayer_perceptron.py:564: ConvergenceWarning: Stochastic Optimizer: Maximum iterations (10) reached and the optimization hasn't converged yet.\n",
      "  % self.max_iter, ConvergenceWarning)\n"
     ]
    },
    {
     "name": "stdout",
     "output_type": "stream",
     "text": [
      "[CV]  activation=relu, batch_size=50, hidden_layer_sizes=(100, 200), max_iter=10, solver=adam -   2.0s\n"
     ]
    },
    {
     "name": "stderr",
     "output_type": "stream",
     "text": [
      "/Users/khairallah/anaconda3/lib/python3.6/site-packages/sklearn/neural_network/multilayer_perceptron.py:564: ConvergenceWarning: Stochastic Optimizer: Maximum iterations (10) reached and the optimization hasn't converged yet.\n",
      "  % self.max_iter, ConvergenceWarning)\n"
     ]
    },
    {
     "name": "stdout",
     "output_type": "stream",
     "text": [
      "[CV]  activation=relu, batch_size=50, hidden_layer_sizes=(100, 200), max_iter=10, solver=sgd -   1.7s\n"
     ]
    },
    {
     "name": "stderr",
     "output_type": "stream",
     "text": [
      "/Users/khairallah/anaconda3/lib/python3.6/site-packages/sklearn/neural_network/multilayer_perceptron.py:564: ConvergenceWarning: Stochastic Optimizer: Maximum iterations (10) reached and the optimization hasn't converged yet.\n",
      "  % self.max_iter, ConvergenceWarning)\n"
     ]
    },
    {
     "name": "stdout",
     "output_type": "stream",
     "text": [
      "[CV]  activation=relu, batch_size=50, hidden_layer_sizes=(100, 200), max_iter=10, solver=sgd -   1.6s\n"
     ]
    },
    {
     "name": "stderr",
     "output_type": "stream",
     "text": [
      "[Parallel(n_jobs=-1)]: Done  64 out of  64 | elapsed:  1.1min finished\n"
     ]
    },
    {
     "name": "stdout",
     "output_type": "stream",
     "text": [
      "Best parameters set found on development set:\n",
      "\n",
      "{'activation': 'relu', 'batch_size': 50, 'hidden_layer_sizes': (100, 200), 'max_iter': 10, 'solver': 'adam'}\n",
      "\n",
      "Grid scores on development set:\n",
      "\n",
      "0.389 (+/-0.009) for {'activation': 'logistic', 'batch_size': 10, 'hidden_layer_sizes': (10, 20), 'max_iter': 20, 'solver': 'adam'}\n",
      "0.283 (+/-0.021) for {'activation': 'logistic', 'batch_size': 10, 'hidden_layer_sizes': (10, 20), 'max_iter': 20, 'solver': 'sgd'}\n",
      "0.388 (+/-0.017) for {'activation': 'logistic', 'batch_size': 10, 'hidden_layer_sizes': (10, 20), 'max_iter': 10, 'solver': 'adam'}\n",
      "0.272 (+/-0.000) for {'activation': 'logistic', 'batch_size': 10, 'hidden_layer_sizes': (10, 20), 'max_iter': 10, 'solver': 'sgd'}\n",
      "0.385 (+/-0.021) for {'activation': 'logistic', 'batch_size': 10, 'hidden_layer_sizes': (100, 200), 'max_iter': 20, 'solver': 'adam'}\n",
      "0.302 (+/-0.068) for {'activation': 'logistic', 'batch_size': 10, 'hidden_layer_sizes': (100, 200), 'max_iter': 20, 'solver': 'sgd'}\n",
      "0.384 (+/-0.018) for {'activation': 'logistic', 'batch_size': 10, 'hidden_layer_sizes': (100, 200), 'max_iter': 10, 'solver': 'adam'}\n",
      "0.272 (+/-0.000) for {'activation': 'logistic', 'batch_size': 10, 'hidden_layer_sizes': (100, 200), 'max_iter': 10, 'solver': 'sgd'}\n",
      "0.387 (+/-0.011) for {'activation': 'logistic', 'batch_size': 50, 'hidden_layer_sizes': (10, 20), 'max_iter': 20, 'solver': 'adam'}\n",
      "0.272 (+/-0.000) for {'activation': 'logistic', 'batch_size': 50, 'hidden_layer_sizes': (10, 20), 'max_iter': 20, 'solver': 'sgd'}\n",
      "0.379 (+/-0.018) for {'activation': 'logistic', 'batch_size': 50, 'hidden_layer_sizes': (10, 20), 'max_iter': 10, 'solver': 'adam'}\n",
      "0.272 (+/-0.000) for {'activation': 'logistic', 'batch_size': 50, 'hidden_layer_sizes': (10, 20), 'max_iter': 10, 'solver': 'sgd'}\n",
      "0.386 (+/-0.004) for {'activation': 'logistic', 'batch_size': 50, 'hidden_layer_sizes': (100, 200), 'max_iter': 20, 'solver': 'adam'}\n",
      "0.272 (+/-0.000) for {'activation': 'logistic', 'batch_size': 50, 'hidden_layer_sizes': (100, 200), 'max_iter': 20, 'solver': 'sgd'}\n",
      "0.391 (+/-0.011) for {'activation': 'logistic', 'batch_size': 50, 'hidden_layer_sizes': (100, 200), 'max_iter': 10, 'solver': 'adam'}\n",
      "0.286 (+/-0.028) for {'activation': 'logistic', 'batch_size': 50, 'hidden_layer_sizes': (100, 200), 'max_iter': 10, 'solver': 'sgd'}\n",
      "0.396 (+/-0.012) for {'activation': 'relu', 'batch_size': 10, 'hidden_layer_sizes': (10, 20), 'max_iter': 20, 'solver': 'adam'}\n",
      "0.379 (+/-0.003) for {'activation': 'relu', 'batch_size': 10, 'hidden_layer_sizes': (10, 20), 'max_iter': 20, 'solver': 'sgd'}\n",
      "0.375 (+/-0.004) for {'activation': 'relu', 'batch_size': 10, 'hidden_layer_sizes': (10, 20), 'max_iter': 10, 'solver': 'adam'}\n",
      "0.379 (+/-0.018) for {'activation': 'relu', 'batch_size': 10, 'hidden_layer_sizes': (10, 20), 'max_iter': 10, 'solver': 'sgd'}\n",
      "0.381 (+/-0.027) for {'activation': 'relu', 'batch_size': 10, 'hidden_layer_sizes': (100, 200), 'max_iter': 20, 'solver': 'adam'}\n",
      "0.394 (+/-0.006) for {'activation': 'relu', 'batch_size': 10, 'hidden_layer_sizes': (100, 200), 'max_iter': 20, 'solver': 'sgd'}\n",
      "0.391 (+/-0.003) for {'activation': 'relu', 'batch_size': 10, 'hidden_layer_sizes': (100, 200), 'max_iter': 10, 'solver': 'adam'}\n",
      "0.398 (+/-0.006) for {'activation': 'relu', 'batch_size': 10, 'hidden_layer_sizes': (100, 200), 'max_iter': 10, 'solver': 'sgd'}\n",
      "0.383 (+/-0.012) for {'activation': 'relu', 'batch_size': 50, 'hidden_layer_sizes': (10, 20), 'max_iter': 20, 'solver': 'adam'}\n",
      "0.362 (+/-0.001) for {'activation': 'relu', 'batch_size': 50, 'hidden_layer_sizes': (10, 20), 'max_iter': 20, 'solver': 'sgd'}\n",
      "0.379 (+/-0.000) for {'activation': 'relu', 'batch_size': 50, 'hidden_layer_sizes': (10, 20), 'max_iter': 10, 'solver': 'adam'}\n",
      "0.333 (+/-0.039) for {'activation': 'relu', 'batch_size': 50, 'hidden_layer_sizes': (10, 20), 'max_iter': 10, 'solver': 'sgd'}\n",
      "0.392 (+/-0.020) for {'activation': 'relu', 'batch_size': 50, 'hidden_layer_sizes': (100, 200), 'max_iter': 20, 'solver': 'adam'}\n",
      "0.393 (+/-0.010) for {'activation': 'relu', 'batch_size': 50, 'hidden_layer_sizes': (100, 200), 'max_iter': 20, 'solver': 'sgd'}\n",
      "0.406 (+/-0.017) for {'activation': 'relu', 'batch_size': 50, 'hidden_layer_sizes': (100, 200), 'max_iter': 10, 'solver': 'adam'}\n",
      "0.390 (+/-0.011) for {'activation': 'relu', 'batch_size': 50, 'hidden_layer_sizes': (100, 200), 'max_iter': 10, 'solver': 'sgd'}\n",
      "\n",
      "Detailed classification report:\n",
      "\n",
      "The model is trained on the full development set.\n",
      "The scores are computed on the full evaluation set.\n",
      "\n",
      "             precision    recall  f1-score   support\n",
      "\n",
      "          0       0.37      0.58      0.46       482\n",
      "          1       0.35      0.35      0.35       571\n",
      "          2       0.32      0.09      0.14       529\n",
      "          3       0.45      0.54      0.49       563\n",
      "\n",
      "avg / total       0.37      0.39      0.36      2145\n",
      "\n",
      "\n"
     ]
    },
    {
     "name": "stderr",
     "output_type": "stream",
     "text": [
      "/Users/khairallah/anaconda3/lib/python3.6/site-packages/sklearn/neural_network/multilayer_perceptron.py:564: ConvergenceWarning: Stochastic Optimizer: Maximum iterations (10) reached and the optimization hasn't converged yet.\n",
      "  % self.max_iter, ConvergenceWarning)\n"
     ]
    }
   ],
   "source": [
    "scores = ['accuracy_score']\n",
    "\n",
    "for score in scores:\n",
    "    print(\"# Tuning hyper-parameters for %s\" % score)\n",
    "    print()\n",
    "\n",
    "    clf = GridSearchCV(cv=2, estimator=MLPClassifier() ,param_grid=parameters,n_jobs=-1,verbose=2)\n",
    "    clf.fit(X_train, Y_train)\n",
    "\n",
    "    print(\"Best parameters set found on development set:\")\n",
    "    print()\n",
    "    print(clf.best_params_)\n",
    "    print()\n",
    "    print(\"Grid scores on development set:\")\n",
    "    print()\n",
    "    for params, mean_score, scores in clf.grid_scores_:\n",
    "        print(\"%0.3f (+/-%0.03f) for %r\"\n",
    "              % (mean_score, scores.std() * 2, params))\n",
    "    print()\n",
    "\n",
    "    print(\"Detailed classification report:\")\n",
    "    print()\n",
    "    print(\"The model is trained on the full development set.\")\n",
    "    print(\"The scores are computed on the full evaluation set.\")\n",
    "    print()\n",
    "    y_true, y_pred = Y_test, clf.predict(X_test)\n",
    "    print(classification_report(y_true, y_pred))\n",
    "    print()"
   ]
  },
  {
   "cell_type": "code",
   "execution_count": 54,
   "metadata": {},
   "outputs": [
    {
     "name": "stderr",
     "output_type": "stream",
     "text": [
      "/Users/khairallah/anaconda3/lib/python3.6/site-packages/sklearn/neural_network/multilayer_perceptron.py:564: ConvergenceWarning: Stochastic Optimizer: Maximum iterations (10) reached and the optimization hasn't converged yet.\n",
      "  % self.max_iter, ConvergenceWarning)\n"
     ]
    },
    {
     "name": "stdout",
     "output_type": "stream",
     "text": [
      "L'accuracy est égal à 0.37902097902097903\n",
      "Confusion matrix, without normalization\n",
      "[[235 168  60  19]\n",
      " [158 276  96  41]\n",
      " [108 190 156  75]\n",
      " [ 88 160 169 146]]\n"
     ]
    },
    {
     "data": {
      "image/png": "[encoded data removed]",
      "text/plain": [
       "<matplotlib.figure.Figure at 0x1119f59e8>"
      ]
     },
     "metadata": {},
     "output_type": "display_data"
    }
   ],
   "source": [
    "clf_grid =MLPClassifier(activation='relu', alpha=1e-05, batch_size=50, beta_1=0.9,\n",
    "       beta_2=0.999, early_stopping=False, epsilon=1e-08,\n",
    "       hidden_layer_sizes=(100, 200), learning_rate='constant',\n",
    "       learning_rate_init=0.001, max_iter=10, momentum=0.9,\n",
    "       nesterovs_momentum=True, power_t=0.5, random_state=42, shuffle=True,\n",
    "       solver='adam', tol=0.0001, validation_fraction=0.1, verbose=False,\n",
    "       warm_start=False)\n",
    "\n",
    "clf_grid.fit(X_train, Y_train)\n",
    "Y_exp2_pred = clf_grid.predict(X_test)\n",
    "accuracy = accuracy_score(Y_test,Y_exp2_pred)\n",
    "\n",
    "print(\"L'accuracy est égal à {}\".format(accuracy))\n",
    "c_matrix_grid = confusion_matrix(Y_test,Y_exp2_pred)\n",
    "plt.figure()\n",
    "plot_confusion_matrix(c_matrix_grid, classes=['<0.38','<1.6','<3.6','>=3.6'],\n",
    "                      title='Confusion matrix - Exp 2 post Grid Search')"
   ]
  },
  {
   "cell_type": "markdown",
   "metadata": {},
   "source": [
    "# Expérience 3 - Classification des revenus en classes multiples avec Random Forest"
   ]
  },
  {
   "cell_type": "code",
   "execution_count": 55,
   "metadata": {},
   "outputs": [
    {
     "name": "stdout",
     "output_type": "stream",
     "text": [
      "L'accuracy est égal à 0.3902097902097902\n",
      "Confusion matrix, without normalization\n",
      "[[162  91  33  32]\n",
      " [110 149  57  57]\n",
      " [ 56 127  86  94]\n",
      " [ 47  82  86 161]]\n"
     ]
    },
    {
     "data": {
      "image/png": "[encoded data removed]",
      "text/plain": [
       "<matplotlib.figure.Figure at 0x112ac5320>"
      ]
     },
     "metadata": {},
     "output_type": "display_data"
    }
   ],
   "source": [
    "from sklearn.ensemble import RandomForestClassifier\n",
    "\n",
    "y = return__\n",
    "X = data_0\n",
    "X_train, X_test, y_train, y_test = train_test_split(X, y, test_size=0.2, random_state=42)\n",
    "clf = RandomForestClassifier(n_estimators=500)\n",
    "clf.fit(X_train, y_train)\n",
    "y_pred = clf.predict(X_test)\n",
    "print(\"L'accuracy est égal à {}\".format(accuracy_score(y_test, y_pred)))\n",
    "\n",
    "cf_rf_rev = confusion_matrix(y_test, y_pred)\n",
    "plt.figure()\n",
    "plot_confusion_matrix(cf_rf_rev, classes=['<0.38','<1.6','<3.6','>=3.6'],\n",
    "                      title='Confusion matrix - Exp 3 Random Forest')\n",
    "\n"
   ]
  },
  {
   "cell_type": "markdown",
   "metadata": {},
   "source": [
    "# Expérience 4 - Classifications de la popularité en classes multiples avec un MLP"
   ]
  },
  {
   "cell_type": "code",
   "execution_count": 56,
   "metadata": {
    "collapsed": true
   },
   "outputs": [],
   "source": [
    "df_exp4 = copy.copy(df)"
   ]
  },
  {
   "cell_type": "code",
   "execution_count": 57,
   "metadata": {},
   "outputs": [
    {
     "data": {
      "text/html": [
       "<div>\n",
       "<style>\n",
       "    .dataframe thead tr:only-child th {\n",
       "        text-align: right;\n",
       "    }\n",
       "\n",
       "    .dataframe thead th {\n",
       "        text-align: left;\n",
       "    }\n",
       "\n",
       "    .dataframe tbody tr th {\n",
       "        vertical-align: top;\n",
       "    }\n",
       "</style>\n",
       "<table border=\"1\" class=\"dataframe\">\n",
       "  <thead>\n",
       "    <tr style=\"text-align: right;\">\n",
       "      <th></th>\n",
       "      <th>0</th>\n",
       "      <th>1</th>\n",
       "      <th>2</th>\n",
       "      <th>3</th>\n",
       "      <th>4</th>\n",
       "    </tr>\n",
       "  </thead>\n",
       "  <tbody>\n",
       "    <tr>\n",
       "      <th>belongs_to_collection</th>\n",
       "      <td>1</td>\n",
       "      <td>0</td>\n",
       "      <td>1</td>\n",
       "      <td>0</td>\n",
       "      <td>1</td>\n",
       "    </tr>\n",
       "    <tr>\n",
       "      <th>budget</th>\n",
       "      <td>3e+07</td>\n",
       "      <td>6.5e+07</td>\n",
       "      <td>NaN</td>\n",
       "      <td>1.6e+07</td>\n",
       "      <td>NaN</td>\n",
       "    </tr>\n",
       "    <tr>\n",
       "      <th>genres</th>\n",
       "      <td>[Animation, Comedy, Family]</td>\n",
       "      <td>[Adventure, Fantasy, Family]</td>\n",
       "      <td>[Romance, Comedy]</td>\n",
       "      <td>[Comedy, Drama, Romance]</td>\n",
       "      <td>[Comedy]</td>\n",
       "    </tr>\n",
       "    <tr>\n",
       "      <th>homepage</th>\n",
       "      <td>http://toystory.disney.com/toy-story</td>\n",
       "      <td>NaN</td>\n",
       "      <td>NaN</td>\n",
       "      <td>NaN</td>\n",
       "      <td>NaN</td>\n",
       "    </tr>\n",
       "    <tr>\n",
       "      <th>original_language</th>\n",
       "      <td>en</td>\n",
       "      <td>en</td>\n",
       "      <td>en</td>\n",
       "      <td>en</td>\n",
       "      <td>en</td>\n",
       "    </tr>\n",
       "    <tr>\n",
       "      <th>popularity</th>\n",
       "      <td>21.9469</td>\n",
       "      <td>17.0155</td>\n",
       "      <td>11.7129</td>\n",
       "      <td>3.85949</td>\n",
       "      <td>8.38752</td>\n",
       "    </tr>\n",
       "    <tr>\n",
       "      <th>poster_path</th>\n",
       "      <td>/rhIRbceoE9lR4veEXuwCC2wARtG.jpg</td>\n",
       "      <td>/vzmL6fP7aPKNKPRTFnZmiUfciyV.jpg</td>\n",
       "      <td>/6ksm1sjKMFLbO7UY2i6G1ju9SML.jpg</td>\n",
       "      <td>/16XOMpEaLWkrcPqSQqhTmeJuqQl.jpg</td>\n",
       "      <td>/e64sOI48hQXyru7naBFyssKFxVd.jpg</td>\n",
       "    </tr>\n",
       "    <tr>\n",
       "      <th>production_companies</th>\n",
       "      <td>[Pixar Animation Studios]</td>\n",
       "      <td>[TriStar Pictures, Teitler Film, Interscope Co...</td>\n",
       "      <td>[Warner Bros., Lancaster Gate]</td>\n",
       "      <td>[Twentieth Century Fox Film Corporation]</td>\n",
       "      <td>[Sandollar Productions, Touchstone Pictures]</td>\n",
       "    </tr>\n",
       "    <tr>\n",
       "      <th>production_countries</th>\n",
       "      <td>[United States of America]</td>\n",
       "      <td>[United States of America]</td>\n",
       "      <td>[United States of America]</td>\n",
       "      <td>[United States of America]</td>\n",
       "      <td>[United States of America]</td>\n",
       "    </tr>\n",
       "    <tr>\n",
       "      <th>release_date</th>\n",
       "      <td>1995-10-30</td>\n",
       "      <td>1995-12-15</td>\n",
       "      <td>1995-12-22</td>\n",
       "      <td>1995-12-22</td>\n",
       "      <td>1995-02-10</td>\n",
       "    </tr>\n",
       "    <tr>\n",
       "      <th>revenue</th>\n",
       "      <td>3.73554e+08</td>\n",
       "      <td>2.62797e+08</td>\n",
       "      <td>NaN</td>\n",
       "      <td>8.14522e+07</td>\n",
       "      <td>7.65789e+07</td>\n",
       "    </tr>\n",
       "    <tr>\n",
       "      <th>runtime</th>\n",
       "      <td>81</td>\n",
       "      <td>104</td>\n",
       "      <td>101</td>\n",
       "      <td>127</td>\n",
       "      <td>106</td>\n",
       "    </tr>\n",
       "    <tr>\n",
       "      <th>spoken_languages</th>\n",
       "      <td>[English]</td>\n",
       "      <td>[English, Français]</td>\n",
       "      <td>[English]</td>\n",
       "      <td>[English]</td>\n",
       "      <td>[English]</td>\n",
       "    </tr>\n",
       "    <tr>\n",
       "      <th>status</th>\n",
       "      <td>Released</td>\n",
       "      <td>Released</td>\n",
       "      <td>Released</td>\n",
       "      <td>Released</td>\n",
       "      <td>Released</td>\n",
       "    </tr>\n",
       "    <tr>\n",
       "      <th>title</th>\n",
       "      <td>Toy Story</td>\n",
       "      <td>Jumanji</td>\n",
       "      <td>Grumpier Old Men</td>\n",
       "      <td>Waiting to Exhale</td>\n",
       "      <td>Father of the Bride Part II</td>\n",
       "    </tr>\n",
       "    <tr>\n",
       "      <th>video</th>\n",
       "      <td>False</td>\n",
       "      <td>False</td>\n",
       "      <td>False</td>\n",
       "      <td>False</td>\n",
       "      <td>False</td>\n",
       "    </tr>\n",
       "    <tr>\n",
       "      <th>vote_average</th>\n",
       "      <td>7.7</td>\n",
       "      <td>6.9</td>\n",
       "      <td>6.5</td>\n",
       "      <td>6.1</td>\n",
       "      <td>5.7</td>\n",
       "    </tr>\n",
       "    <tr>\n",
       "      <th>vote_count</th>\n",
       "      <td>5415</td>\n",
       "      <td>2413</td>\n",
       "      <td>92</td>\n",
       "      <td>34</td>\n",
       "      <td>173</td>\n",
       "    </tr>\n",
       "    <tr>\n",
       "      <th>year</th>\n",
       "      <td>1995</td>\n",
       "      <td>1995</td>\n",
       "      <td>1995</td>\n",
       "      <td>1995</td>\n",
       "      <td>1995</td>\n",
       "    </tr>\n",
       "    <tr>\n",
       "      <th>month</th>\n",
       "      <td>Oct</td>\n",
       "      <td>Dec</td>\n",
       "      <td>Dec</td>\n",
       "      <td>Dec</td>\n",
       "      <td>Feb</td>\n",
       "    </tr>\n",
       "    <tr>\n",
       "      <th>day</th>\n",
       "      <td>Mon</td>\n",
       "      <td>Fri</td>\n",
       "      <td>Fri</td>\n",
       "      <td>Fri</td>\n",
       "      <td>Fri</td>\n",
       "    </tr>\n",
       "  </tbody>\n",
       "</table>\n",
       "</div>"
      ],
      "text/plain": [
       "                                                          0  \\\n",
       "belongs_to_collection                                     1   \n",
       "budget                                                3e+07   \n",
       "genres                          [Animation, Comedy, Family]   \n",
       "homepage               http://toystory.disney.com/toy-story   \n",
       "original_language                                        en   \n",
       "popularity                                          21.9469   \n",
       "poster_path                /rhIRbceoE9lR4veEXuwCC2wARtG.jpg   \n",
       "production_companies              [Pixar Animation Studios]   \n",
       "production_countries             [United States of America]   \n",
       "release_date                                     1995-10-30   \n",
       "revenue                                         3.73554e+08   \n",
       "runtime                                                  81   \n",
       "spoken_languages                                  [English]   \n",
       "status                                             Released   \n",
       "title                                             Toy Story   \n",
       "video                                                 False   \n",
       "vote_average                                            7.7   \n",
       "vote_count                                             5415   \n",
       "year                                                   1995   \n",
       "month                                                   Oct   \n",
       "day                                                     Mon   \n",
       "\n",
       "                                                                       1  \\\n",
       "belongs_to_collection                                                  0   \n",
       "budget                                                           6.5e+07   \n",
       "genres                                      [Adventure, Fantasy, Family]   \n",
       "homepage                                                             NaN   \n",
       "original_language                                                     en   \n",
       "popularity                                                       17.0155   \n",
       "poster_path                             /vzmL6fP7aPKNKPRTFnZmiUfciyV.jpg   \n",
       "production_companies   [TriStar Pictures, Teitler Film, Interscope Co...   \n",
       "production_countries                          [United States of America]   \n",
       "release_date                                                  1995-12-15   \n",
       "revenue                                                      2.62797e+08   \n",
       "runtime                                                              104   \n",
       "spoken_languages                                     [English, Français]   \n",
       "status                                                          Released   \n",
       "title                                                            Jumanji   \n",
       "video                                                              False   \n",
       "vote_average                                                         6.9   \n",
       "vote_count                                                          2413   \n",
       "year                                                                1995   \n",
       "month                                                                Dec   \n",
       "day                                                                  Fri   \n",
       "\n",
       "                                                      2  \\\n",
       "belongs_to_collection                                 1   \n",
       "budget                                              NaN   \n",
       "genres                                [Romance, Comedy]   \n",
       "homepage                                            NaN   \n",
       "original_language                                    en   \n",
       "popularity                                      11.7129   \n",
       "poster_path            /6ksm1sjKMFLbO7UY2i6G1ju9SML.jpg   \n",
       "production_companies     [Warner Bros., Lancaster Gate]   \n",
       "production_countries         [United States of America]   \n",
       "release_date                                 1995-12-22   \n",
       "revenue                                             NaN   \n",
       "runtime                                             101   \n",
       "spoken_languages                              [English]   \n",
       "status                                         Released   \n",
       "title                                  Grumpier Old Men   \n",
       "video                                             False   \n",
       "vote_average                                        6.5   \n",
       "vote_count                                           92   \n",
       "year                                               1995   \n",
       "month                                               Dec   \n",
       "day                                                 Fri   \n",
       "\n",
       "                                                              3  \\\n",
       "belongs_to_collection                                         0   \n",
       "budget                                                  1.6e+07   \n",
       "genres                                 [Comedy, Drama, Romance]   \n",
       "homepage                                                    NaN   \n",
       "original_language                                            en   \n",
       "popularity                                              3.85949   \n",
       "poster_path                    /16XOMpEaLWkrcPqSQqhTmeJuqQl.jpg   \n",
       "production_companies   [Twentieth Century Fox Film Corporation]   \n",
       "production_countries                 [United States of America]   \n",
       "release_date                                         1995-12-22   \n",
       "revenue                                             8.14522e+07   \n",
       "runtime                                                     127   \n",
       "spoken_languages                                      [English]   \n",
       "status                                                 Released   \n",
       "title                                         Waiting to Exhale   \n",
       "video                                                     False   \n",
       "vote_average                                                6.1   \n",
       "vote_count                                                   34   \n",
       "year                                                       1995   \n",
       "month                                                       Dec   \n",
       "day                                                         Fri   \n",
       "\n",
       "                                                                  4  \n",
       "belongs_to_collection                                             1  \n",
       "budget                                                          NaN  \n",
       "genres                                                     [Comedy]  \n",
       "homepage                                                        NaN  \n",
       "original_language                                                en  \n",
       "popularity                                                  8.38752  \n",
       "poster_path                        /e64sOI48hQXyru7naBFyssKFxVd.jpg  \n",
       "production_companies   [Sandollar Productions, Touchstone Pictures]  \n",
       "production_countries                     [United States of America]  \n",
       "release_date                                             1995-02-10  \n",
       "revenue                                                 7.65789e+07  \n",
       "runtime                                                         106  \n",
       "spoken_languages                                          [English]  \n",
       "status                                                     Released  \n",
       "title                                   Father of the Bride Part II  \n",
       "video                                                         False  \n",
       "vote_average                                                    5.7  \n",
       "vote_count                                                      173  \n",
       "year                                                           1995  \n",
       "month                                                           Feb  \n",
       "day                                                             Fri  "
      ]
     },
     "execution_count": 57,
     "metadata": {},
     "output_type": "execute_result"
    }
   ],
   "source": [
    "df_exp4.head().T"
   ]
  },
  {
   "cell_type": "code",
   "execution_count": 58,
   "metadata": {
    "collapsed": true
   },
   "outputs": [],
   "source": [
    "df_exp4 = df_exp4.drop([  'revenue','vote_count', 'homepage', 'title', 'video', 'status', 'poster_path', 'popularity'], axis=1)"
   ]
  },
  {
   "cell_type": "code",
   "execution_count": 59,
   "metadata": {
    "collapsed": true
   },
   "outputs": [],
   "source": [
    "df_exp4['vote_average'] = df_exp4['vote_average'].fillna(df_exp4['vote_average'].median())\n",
    "df_exp4['runtime'] = df_exp4['runtime'].fillna(df_exp4['runtime'].median())\n",
    "df_exp4['budget'] = df_exp4['budget'].fillna(df_exp4['budget'].median())"
   ]
  },
  {
   "cell_type": "code",
   "execution_count": 60,
   "metadata": {
    "collapsed": true
   },
   "outputs": [],
   "source": [
    "df_exp4['genres'] = df_exp4['genres'].apply(lambda x: convert_list(x))\n",
    "df_exp4['production_companies'] = df_exp4['production_companies'].apply(lambda x: convert_list(x))\n",
    "df_exp4['production_countries'] = df_exp4['production_countries'].apply(lambda x: convert_list(x))\n",
    "df_exp4['spoken_languages'] = df_exp4['spoken_languages'].apply(lambda x: convert_list(x))"
   ]
  },
  {
   "cell_type": "code",
   "execution_count": 61,
   "metadata": {
    "collapsed": true
   },
   "outputs": [],
   "source": [
    "for feature in df_exp4.columns: \n",
    "    if df_exp4[feature].dtype == 'object': \n",
    "        df_exp4[feature] = pd.Categorical(df_exp4[feature]).codes"
   ]
  },
  {
   "cell_type": "code",
   "execution_count": 62,
   "metadata": {},
   "outputs": [
    {
     "name": "stdout",
     "output_type": "stream",
     "text": [
      "<class 'pandas.core.frame.DataFrame'>\n",
      "RangeIndex: 45466 entries, 0 to 45465\n",
      "Data columns (total 13 columns):\n",
      "belongs_to_collection    45466 non-null int64\n",
      "budget                   45466 non-null float64\n",
      "genres                   45466 non-null int8\n",
      "original_language        45466 non-null int8\n",
      "production_companies     45466 non-null int16\n",
      "production_countries     45466 non-null int16\n",
      "release_date             45466 non-null int16\n",
      "runtime                  45466 non-null float64\n",
      "spoken_languages         45466 non-null int8\n",
      "vote_average             45466 non-null float64\n",
      "year                     45466 non-null int16\n",
      "month                    45466 non-null int8\n",
      "day                      45466 non-null int8\n",
      "dtypes: float64(3), int16(4), int64(1), int8(5)\n",
      "memory usage: 2.0 MB\n"
     ]
    }
   ],
   "source": [
    "df_exp4.info()"
   ]
  },
  {
   "cell_type": "code",
   "execution_count": 63,
   "metadata": {},
   "outputs": [
    {
     "data": {
      "text/plain": [
       "count    45466.000000\n",
       "mean         6.020501\n",
       "std          1.214182\n",
       "min          0.500000\n",
       "25%          5.400000\n",
       "50%          6.100000\n",
       "75%          6.800000\n",
       "max         10.000000\n",
       "Name: vote_average, dtype: float64"
      ]
     },
     "execution_count": 63,
     "metadata": {},
     "output_type": "execute_result"
    }
   ],
   "source": [
    "df_exp4['vote_average'].describe()"
   ]
  },
  {
   "cell_type": "code",
   "execution_count": 64,
   "metadata": {
    "collapsed": true
   },
   "outputs": [],
   "source": [
    "from numpy import floor\n",
    "def convert_pop(x):\n",
    "    if floor(x)<5:\n",
    "        return 0\n",
    "    elif x<5.5:\n",
    "        return 1\n",
    "    elif x<=6:\n",
    "        return 2\n",
    "    elif x<=6.4:\n",
    "        return 3\n",
    "    elif x<=7:\n",
    "        return 4\n",
    "    else:\n",
    "        return 5\n",
    "\n",
    "df_exp4['note']=df_exp4['vote_average'].apply(lambda x: convert_pop(x))       "
   ]
  },
  {
   "cell_type": "code",
   "execution_count": 65,
   "metadata": {},
   "outputs": [
    {
     "data": {
      "text/plain": [
       "note\n",
       "0    6890\n",
       "1    5331\n",
       "2    8466\n",
       "3    8491\n",
       "4    8574\n",
       "5    7714\n",
       "Name: note, dtype: int64"
      ]
     },
     "execution_count": 65,
     "metadata": {},
     "output_type": "execute_result"
    }
   ],
   "source": [
    "df_exp4['note'].groupby(df_exp4['note']).count()"
   ]
  },
  {
   "cell_type": "code",
   "execution_count": 66,
   "metadata": {
    "collapsed": true
   },
   "outputs": [],
   "source": [
    "note = df_exp4['note']\n",
    "data_pop = df_exp4.drop(['note', 'vote_average'], axis=1)"
   ]
  },
  {
   "cell_type": "code",
   "execution_count": 67,
   "metadata": {
    "collapsed": true
   },
   "outputs": [],
   "source": [
    "note_ = note.as_matrix()"
   ]
  },
  {
   "cell_type": "code",
   "execution_count": 68,
   "metadata": {
    "collapsed": true
   },
   "outputs": [],
   "source": [
    "from sklearn.preprocessing import StandardScaler\n",
    "\n",
    "scaler_pop = StandardScaler().fit(data_pop)\n",
    "data_pop_0 = scaler_pop.transform(data_pop)"
   ]
  },
  {
   "cell_type": "code",
   "execution_count": 69,
   "metadata": {
    "collapsed": true
   },
   "outputs": [],
   "source": [
    "X_pop_train, X_pop_test, Y_pop_train, Y_pop_test = train_test_split(\n",
    "data_pop_0, note_, test_size=0.2, random_state=42)\n",
    "\n",
    "X_pop_train, X_pop_val, Y_pop_train, Y_pop_val = train_test_split(X_pop_train, Y_pop_train, test_size=0.2, random_state=42)"
   ]
  },
  {
   "cell_type": "code",
   "execution_count": 70,
   "metadata": {
    "scrolled": true
   },
   "outputs": [
    {
     "name": "stdout",
     "output_type": "stream",
     "text": [
      "# Tuning hyper-parameters for accuracy_score\n",
      "\n",
      "Fitting 2 folds for each of 32 candidates, totalling 64 fits\n",
      "[CV] activation=logistic, batch_size=10, hidden_layer_sizes=(10, 20), max_iter=20, solver=adam \n",
      "[CV] activation=logistic, batch_size=10, hidden_layer_sizes=(10, 20), max_iter=20, solver=adam \n",
      "[CV] activation=logistic, batch_size=10, hidden_layer_sizes=(10, 20), max_iter=20, solver=sgd \n",
      "[CV] activation=logistic, batch_size=10, hidden_layer_sizes=(10, 20), max_iter=20, solver=sgd \n",
      "[CV]  activation=logistic, batch_size=10, hidden_layer_sizes=(10, 20), max_iter=20, solver=sgd -   6.0s\n",
      "[CV] activation=logistic, batch_size=10, hidden_layer_sizes=(10, 20), max_iter=10, solver=adam \n"
     ]
    },
    {
     "name": "stderr",
     "output_type": "stream",
     "text": [
      "/Users/khairallah/anaconda3/lib/python3.6/site-packages/sklearn/neural_network/multilayer_perceptron.py:564: ConvergenceWarning: Stochastic Optimizer: Maximum iterations (10) reached and the optimization hasn't converged yet.\n",
      "  % self.max_iter, ConvergenceWarning)\n"
     ]
    },
    {
     "name": "stdout",
     "output_type": "stream",
     "text": [
      "[CV]  activation=logistic, batch_size=10, hidden_layer_sizes=(10, 20), max_iter=10, solver=adam -  11.2s\n",
      "[CV] activation=logistic, batch_size=10, hidden_layer_sizes=(10, 20), max_iter=10, solver=adam \n"
     ]
    },
    {
     "name": "stderr",
     "output_type": "stream",
     "text": [
      "/Users/khairallah/anaconda3/lib/python3.6/site-packages/sklearn/neural_network/multilayer_perceptron.py:564: ConvergenceWarning: Stochastic Optimizer: Maximum iterations (20) reached and the optimization hasn't converged yet.\n",
      "  % self.max_iter, ConvergenceWarning)\n"
     ]
    },
    {
     "name": "stdout",
     "output_type": "stream",
     "text": [
      "[CV]  activation=logistic, batch_size=10, hidden_layer_sizes=(10, 20), max_iter=20, solver=sgd -  19.8s\n",
      "[CV] activation=logistic, batch_size=10, hidden_layer_sizes=(10, 20), max_iter=10, solver=sgd \n"
     ]
    },
    {
     "name": "stderr",
     "output_type": "stream",
     "text": [
      "/Users/khairallah/anaconda3/lib/python3.6/site-packages/sklearn/neural_network/multilayer_perceptron.py:564: ConvergenceWarning: Stochastic Optimizer: Maximum iterations (20) reached and the optimization hasn't converged yet.\n",
      "  % self.max_iter, ConvergenceWarning)\n",
      "/Users/khairallah/anaconda3/lib/python3.6/site-packages/sklearn/neural_network/multilayer_perceptron.py:564: ConvergenceWarning: Stochastic Optimizer: Maximum iterations (20) reached and the optimization hasn't converged yet.\n",
      "  % self.max_iter, ConvergenceWarning)\n"
     ]
    },
    {
     "name": "stdout",
     "output_type": "stream",
     "text": [
      "[CV]  activation=logistic, batch_size=10, hidden_layer_sizes=(10, 20), max_iter=20, solver=adam -  23.9s\n",
      "[CV]  activation=logistic, batch_size=10, hidden_layer_sizes=(10, 20), max_iter=20, solver=adam -  23.9s\n",
      "[CV] activation=logistic, batch_size=10, hidden_layer_sizes=(10, 20), max_iter=10, solver=sgd \n",
      "[CV] activation=logistic, batch_size=10, hidden_layer_sizes=(100, 200), max_iter=20, solver=adam \n"
     ]
    },
    {
     "name": "stderr",
     "output_type": "stream",
     "text": [
      "/Users/khairallah/anaconda3/lib/python3.6/site-packages/sklearn/neural_network/multilayer_perceptron.py:564: ConvergenceWarning: Stochastic Optimizer: Maximum iterations (10) reached and the optimization hasn't converged yet.\n",
      "  % self.max_iter, ConvergenceWarning)\n"
     ]
    },
    {
     "name": "stdout",
     "output_type": "stream",
     "text": [
      "[CV]  activation=logistic, batch_size=10, hidden_layer_sizes=(10, 20), max_iter=10, solver=adam -  11.5s\n",
      "[CV] activation=logistic, batch_size=10, hidden_layer_sizes=(100, 200), max_iter=20, solver=adam \n"
     ]
    },
    {
     "name": "stderr",
     "output_type": "stream",
     "text": [
      "/Users/khairallah/anaconda3/lib/python3.6/site-packages/sklearn/neural_network/multilayer_perceptron.py:564: ConvergenceWarning: Stochastic Optimizer: Maximum iterations (10) reached and the optimization hasn't converged yet.\n",
      "  % self.max_iter, ConvergenceWarning)\n"
     ]
    },
    {
     "name": "stdout",
     "output_type": "stream",
     "text": [
      "[CV]  activation=logistic, batch_size=10, hidden_layer_sizes=(10, 20), max_iter=10, solver=sgd -   9.7s\n",
      "[CV] activation=logistic, batch_size=10, hidden_layer_sizes=(100, 200), max_iter=20, solver=sgd \n",
      "[CV]  activation=logistic, batch_size=10, hidden_layer_sizes=(10, 20), max_iter=10, solver=sgd -  10.1s\n",
      "[CV] activation=logistic, batch_size=10, hidden_layer_sizes=(100, 200), max_iter=20, solver=sgd \n"
     ]
    },
    {
     "name": "stderr",
     "output_type": "stream",
     "text": [
      "/Users/khairallah/anaconda3/lib/python3.6/site-packages/sklearn/neural_network/multilayer_perceptron.py:564: ConvergenceWarning: Stochastic Optimizer: Maximum iterations (20) reached and the optimization hasn't converged yet.\n",
      "  % self.max_iter, ConvergenceWarning)\n"
     ]
    },
    {
     "name": "stdout",
     "output_type": "stream",
     "text": [
      "[CV]  activation=logistic, batch_size=10, hidden_layer_sizes=(100, 200), max_iter=20, solver=sgd - 1.1min\n",
      "[CV] activation=logistic, batch_size=10, hidden_layer_sizes=(100, 200), max_iter=10, solver=adam \n"
     ]
    },
    {
     "name": "stderr",
     "output_type": "stream",
     "text": [
      "/Users/khairallah/anaconda3/lib/python3.6/site-packages/sklearn/neural_network/multilayer_perceptron.py:564: ConvergenceWarning: Stochastic Optimizer: Maximum iterations (20) reached and the optimization hasn't converged yet.\n",
      "  % self.max_iter, ConvergenceWarning)\n"
     ]
    },
    {
     "name": "stdout",
     "output_type": "stream",
     "text": [
      "[CV]  activation=logistic, batch_size=10, hidden_layer_sizes=(100, 200), max_iter=20, solver=sgd - 1.1min\n",
      "[CV] activation=logistic, batch_size=10, hidden_layer_sizes=(100, 200), max_iter=10, solver=adam \n"
     ]
    },
    {
     "name": "stderr",
     "output_type": "stream",
     "text": [
      "/Users/khairallah/anaconda3/lib/python3.6/site-packages/sklearn/neural_network/multilayer_perceptron.py:564: ConvergenceWarning: Stochastic Optimizer: Maximum iterations (20) reached and the optimization hasn't converged yet.\n",
      "  % self.max_iter, ConvergenceWarning)\n"
     ]
    },
    {
     "name": "stdout",
     "output_type": "stream",
     "text": [
      "[CV]  activation=logistic, batch_size=10, hidden_layer_sizes=(100, 200), max_iter=20, solver=adam - 1.3min\n",
      "[CV] activation=logistic, batch_size=10, hidden_layer_sizes=(100, 200), max_iter=10, solver=sgd \n"
     ]
    },
    {
     "name": "stderr",
     "output_type": "stream",
     "text": [
      "/Users/khairallah/anaconda3/lib/python3.6/site-packages/sklearn/neural_network/multilayer_perceptron.py:564: ConvergenceWarning: Stochastic Optimizer: Maximum iterations (20) reached and the optimization hasn't converged yet.\n",
      "  % self.max_iter, ConvergenceWarning)\n"
     ]
    },
    {
     "name": "stdout",
     "output_type": "stream",
     "text": [
      "[CV]  activation=logistic, batch_size=10, hidden_layer_sizes=(100, 200), max_iter=20, solver=adam - 1.3min\n",
      "[CV] activation=logistic, batch_size=10, hidden_layer_sizes=(100, 200), max_iter=10, solver=sgd \n"
     ]
    },
    {
     "name": "stderr",
     "output_type": "stream",
     "text": [
      "/Users/khairallah/anaconda3/lib/python3.6/site-packages/sklearn/neural_network/multilayer_perceptron.py:564: ConvergenceWarning: Stochastic Optimizer: Maximum iterations (10) reached and the optimization hasn't converged yet.\n",
      "  % self.max_iter, ConvergenceWarning)\n",
      "/Users/khairallah/anaconda3/lib/python3.6/site-packages/sklearn/neural_network/multilayer_perceptron.py:564: ConvergenceWarning: Stochastic Optimizer: Maximum iterations (10) reached and the optimization hasn't converged yet.\n",
      "  % self.max_iter, ConvergenceWarning)\n"
     ]
    },
    {
     "name": "stdout",
     "output_type": "stream",
     "text": [
      "[CV]  activation=logistic, batch_size=10, hidden_layer_sizes=(100, 200), max_iter=10, solver=adam -  41.9s\n",
      "[CV]  activation=logistic, batch_size=10, hidden_layer_sizes=(100, 200), max_iter=10, solver=sgd -  34.7s\n",
      "[CV] activation=logistic, batch_size=50, hidden_layer_sizes=(10, 20), max_iter=20, solver=adam \n",
      "[CV] activation=logistic, batch_size=50, hidden_layer_sizes=(10, 20), max_iter=20, solver=adam \n"
     ]
    },
    {
     "name": "stderr",
     "output_type": "stream",
     "text": [
      "/Users/khairallah/anaconda3/lib/python3.6/site-packages/sklearn/neural_network/multilayer_perceptron.py:564: ConvergenceWarning: Stochastic Optimizer: Maximum iterations (10) reached and the optimization hasn't converged yet.\n",
      "  % self.max_iter, ConvergenceWarning)\n"
     ]
    },
    {
     "name": "stdout",
     "output_type": "stream",
     "text": [
      "[CV]  activation=logistic, batch_size=10, hidden_layer_sizes=(100, 200), max_iter=10, solver=adam -  41.1s\n",
      "[CV] activation=logistic, batch_size=50, hidden_layer_sizes=(10, 20), max_iter=20, solver=sgd \n"
     ]
    },
    {
     "name": "stderr",
     "output_type": "stream",
     "text": [
      "/Users/khairallah/anaconda3/lib/python3.6/site-packages/sklearn/neural_network/multilayer_perceptron.py:564: ConvergenceWarning: Stochastic Optimizer: Maximum iterations (10) reached and the optimization hasn't converged yet.\n",
      "  % self.max_iter, ConvergenceWarning)\n"
     ]
    },
    {
     "name": "stdout",
     "output_type": "stream",
     "text": [
      "[CV]  activation=logistic, batch_size=10, hidden_layer_sizes=(100, 200), max_iter=10, solver=sgd -  32.7s\n",
      "[CV] activation=logistic, batch_size=50, hidden_layer_sizes=(10, 20), max_iter=20, solver=sgd \n",
      "[CV]  activation=logistic, batch_size=50, hidden_layer_sizes=(10, 20), max_iter=20, solver=sgd -   1.4s\n",
      "[CV] activation=logistic, batch_size=50, hidden_layer_sizes=(10, 20), max_iter=10, solver=adam \n"
     ]
    },
    {
     "name": "stderr",
     "output_type": "stream",
     "text": [
      "/Users/khairallah/anaconda3/lib/python3.6/site-packages/sklearn/neural_network/multilayer_perceptron.py:564: ConvergenceWarning: Stochastic Optimizer: Maximum iterations (20) reached and the optimization hasn't converged yet.\n",
      "  % self.max_iter, ConvergenceWarning)\n"
     ]
    },
    {
     "name": "stdout",
     "output_type": "stream",
     "text": [
      "[CV]  activation=logistic, batch_size=50, hidden_layer_sizes=(10, 20), max_iter=20, solver=adam -   6.4s\n",
      "[CV] activation=logistic, batch_size=50, hidden_layer_sizes=(10, 20), max_iter=10, solver=adam \n"
     ]
    },
    {
     "name": "stderr",
     "output_type": "stream",
     "text": [
      "/Users/khairallah/anaconda3/lib/python3.6/site-packages/sklearn/neural_network/multilayer_perceptron.py:564: ConvergenceWarning: Stochastic Optimizer: Maximum iterations (20) reached and the optimization hasn't converged yet.\n",
      "  % self.max_iter, ConvergenceWarning)\n"
     ]
    },
    {
     "name": "stdout",
     "output_type": "stream",
     "text": [
      "[CV]  activation=logistic, batch_size=50, hidden_layer_sizes=(10, 20), max_iter=20, solver=adam -   6.4s\n",
      "[CV] activation=logistic, batch_size=50, hidden_layer_sizes=(10, 20), max_iter=10, solver=sgd \n",
      "[CV]  activation=logistic, batch_size=50, hidden_layer_sizes=(10, 20), max_iter=10, solver=sgd -   1.7s\n",
      "[CV] activation=logistic, batch_size=50, hidden_layer_sizes=(10, 20), max_iter=10, solver=sgd \n",
      "[CV]  activation=logistic, batch_size=50, hidden_layer_sizes=(10, 20), max_iter=20, solver=sgd -   2.4s\n",
      "[CV] activation=logistic, batch_size=50, hidden_layer_sizes=(100, 200), max_iter=20, solver=adam \n",
      "[CV]  activation=logistic, batch_size=50, hidden_layer_sizes=(10, 20), max_iter=10, solver=sgd -   1.4s\n",
      "[CV] activation=logistic, batch_size=50, hidden_layer_sizes=(100, 200), max_iter=20, solver=adam \n"
     ]
    },
    {
     "name": "stderr",
     "output_type": "stream",
     "text": [
      "/Users/khairallah/anaconda3/lib/python3.6/site-packages/sklearn/neural_network/multilayer_perceptron.py:564: ConvergenceWarning: Stochastic Optimizer: Maximum iterations (10) reached and the optimization hasn't converged yet.\n",
      "  % self.max_iter, ConvergenceWarning)\n"
     ]
    },
    {
     "name": "stdout",
     "output_type": "stream",
     "text": [
      "[CV]  activation=logistic, batch_size=50, hidden_layer_sizes=(10, 20), max_iter=10, solver=adam -   3.8s\n",
      "[CV] activation=logistic, batch_size=50, hidden_layer_sizes=(100, 200), max_iter=20, solver=sgd \n"
     ]
    },
    {
     "name": "stderr",
     "output_type": "stream",
     "text": [
      "/Users/khairallah/anaconda3/lib/python3.6/site-packages/sklearn/neural_network/multilayer_perceptron.py:564: ConvergenceWarning: Stochastic Optimizer: Maximum iterations (10) reached and the optimization hasn't converged yet.\n",
      "  % self.max_iter, ConvergenceWarning)\n"
     ]
    },
    {
     "name": "stdout",
     "output_type": "stream",
     "text": [
      "[CV]  activation=logistic, batch_size=50, hidden_layer_sizes=(10, 20), max_iter=10, solver=adam -   3.7s\n",
      "[CV] activation=logistic, batch_size=50, hidden_layer_sizes=(100, 200), max_iter=20, solver=sgd \n",
      "[CV]  activation=logistic, batch_size=50, hidden_layer_sizes=(100, 200), max_iter=20, solver=sgd -   7.2s\n",
      "[CV] activation=logistic, batch_size=50, hidden_layer_sizes=(100, 200), max_iter=10, solver=adam \n",
      "[CV]  activation=logistic, batch_size=50, hidden_layer_sizes=(100, 200), max_iter=20, solver=sgd -  16.1s\n",
      "[CV] activation=logistic, batch_size=50, hidden_layer_sizes=(100, 200), max_iter=10, solver=adam \n"
     ]
    },
    {
     "name": "stderr",
     "output_type": "stream",
     "text": [
      "/Users/khairallah/anaconda3/lib/python3.6/site-packages/sklearn/neural_network/multilayer_perceptron.py:564: ConvergenceWarning: Stochastic Optimizer: Maximum iterations (10) reached and the optimization hasn't converged yet.\n",
      "  % self.max_iter, ConvergenceWarning)\n"
     ]
    },
    {
     "name": "stdout",
     "output_type": "stream",
     "text": [
      "[CV]  activation=logistic, batch_size=50, hidden_layer_sizes=(100, 200), max_iter=10, solver=adam -  14.3s\n",
      "[CV] activation=logistic, batch_size=50, hidden_layer_sizes=(100, 200), max_iter=10, solver=sgd \n"
     ]
    },
    {
     "name": "stderr",
     "output_type": "stream",
     "text": [
      "/Users/khairallah/anaconda3/lib/python3.6/site-packages/sklearn/neural_network/multilayer_perceptron.py:564: ConvergenceWarning: Stochastic Optimizer: Maximum iterations (20) reached and the optimization hasn't converged yet.\n",
      "  % self.max_iter, ConvergenceWarning)\n"
     ]
    },
    {
     "name": "stdout",
     "output_type": "stream",
     "text": [
      "[CV]  activation=logistic, batch_size=50, hidden_layer_sizes=(100, 200), max_iter=20, solver=adam -  31.0s\n",
      "[CV] activation=logistic, batch_size=50, hidden_layer_sizes=(100, 200), max_iter=10, solver=sgd \n"
     ]
    },
    {
     "name": "stderr",
     "output_type": "stream",
     "text": [
      "/Users/khairallah/anaconda3/lib/python3.6/site-packages/sklearn/neural_network/multilayer_perceptron.py:564: ConvergenceWarning: Stochastic Optimizer: Maximum iterations (20) reached and the optimization hasn't converged yet.\n",
      "  % self.max_iter, ConvergenceWarning)\n"
     ]
    },
    {
     "name": "stdout",
     "output_type": "stream",
     "text": [
      "[CV]  activation=logistic, batch_size=50, hidden_layer_sizes=(100, 200), max_iter=20, solver=adam -  30.3s\n",
      "[CV] activation=relu, batch_size=10, hidden_layer_sizes=(10, 20), max_iter=20, solver=adam \n"
     ]
    },
    {
     "name": "stderr",
     "output_type": "stream",
     "text": [
      "/Users/khairallah/anaconda3/lib/python3.6/site-packages/sklearn/neural_network/multilayer_perceptron.py:564: ConvergenceWarning: Stochastic Optimizer: Maximum iterations (10) reached and the optimization hasn't converged yet.\n",
      "  % self.max_iter, ConvergenceWarning)\n"
     ]
    },
    {
     "name": "stdout",
     "output_type": "stream",
     "text": [
      "[CV]  activation=logistic, batch_size=50, hidden_layer_sizes=(100, 200), max_iter=10, solver=adam -  15.8s\n",
      "[CV] activation=relu, batch_size=10, hidden_layer_sizes=(10, 20), max_iter=20, solver=adam \n",
      "[CV]  activation=logistic, batch_size=50, hidden_layer_sizes=(100, 200), max_iter=10, solver=sgd -  11.9s\n",
      "[CV] activation=relu, batch_size=10, hidden_layer_sizes=(10, 20), max_iter=20, solver=sgd \n",
      "[CV]  activation=logistic, batch_size=50, hidden_layer_sizes=(100, 200), max_iter=10, solver=sgd -  15.6s\n",
      "[CV] activation=relu, batch_size=10, hidden_layer_sizes=(10, 20), max_iter=20, solver=sgd \n"
     ]
    },
    {
     "name": "stderr",
     "output_type": "stream",
     "text": [
      "/Users/khairallah/anaconda3/lib/python3.6/site-packages/sklearn/neural_network/multilayer_perceptron.py:564: ConvergenceWarning: Stochastic Optimizer: Maximum iterations (20) reached and the optimization hasn't converged yet.\n",
      "  % self.max_iter, ConvergenceWarning)\n"
     ]
    },
    {
     "name": "stdout",
     "output_type": "stream",
     "text": [
      "[CV]  activation=relu, batch_size=10, hidden_layer_sizes=(10, 20), max_iter=20, solver=sgd -  23.8s\n",
      "[CV] activation=relu, batch_size=10, hidden_layer_sizes=(10, 20), max_iter=10, solver=adam \n"
     ]
    },
    {
     "name": "stderr",
     "output_type": "stream",
     "text": [
      "[Parallel(n_jobs=-1)]: Done  33 tasks      | elapsed:  3.4min\n",
      "/Users/khairallah/anaconda3/lib/python3.6/site-packages/sklearn/neural_network/multilayer_perceptron.py:564: ConvergenceWarning: Stochastic Optimizer: Maximum iterations (20) reached and the optimization hasn't converged yet.\n",
      "  % self.max_iter, ConvergenceWarning)\n"
     ]
    },
    {
     "name": "stdout",
     "output_type": "stream",
     "text": [
      "[CV]  activation=relu, batch_size=10, hidden_layer_sizes=(10, 20), max_iter=20, solver=adam -  29.4s\n",
      "[CV] activation=relu, batch_size=10, hidden_layer_sizes=(10, 20), max_iter=10, solver=adam \n"
     ]
    },
    {
     "name": "stderr",
     "output_type": "stream",
     "text": [
      "/Users/khairallah/anaconda3/lib/python3.6/site-packages/sklearn/neural_network/multilayer_perceptron.py:564: ConvergenceWarning: Stochastic Optimizer: Maximum iterations (20) reached and the optimization hasn't converged yet.\n",
      "  % self.max_iter, ConvergenceWarning)\n"
     ]
    },
    {
     "name": "stdout",
     "output_type": "stream",
     "text": [
      "[CV]  activation=relu, batch_size=10, hidden_layer_sizes=(10, 20), max_iter=20, solver=adam -  28.1s\n",
      "[CV] activation=relu, batch_size=10, hidden_layer_sizes=(10, 20), max_iter=10, solver=sgd \n"
     ]
    },
    {
     "name": "stderr",
     "output_type": "stream",
     "text": [
      "/Users/khairallah/anaconda3/lib/python3.6/site-packages/sklearn/neural_network/multilayer_perceptron.py:564: ConvergenceWarning: Stochastic Optimizer: Maximum iterations (20) reached and the optimization hasn't converged yet.\n",
      "  % self.max_iter, ConvergenceWarning)\n"
     ]
    },
    {
     "name": "stdout",
     "output_type": "stream",
     "text": [
      "[CV]  activation=relu, batch_size=10, hidden_layer_sizes=(10, 20), max_iter=20, solver=sgd -  20.7s\n",
      "[CV] activation=relu, batch_size=10, hidden_layer_sizes=(10, 20), max_iter=10, solver=sgd \n"
     ]
    },
    {
     "name": "stderr",
     "output_type": "stream",
     "text": [
      "/Users/khairallah/anaconda3/lib/python3.6/site-packages/sklearn/neural_network/multilayer_perceptron.py:564: ConvergenceWarning: Stochastic Optimizer: Maximum iterations (10) reached and the optimization hasn't converged yet.\n",
      "  % self.max_iter, ConvergenceWarning)\n"
     ]
    },
    {
     "name": "stdout",
     "output_type": "stream",
     "text": [
      "[CV]  activation=relu, batch_size=10, hidden_layer_sizes=(10, 20), max_iter=10, solver=adam -  12.1s\n",
      "[CV] activation=relu, batch_size=10, hidden_layer_sizes=(100, 200), max_iter=20, solver=adam \n"
     ]
    },
    {
     "name": "stderr",
     "output_type": "stream",
     "text": [
      "/Users/khairallah/anaconda3/lib/python3.6/site-packages/sklearn/neural_network/multilayer_perceptron.py:564: ConvergenceWarning: Stochastic Optimizer: Maximum iterations (10) reached and the optimization hasn't converged yet.\n",
      "  % self.max_iter, ConvergenceWarning)\n"
     ]
    },
    {
     "name": "stdout",
     "output_type": "stream",
     "text": [
      "[CV]  activation=relu, batch_size=10, hidden_layer_sizes=(10, 20), max_iter=10, solver=sgd -  10.5s\n",
      "[CV] activation=relu, batch_size=10, hidden_layer_sizes=(100, 200), max_iter=20, solver=adam \n"
     ]
    },
    {
     "name": "stderr",
     "output_type": "stream",
     "text": [
      "/Users/khairallah/anaconda3/lib/python3.6/site-packages/sklearn/neural_network/multilayer_perceptron.py:564: ConvergenceWarning: Stochastic Optimizer: Maximum iterations (10) reached and the optimization hasn't converged yet.\n",
      "  % self.max_iter, ConvergenceWarning)\n"
     ]
    },
    {
     "name": "stdout",
     "output_type": "stream",
     "text": [
      "[CV]  activation=relu, batch_size=10, hidden_layer_sizes=(10, 20), max_iter=10, solver=adam -  12.5s\n",
      "[CV] activation=relu, batch_size=10, hidden_layer_sizes=(100, 200), max_iter=20, solver=sgd \n"
     ]
    },
    {
     "name": "stderr",
     "output_type": "stream",
     "text": [
      "/Users/khairallah/anaconda3/lib/python3.6/site-packages/sklearn/neural_network/multilayer_perceptron.py:564: ConvergenceWarning: Stochastic Optimizer: Maximum iterations (10) reached and the optimization hasn't converged yet.\n",
      "  % self.max_iter, ConvergenceWarning)\n"
     ]
    },
    {
     "name": "stdout",
     "output_type": "stream",
     "text": [
      "[CV]  activation=relu, batch_size=10, hidden_layer_sizes=(10, 20), max_iter=10, solver=sgd -  11.0s\n",
      "[CV] activation=relu, batch_size=10, hidden_layer_sizes=(100, 200), max_iter=20, solver=sgd \n"
     ]
    },
    {
     "name": "stderr",
     "output_type": "stream",
     "text": [
      "/Users/khairallah/anaconda3/lib/python3.6/site-packages/sklearn/neural_network/multilayer_perceptron.py:564: ConvergenceWarning: Stochastic Optimizer: Maximum iterations (20) reached and the optimization hasn't converged yet.\n",
      "  % self.max_iter, ConvergenceWarning)\n"
     ]
    },
    {
     "name": "stdout",
     "output_type": "stream",
     "text": [
      "[CV]  activation=relu, batch_size=10, hidden_layer_sizes=(100, 200), max_iter=20, solver=sgd - 1.2min\n",
      "[CV] activation=relu, batch_size=10, hidden_layer_sizes=(100, 200), max_iter=10, solver=adam \n"
     ]
    },
    {
     "name": "stderr",
     "output_type": "stream",
     "text": [
      "/Users/khairallah/anaconda3/lib/python3.6/site-packages/sklearn/neural_network/multilayer_perceptron.py:564: ConvergenceWarning: Stochastic Optimizer: Maximum iterations (20) reached and the optimization hasn't converged yet.\n",
      "  % self.max_iter, ConvergenceWarning)\n"
     ]
    },
    {
     "name": "stdout",
     "output_type": "stream",
     "text": [
      "[CV]  activation=relu, batch_size=10, hidden_layer_sizes=(100, 200), max_iter=20, solver=sgd - 1.3min\n",
      "[CV] activation=relu, batch_size=10, hidden_layer_sizes=(100, 200), max_iter=10, solver=adam \n"
     ]
    },
    {
     "name": "stderr",
     "output_type": "stream",
     "text": [
      "/Users/khairallah/anaconda3/lib/python3.6/site-packages/sklearn/neural_network/multilayer_perceptron.py:564: ConvergenceWarning: Stochastic Optimizer: Maximum iterations (20) reached and the optimization hasn't converged yet.\n",
      "  % self.max_iter, ConvergenceWarning)\n"
     ]
    },
    {
     "name": "stdout",
     "output_type": "stream",
     "text": [
      "[CV]  activation=relu, batch_size=10, hidden_layer_sizes=(100, 200), max_iter=20, solver=adam - 1.6min\n",
      "[CV] activation=relu, batch_size=10, hidden_layer_sizes=(100, 200), max_iter=10, solver=sgd \n"
     ]
    },
    {
     "name": "stderr",
     "output_type": "stream",
     "text": [
      "/Users/khairallah/anaconda3/lib/python3.6/site-packages/sklearn/neural_network/multilayer_perceptron.py:564: ConvergenceWarning: Stochastic Optimizer: Maximum iterations (20) reached and the optimization hasn't converged yet.\n",
      "  % self.max_iter, ConvergenceWarning)\n"
     ]
    },
    {
     "name": "stdout",
     "output_type": "stream",
     "text": [
      "[CV]  activation=relu, batch_size=10, hidden_layer_sizes=(100, 200), max_iter=20, solver=adam - 1.6min\n",
      "[CV] activation=relu, batch_size=10, hidden_layer_sizes=(100, 200), max_iter=10, solver=sgd \n"
     ]
    },
    {
     "name": "stderr",
     "output_type": "stream",
     "text": [
      "/Users/khairallah/anaconda3/lib/python3.6/site-packages/sklearn/neural_network/multilayer_perceptron.py:564: ConvergenceWarning: Stochastic Optimizer: Maximum iterations (10) reached and the optimization hasn't converged yet.\n",
      "  % self.max_iter, ConvergenceWarning)\n"
     ]
    },
    {
     "name": "stdout",
     "output_type": "stream",
     "text": [
      "[CV]  activation=relu, batch_size=10, hidden_layer_sizes=(100, 200), max_iter=10, solver=adam -  45.2s\n",
      "[CV] activation=relu, batch_size=50, hidden_layer_sizes=(10, 20), max_iter=20, solver=adam \n"
     ]
    },
    {
     "name": "stderr",
     "output_type": "stream",
     "text": [
      "/Users/khairallah/anaconda3/lib/python3.6/site-packages/sklearn/neural_network/multilayer_perceptron.py:564: ConvergenceWarning: Stochastic Optimizer: Maximum iterations (10) reached and the optimization hasn't converged yet.\n",
      "  % self.max_iter, ConvergenceWarning)\n"
     ]
    },
    {
     "name": "stdout",
     "output_type": "stream",
     "text": [
      "[CV]  activation=relu, batch_size=10, hidden_layer_sizes=(100, 200), max_iter=10, solver=adam -  42.8s\n",
      "[CV] activation=relu, batch_size=50, hidden_layer_sizes=(10, 20), max_iter=20, solver=adam \n"
     ]
    },
    {
     "name": "stderr",
     "output_type": "stream",
     "text": [
      "/Users/khairallah/anaconda3/lib/python3.6/site-packages/sklearn/neural_network/multilayer_perceptron.py:564: ConvergenceWarning: Stochastic Optimizer: Maximum iterations (10) reached and the optimization hasn't converged yet.\n",
      "  % self.max_iter, ConvergenceWarning)\n"
     ]
    },
    {
     "name": "stdout",
     "output_type": "stream",
     "text": [
      "[CV]  activation=relu, batch_size=10, hidden_layer_sizes=(100, 200), max_iter=10, solver=sgd -  34.0s\n",
      "[CV] activation=relu, batch_size=50, hidden_layer_sizes=(10, 20), max_iter=20, solver=sgd \n"
     ]
    },
    {
     "name": "stderr",
     "output_type": "stream",
     "text": [
      "/Users/khairallah/anaconda3/lib/python3.6/site-packages/sklearn/neural_network/multilayer_perceptron.py:564: ConvergenceWarning: Stochastic Optimizer: Maximum iterations (20) reached and the optimization hasn't converged yet.\n",
      "  % self.max_iter, ConvergenceWarning)\n"
     ]
    },
    {
     "name": "stdout",
     "output_type": "stream",
     "text": [
      "[CV]  activation=relu, batch_size=50, hidden_layer_sizes=(10, 20), max_iter=20, solver=adam -   6.2s\n",
      "[CV] activation=relu, batch_size=50, hidden_layer_sizes=(10, 20), max_iter=20, solver=sgd \n"
     ]
    },
    {
     "name": "stderr",
     "output_type": "stream",
     "text": [
      "/Users/khairallah/anaconda3/lib/python3.6/site-packages/sklearn/neural_network/multilayer_perceptron.py:564: ConvergenceWarning: Stochastic Optimizer: Maximum iterations (10) reached and the optimization hasn't converged yet.\n",
      "  % self.max_iter, ConvergenceWarning)\n"
     ]
    },
    {
     "name": "stdout",
     "output_type": "stream",
     "text": [
      "[CV]  activation=relu, batch_size=10, hidden_layer_sizes=(100, 200), max_iter=10, solver=sgd -  33.6s\n",
      "[CV] activation=relu, batch_size=50, hidden_layer_sizes=(10, 20), max_iter=10, solver=adam \n"
     ]
    },
    {
     "name": "stderr",
     "output_type": "stream",
     "text": [
      "/Users/khairallah/anaconda3/lib/python3.6/site-packages/sklearn/neural_network/multilayer_perceptron.py:564: ConvergenceWarning: Stochastic Optimizer: Maximum iterations (20) reached and the optimization hasn't converged yet.\n",
      "  % self.max_iter, ConvergenceWarning)\n"
     ]
    },
    {
     "name": "stdout",
     "output_type": "stream",
     "text": [
      "[CV]  activation=relu, batch_size=50, hidden_layer_sizes=(10, 20), max_iter=20, solver=adam -   5.6s\n",
      "[CV] activation=relu, batch_size=50, hidden_layer_sizes=(10, 20), max_iter=10, solver=adam \n"
     ]
    },
    {
     "name": "stderr",
     "output_type": "stream",
     "text": [
      "/Users/khairallah/anaconda3/lib/python3.6/site-packages/sklearn/neural_network/multilayer_perceptron.py:564: ConvergenceWarning: Stochastic Optimizer: Maximum iterations (20) reached and the optimization hasn't converged yet.\n",
      "  % self.max_iter, ConvergenceWarning)\n"
     ]
    },
    {
     "name": "stdout",
     "output_type": "stream",
     "text": [
      "[CV]  activation=relu, batch_size=50, hidden_layer_sizes=(10, 20), max_iter=20, solver=sgd -   4.7s\n",
      "[CV] activation=relu, batch_size=50, hidden_layer_sizes=(10, 20), max_iter=10, solver=sgd \n"
     ]
    },
    {
     "name": "stderr",
     "output_type": "stream",
     "text": [
      "/Users/khairallah/anaconda3/lib/python3.6/site-packages/sklearn/neural_network/multilayer_perceptron.py:564: ConvergenceWarning: Stochastic Optimizer: Maximum iterations (10) reached and the optimization hasn't converged yet.\n",
      "  % self.max_iter, ConvergenceWarning)\n"
     ]
    },
    {
     "name": "stdout",
     "output_type": "stream",
     "text": [
      "[CV]  activation=relu, batch_size=50, hidden_layer_sizes=(10, 20), max_iter=10, solver=adam -   2.6s\n",
      "[CV] activation=relu, batch_size=50, hidden_layer_sizes=(10, 20), max_iter=10, solver=sgd \n"
     ]
    },
    {
     "name": "stderr",
     "output_type": "stream",
     "text": [
      "/Users/khairallah/anaconda3/lib/python3.6/site-packages/sklearn/neural_network/multilayer_perceptron.py:564: ConvergenceWarning: Stochastic Optimizer: Maximum iterations (20) reached and the optimization hasn't converged yet.\n",
      "  % self.max_iter, ConvergenceWarning)\n"
     ]
    },
    {
     "name": "stdout",
     "output_type": "stream",
     "text": [
      "[CV]  activation=relu, batch_size=50, hidden_layer_sizes=(10, 20), max_iter=20, solver=sgd -   4.8s\n",
      "[CV] activation=relu, batch_size=50, hidden_layer_sizes=(100, 200), max_iter=20, solver=adam \n"
     ]
    },
    {
     "name": "stderr",
     "output_type": "stream",
     "text": [
      "/Users/khairallah/anaconda3/lib/python3.6/site-packages/sklearn/neural_network/multilayer_perceptron.py:564: ConvergenceWarning: Stochastic Optimizer: Maximum iterations (10) reached and the optimization hasn't converged yet.\n",
      "  % self.max_iter, ConvergenceWarning)\n"
     ]
    },
    {
     "name": "stdout",
     "output_type": "stream",
     "text": [
      "[CV]  activation=relu, batch_size=50, hidden_layer_sizes=(10, 20), max_iter=10, solver=sgd -   2.3s\n",
      "[CV] activation=relu, batch_size=50, hidden_layer_sizes=(100, 200), max_iter=20, solver=adam \n"
     ]
    },
    {
     "name": "stderr",
     "output_type": "stream",
     "text": [
      "/Users/khairallah/anaconda3/lib/python3.6/site-packages/sklearn/neural_network/multilayer_perceptron.py:564: ConvergenceWarning: Stochastic Optimizer: Maximum iterations (10) reached and the optimization hasn't converged yet.\n",
      "  % self.max_iter, ConvergenceWarning)\n"
     ]
    },
    {
     "name": "stdout",
     "output_type": "stream",
     "text": [
      "[CV]  activation=relu, batch_size=50, hidden_layer_sizes=(10, 20), max_iter=10, solver=sgd -   2.4s\n",
      "[CV] activation=relu, batch_size=50, hidden_layer_sizes=(100, 200), max_iter=20, solver=sgd \n"
     ]
    },
    {
     "name": "stderr",
     "output_type": "stream",
     "text": [
      "/Users/khairallah/anaconda3/lib/python3.6/site-packages/sklearn/neural_network/multilayer_perceptron.py:564: ConvergenceWarning: Stochastic Optimizer: Maximum iterations (10) reached and the optimization hasn't converged yet.\n",
      "  % self.max_iter, ConvergenceWarning)\n"
     ]
    },
    {
     "name": "stdout",
     "output_type": "stream",
     "text": [
      "[CV]  activation=relu, batch_size=50, hidden_layer_sizes=(10, 20), max_iter=10, solver=adam -   2.8s\n",
      "[CV] activation=relu, batch_size=50, hidden_layer_sizes=(100, 200), max_iter=20, solver=sgd \n"
     ]
    },
    {
     "name": "stderr",
     "output_type": "stream",
     "text": [
      "/Users/khairallah/anaconda3/lib/python3.6/site-packages/sklearn/neural_network/multilayer_perceptron.py:564: ConvergenceWarning: Stochastic Optimizer: Maximum iterations (20) reached and the optimization hasn't converged yet.\n",
      "  % self.max_iter, ConvergenceWarning)\n"
     ]
    },
    {
     "name": "stdout",
     "output_type": "stream",
     "text": [
      "[CV]  activation=relu, batch_size=50, hidden_layer_sizes=(100, 200), max_iter=20, solver=adam -  22.1s\n",
      "[CV] activation=relu, batch_size=50, hidden_layer_sizes=(100, 200), max_iter=10, solver=adam \n"
     ]
    },
    {
     "name": "stderr",
     "output_type": "stream",
     "text": [
      "/Users/khairallah/anaconda3/lib/python3.6/site-packages/sklearn/neural_network/multilayer_perceptron.py:564: ConvergenceWarning: Stochastic Optimizer: Maximum iterations (20) reached and the optimization hasn't converged yet.\n",
      "  % self.max_iter, ConvergenceWarning)\n"
     ]
    },
    {
     "name": "stdout",
     "output_type": "stream",
     "text": [
      "[CV]  activation=relu, batch_size=50, hidden_layer_sizes=(100, 200), max_iter=20, solver=sgd -  20.6s\n",
      "[CV] activation=relu, batch_size=50, hidden_layer_sizes=(100, 200), max_iter=10, solver=adam \n"
     ]
    },
    {
     "name": "stderr",
     "output_type": "stream",
     "text": [
      "/Users/khairallah/anaconda3/lib/python3.6/site-packages/sklearn/neural_network/multilayer_perceptron.py:564: ConvergenceWarning: Stochastic Optimizer: Maximum iterations (20) reached and the optimization hasn't converged yet.\n",
      "  % self.max_iter, ConvergenceWarning)\n"
     ]
    },
    {
     "name": "stdout",
     "output_type": "stream",
     "text": [
      "[CV]  activation=relu, batch_size=50, hidden_layer_sizes=(100, 200), max_iter=20, solver=sgd -  20.7s\n",
      "[CV] activation=relu, batch_size=50, hidden_layer_sizes=(100, 200), max_iter=10, solver=sgd \n"
     ]
    },
    {
     "name": "stderr",
     "output_type": "stream",
     "text": [
      "/Users/khairallah/anaconda3/lib/python3.6/site-packages/sklearn/neural_network/multilayer_perceptron.py:564: ConvergenceWarning: Stochastic Optimizer: Maximum iterations (20) reached and the optimization hasn't converged yet.\n",
      "  % self.max_iter, ConvergenceWarning)\n"
     ]
    },
    {
     "name": "stdout",
     "output_type": "stream",
     "text": [
      "[CV]  activation=relu, batch_size=50, hidden_layer_sizes=(100, 200), max_iter=20, solver=adam -  24.1s\n",
      "[CV] activation=relu, batch_size=50, hidden_layer_sizes=(100, 200), max_iter=10, solver=sgd \n"
     ]
    },
    {
     "name": "stderr",
     "output_type": "stream",
     "text": [
      "/Users/khairallah/anaconda3/lib/python3.6/site-packages/sklearn/neural_network/multilayer_perceptron.py:564: ConvergenceWarning: Stochastic Optimizer: Maximum iterations (10) reached and the optimization hasn't converged yet.\n",
      "  % self.max_iter, ConvergenceWarning)\n"
     ]
    },
    {
     "name": "stdout",
     "output_type": "stream",
     "text": [
      "[CV]  activation=relu, batch_size=50, hidden_layer_sizes=(100, 200), max_iter=10, solver=sgd -  12.4s\n"
     ]
    },
    {
     "name": "stderr",
     "output_type": "stream",
     "text": [
      "/Users/khairallah/anaconda3/lib/python3.6/site-packages/sklearn/neural_network/multilayer_perceptron.py:564: ConvergenceWarning: Stochastic Optimizer: Maximum iterations (10) reached and the optimization hasn't converged yet.\n",
      "  % self.max_iter, ConvergenceWarning)\n"
     ]
    },
    {
     "name": "stdout",
     "output_type": "stream",
     "text": [
      "[CV]  activation=relu, batch_size=50, hidden_layer_sizes=(100, 200), max_iter=10, solver=adam -  14.3s\n"
     ]
    },
    {
     "name": "stderr",
     "output_type": "stream",
     "text": [
      "/Users/khairallah/anaconda3/lib/python3.6/site-packages/sklearn/neural_network/multilayer_perceptron.py:564: ConvergenceWarning: Stochastic Optimizer: Maximum iterations (10) reached and the optimization hasn't converged yet.\n",
      "  % self.max_iter, ConvergenceWarning)\n"
     ]
    },
    {
     "name": "stdout",
     "output_type": "stream",
     "text": [
      "[CV]  activation=relu, batch_size=50, hidden_layer_sizes=(100, 200), max_iter=10, solver=adam -  14.2s\n"
     ]
    },
    {
     "name": "stderr",
     "output_type": "stream",
     "text": [
      "/Users/khairallah/anaconda3/lib/python3.6/site-packages/sklearn/neural_network/multilayer_perceptron.py:564: ConvergenceWarning: Stochastic Optimizer: Maximum iterations (10) reached and the optimization hasn't converged yet.\n",
      "  % self.max_iter, ConvergenceWarning)\n"
     ]
    },
    {
     "name": "stdout",
     "output_type": "stream",
     "text": [
      "[CV]  activation=relu, batch_size=50, hidden_layer_sizes=(100, 200), max_iter=10, solver=sgd -  11.3s\n"
     ]
    },
    {
     "name": "stderr",
     "output_type": "stream",
     "text": [
      "[Parallel(n_jobs=-1)]: Done  64 out of  64 | elapsed:  6.4min finished\n"
     ]
    },
    {
     "name": "stdout",
     "output_type": "stream",
     "text": [
      "Best parameters set found on development set:\n",
      "\n",
      "{'activation': 'logistic', 'batch_size': 10, 'hidden_layer_sizes': (100, 200), 'max_iter': 20, 'solver': 'adam'}\n",
      "\n",
      "Grid scores on development set:\n",
      "\n",
      "0.248 (+/-0.006) for {'activation': 'logistic', 'batch_size': 10, 'hidden_layer_sizes': (10, 20), 'max_iter': 20, 'solver': 'adam'}\n",
      "0.198 (+/-0.015) for {'activation': 'logistic', 'batch_size': 10, 'hidden_layer_sizes': (10, 20), 'max_iter': 20, 'solver': 'sgd'}\n",
      "0.239 (+/-0.001) for {'activation': 'logistic', 'batch_size': 10, 'hidden_layer_sizes': (10, 20), 'max_iter': 10, 'solver': 'adam'}\n",
      "0.192 (+/-0.003) for {'activation': 'logistic', 'batch_size': 10, 'hidden_layer_sizes': (10, 20), 'max_iter': 10, 'solver': 'sgd'}\n",
      "0.264 (+/-0.003) for {'activation': 'logistic', 'batch_size': 10, 'hidden_layer_sizes': (100, 200), 'max_iter': 20, 'solver': 'adam'}\n",
      "0.193 (+/-0.022) for {'activation': 'logistic', 'batch_size': 10, 'hidden_layer_sizes': (100, 200), 'max_iter': 20, 'solver': 'sgd'}\n",
      "0.253 (+/-0.003) for {'activation': 'logistic', 'batch_size': 10, 'hidden_layer_sizes': (100, 200), 'max_iter': 10, 'solver': 'adam'}\n",
      "0.209 (+/-0.001) for {'activation': 'logistic', 'batch_size': 10, 'hidden_layer_sizes': (100, 200), 'max_iter': 10, 'solver': 'sgd'}\n",
      "0.237 (+/-0.009) for {'activation': 'logistic', 'batch_size': 50, 'hidden_layer_sizes': (10, 20), 'max_iter': 20, 'solver': 'adam'}\n",
      "0.193 (+/-0.016) for {'activation': 'logistic', 'batch_size': 50, 'hidden_layer_sizes': (10, 20), 'max_iter': 20, 'solver': 'sgd'}\n",
      "0.232 (+/-0.006) for {'activation': 'logistic', 'batch_size': 50, 'hidden_layer_sizes': (10, 20), 'max_iter': 10, 'solver': 'adam'}\n",
      "0.188 (+/-0.005) for {'activation': 'logistic', 'batch_size': 50, 'hidden_layer_sizes': (10, 20), 'max_iter': 10, 'solver': 'sgd'}\n",
      "0.249 (+/-0.001) for {'activation': 'logistic', 'batch_size': 50, 'hidden_layer_sizes': (100, 200), 'max_iter': 20, 'solver': 'adam'}\n",
      "0.190 (+/-0.000) for {'activation': 'logistic', 'batch_size': 50, 'hidden_layer_sizes': (100, 200), 'max_iter': 20, 'solver': 'sgd'}\n",
      "0.232 (+/-0.002) for {'activation': 'logistic', 'batch_size': 50, 'hidden_layer_sizes': (100, 200), 'max_iter': 10, 'solver': 'adam'}\n",
      "0.189 (+/-0.002) for {'activation': 'logistic', 'batch_size': 50, 'hidden_layer_sizes': (100, 200), 'max_iter': 10, 'solver': 'sgd'}\n",
      "0.261 (+/-0.000) for {'activation': 'relu', 'batch_size': 10, 'hidden_layer_sizes': (10, 20), 'max_iter': 20, 'solver': 'adam'}\n",
      "0.252 (+/-0.001) for {'activation': 'relu', 'batch_size': 10, 'hidden_layer_sizes': (10, 20), 'max_iter': 20, 'solver': 'sgd'}\n",
      "0.258 (+/-0.001) for {'activation': 'relu', 'batch_size': 10, 'hidden_layer_sizes': (10, 20), 'max_iter': 10, 'solver': 'adam'}\n",
      "0.245 (+/-0.010) for {'activation': 'relu', 'batch_size': 10, 'hidden_layer_sizes': (10, 20), 'max_iter': 10, 'solver': 'sgd'}\n",
      "0.251 (+/-0.004) for {'activation': 'relu', 'batch_size': 10, 'hidden_layer_sizes': (100, 200), 'max_iter': 20, 'solver': 'adam'}\n",
      "0.258 (+/-0.001) for {'activation': 'relu', 'batch_size': 10, 'hidden_layer_sizes': (100, 200), 'max_iter': 20, 'solver': 'sgd'}\n",
      "0.259 (+/-0.006) for {'activation': 'relu', 'batch_size': 10, 'hidden_layer_sizes': (100, 200), 'max_iter': 10, 'solver': 'adam'}\n",
      "0.255 (+/-0.000) for {'activation': 'relu', 'batch_size': 10, 'hidden_layer_sizes': (100, 200), 'max_iter': 10, 'solver': 'sgd'}\n",
      "0.255 (+/-0.003) for {'activation': 'relu', 'batch_size': 50, 'hidden_layer_sizes': (10, 20), 'max_iter': 20, 'solver': 'adam'}\n",
      "0.225 (+/-0.009) for {'activation': 'relu', 'batch_size': 50, 'hidden_layer_sizes': (10, 20), 'max_iter': 20, 'solver': 'sgd'}\n",
      "0.241 (+/-0.001) for {'activation': 'relu', 'batch_size': 50, 'hidden_layer_sizes': (10, 20), 'max_iter': 10, 'solver': 'adam'}\n",
      "0.216 (+/-0.001) for {'activation': 'relu', 'batch_size': 50, 'hidden_layer_sizes': (10, 20), 'max_iter': 10, 'solver': 'sgd'}\n",
      "0.256 (+/-0.005) for {'activation': 'relu', 'batch_size': 50, 'hidden_layer_sizes': (100, 200), 'max_iter': 20, 'solver': 'adam'}\n",
      "0.243 (+/-0.004) for {'activation': 'relu', 'batch_size': 50, 'hidden_layer_sizes': (100, 200), 'max_iter': 20, 'solver': 'sgd'}\n",
      "0.262 (+/-0.001) for {'activation': 'relu', 'batch_size': 50, 'hidden_layer_sizes': (100, 200), 'max_iter': 10, 'solver': 'adam'}\n",
      "0.238 (+/-0.003) for {'activation': 'relu', 'batch_size': 50, 'hidden_layer_sizes': (100, 200), 'max_iter': 10, 'solver': 'sgd'}\n",
      "\n",
      "Detailed classification report:\n",
      "\n",
      "The model is trained on the full development set.\n",
      "The scores are computed on the full evaluation set.\n",
      "\n",
      "             precision    recall  f1-score   support\n",
      "\n",
      "          0       0.36      0.36      0.36      1151\n",
      "          1       0.00      0.00      0.00       810\n",
      "          2       0.24      0.25      0.25      1371\n",
      "          3       0.22      0.30      0.25      1353\n",
      "          4       0.26      0.35      0.29      1383\n",
      "          5       0.32      0.26      0.29      1207\n",
      "\n",
      "avg / total       0.25      0.27      0.25      7275\n",
      "\n",
      "\n"
     ]
    },
    {
     "name": "stderr",
     "output_type": "stream",
     "text": [
      "/Users/khairallah/anaconda3/lib/python3.6/site-packages/sklearn/neural_network/multilayer_perceptron.py:564: ConvergenceWarning: Stochastic Optimizer: Maximum iterations (20) reached and the optimization hasn't converged yet.\n",
      "  % self.max_iter, ConvergenceWarning)\n",
      "/Users/khairallah/anaconda3/lib/python3.6/site-packages/sklearn/metrics/classification.py:1135: UndefinedMetricWarning: Precision and F-score are ill-defined and being set to 0.0 in labels with no predicted samples.\n",
      "  'precision', 'predicted', average, warn_for)\n"
     ]
    }
   ],
   "source": [
    "scores = ['accuracy_score']\n",
    "\n",
    "for score in scores:\n",
    "    print(\"# Tuning hyper-parameters for %s\" % score)\n",
    "    print()\n",
    "\n",
    "    clf = GridSearchCV(cv=2, estimator=MLPClassifier() ,param_grid=parameters,n_jobs=-1,verbose=2)\n",
    "    clf.fit(X_pop_train, Y_pop_train)\n",
    "\n",
    "    print(\"Best parameters set found on development set:\")\n",
    "    print()\n",
    "    print(clf.best_params_)\n",
    "    print()\n",
    "    print(\"Grid scores on development set:\")\n",
    "    print()\n",
    "    for params, mean_score, scores in clf.grid_scores_:\n",
    "        print(\"%0.3f (+/-%0.03f) for %r\"\n",
    "              % (mean_score, scores.std() * 2, params))\n",
    "    print()\n",
    "\n",
    "    print(\"Detailed classification report:\")\n",
    "    print()\n",
    "    print(\"The model is trained on the full development set.\")\n",
    "    print(\"The scores are computed on the full evaluation set.\")\n",
    "    print()\n",
    "    y_true, y_pred = Y_pop_val, clf.predict(X_pop_val)\n",
    "    print(classification_report(y_true, y_pred))\n",
    "    print()"
   ]
  },
  {
   "cell_type": "code",
   "execution_count": 71,
   "metadata": {
    "scrolled": true
   },
   "outputs": [
    {
     "name": "stderr",
     "output_type": "stream",
     "text": [
      "/Users/khairallah/anaconda3/lib/python3.6/site-packages/sklearn/neural_network/multilayer_perceptron.py:564: ConvergenceWarning: Stochastic Optimizer: Maximum iterations (20) reached and the optimization hasn't converged yet.\n",
      "  % self.max_iter, ConvergenceWarning)\n"
     ]
    },
    {
     "name": "stdout",
     "output_type": "stream",
     "text": [
      "L'accuracy est égal à 0.27391686826478995\n",
      "Confusion matrix, without normalization\n",
      "[[542   0 239 249 185 177]\n",
      " [279   0 224 193 185 207]\n",
      " [355   0 374 243 400 335]\n",
      " [239   0 272 390 379 399]\n",
      " [167   0 245 254 535 459]\n",
      " [110   0 157 206 445 650]]\n"
     ]
    },
    {
     "data": {
      "image/png": "[encoded data removed]",
      "text/plain": [
       "<matplotlib.figure.Figure at 0x112bd7f28>"
      ]
     },
     "metadata": {},
     "output_type": "display_data"
    }
   ],
   "source": [
    "\n",
    "clf_pop_grid = MLPClassifier(activation='logistic', alpha=1e-5, hidden_layer_sizes=(100, 200), random_state=42, learning_rate_init=0.001, solver='adam', batch_size=10, max_iter=20)\n",
    "clf_pop_grid.fit(X_pop_train,Y_pop_train)\n",
    "Y_pop_pred = clf_pop_grid.predict(X_pop_test)\n",
    "print(\"L'accuracy est égal à {}\".format(accuracy_score(Y_pop_test, Y_pop_pred)))\n",
    "\n",
    "c_pop = confusion_matrix(Y_pop_test, Y_pop_pred)\n",
    "plt.figure()\n",
    "plot_confusion_matrix(c_pop, classes=['<5','<5.5','<=6','<=6.4','<=7', '>7'],\n",
    "                      title='Confusion matrix - Exp 3 post Grid Search')\n",
    "\n"
   ]
  },
  {
   "cell_type": "markdown",
   "metadata": {},
   "source": [
    "# Expérience 5 : Classifications de la popularité en classes multiples avec Random Forest\n"
   ]
  },
  {
   "cell_type": "code",
   "execution_count": 72,
   "metadata": {},
   "outputs": [
    {
     "name": "stdout",
     "output_type": "stream",
     "text": [
      "L'accuracy est égal à 0.2787552232241038\n",
      "Confusion matrix, without normalization\n",
      "[[516  93 304 222 134 123]\n",
      " [262  69 267 199 178 113]\n",
      " [292 116 460 286 323 230]\n",
      " [213  79 337 408 368 274]\n",
      " [134  47 299 296 494 390]\n",
      " [ 96  43 181 246 414 588]]\n"
     ]
    },
    {
     "data": {
      "image/png": "[encoded data removed]",
      "text/plain": [
       "<matplotlib.figure.Figure at 0x112a905f8>"
      ]
     },
     "metadata": {},
     "output_type": "display_data"
    }
   ],
   "source": [
    "from sklearn.ensemble import RandomForestClassifier\n",
    "\n",
    "\n",
    "y = note\n",
    "X = data_pop\n",
    "X_train, X_test, y_train, y_test = train_test_split(X, y, test_size=0.2, random_state=42)\n",
    "clf = RandomForestClassifier(n_estimators=1000)\n",
    "clf.fit(X_train, y_train)\n",
    "y_pred = clf.predict(X_test)\n",
    "print(\"L'accuracy est égal à {}\".format(accuracy_score(y_test, y_pred)))\n",
    "\n",
    "cf_rf=confusion_matrix(y_test,y_pred)\n",
    "plt.figure()\n",
    "plot_confusion_matrix(cf_rf, classes=['<5','<5.5','<=6','<=6.4','<=7', '>7'],\n",
    "                      title='Confusion matrix - Exp 5 Random Forest')\n",
    "\n"
   ]
  },
  {
   "cell_type": "code",
   "execution_count": null,
   "metadata": {
    "collapsed": true
   },
   "outputs": [],
   "source": []
  },
  {
   "cell_type": "code",
   "execution_count": null,
   "metadata": {
    "collapsed": true
   },
   "outputs": [],
   "source": []
  },
  {
   "cell_type": "code",
   "execution_count": null,
   "metadata": {
    "collapsed": true
   },
   "outputs": [],
   "source": []
  }
 ],
 "metadata": {
  "kernelspec": {
   "display_name": "Python 3",
   "language": "python",
   "name": "python3"
  },
  "language_info": {
   "codemirror_mode": {
    "name": "ipython",
    "version": 3
   },
   "file_extension": ".py",
   "mimetype": "text/x-python",
   "name": "python",
   "nbconvert_exporter": "python",
   "pygments_lexer": "ipython3",
   "version": "3.6.3"
  }
 },
 "nbformat": 4,
 "nbformat_minor": 2
}
